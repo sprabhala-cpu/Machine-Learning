{
  "nbformat": 4,
  "nbformat_minor": 0,
  "metadata": {
    "colab": {
      "name": "mcqresponses.ipynb",
      "provenance": [],
      "authorship_tag": "ABX9TyPU0WZ+absBnM7brARqb/16",
      "include_colab_link": true
    },
    "kernelspec": {
      "name": "python3",
      "display_name": "Python 3"
    },
    "language_info": {
      "name": "python"
    }
  },
  "cells": [
    {
      "cell_type": "markdown",
      "metadata": {
        "id": "view-in-github",
        "colab_type": "text"
      },
      "source": [
        "<a href=\"https://colab.research.google.com/github/sprabhala-cpu/Machine-Learning/blob/main/mcqresponses.ipynb\" target=\"_parent\"><img src=\"https://colab.research.google.com/assets/colab-badge.svg\" alt=\"Open In Colab\"/></a>"
      ]
    },
    {
      "cell_type": "code",
      "metadata": {
        "colab": {
          "base_uri": "https://localhost:8080/"
        },
        "id": "6iJb9K-8B2Hg",
        "outputId": "65523d9f-09d2-450e-bf1a-b57b12d8b259"
      },
      "source": [
        "!wget 'https://github.com/tulip-lab/sit742/raw/master/Assessment/2020/data/MCQResponses.csv'\n",
        "!wget 'https://github.com/tulip-lab/sit742/raw/master/Assessment/2020/data/ConversionRates.csv'"
      ],
      "execution_count": 1,
      "outputs": [
        {
          "output_type": "stream",
          "text": [
            "--2021-05-12 14:43:37--  https://github.com/tulip-lab/sit742/raw/master/Assessment/2020/data/MCQResponses.csv\n",
            "Resolving github.com (github.com)... 140.82.114.3\n",
            "Connecting to github.com (github.com)|140.82.114.3|:443... connected.\n",
            "HTTP request sent, awaiting response... 302 Found\n",
            "Location: https://raw.githubusercontent.com/tulip-lab/sit742/master/Assessment/2020/data/MCQResponses.csv [following]\n",
            "--2021-05-12 14:43:37--  https://raw.githubusercontent.com/tulip-lab/sit742/master/Assessment/2020/data/MCQResponses.csv\n",
            "Resolving raw.githubusercontent.com (raw.githubusercontent.com)... 185.199.108.133, 185.199.109.133, 185.199.110.133, ...\n",
            "Connecting to raw.githubusercontent.com (raw.githubusercontent.com)|185.199.108.133|:443... connected.\n",
            "HTTP request sent, awaiting response... 200 OK\n",
            "Length: 1018741 (995K) [text/plain]\n",
            "Saving to: ‘MCQResponses.csv’\n",
            "\n",
            "MCQResponses.csv    100%[===================>] 994.86K  --.-KB/s    in 0.02s   \n",
            "\n",
            "2021-05-12 14:43:37 (43.0 MB/s) - ‘MCQResponses.csv’ saved [1018741/1018741]\n",
            "\n",
            "--2021-05-12 14:43:37--  https://github.com/tulip-lab/sit742/raw/master/Assessment/2020/data/ConversionRates.csv\n",
            "Resolving github.com (github.com)... 140.82.114.4\n",
            "Connecting to github.com (github.com)|140.82.114.4|:443... connected.\n",
            "HTTP request sent, awaiting response... 302 Found\n",
            "Location: https://raw.githubusercontent.com/tulip-lab/sit742/master/Assessment/2020/data/ConversionRates.csv [following]\n",
            "--2021-05-12 14:43:37--  https://raw.githubusercontent.com/tulip-lab/sit742/master/Assessment/2020/data/ConversionRates.csv\n",
            "Resolving raw.githubusercontent.com (raw.githubusercontent.com)... 185.199.109.133, 185.199.110.133, 185.199.111.133, ...\n",
            "Connecting to raw.githubusercontent.com (raw.githubusercontent.com)|185.199.109.133|:443... connected.\n",
            "HTTP request sent, awaiting response... 200 OK\n",
            "Length: 1877 (1.8K) [text/plain]\n",
            "Saving to: ‘ConversionRates.csv’\n",
            "\n",
            "ConversionRates.csv 100%[===================>]   1.83K  --.-KB/s    in 0s      \n",
            "\n",
            "2021-05-12 14:43:38 (24.2 MB/s) - ‘ConversionRates.csv’ saved [1877/1877]\n",
            "\n"
          ],
          "name": "stdout"
        }
      ]
    },
    {
      "cell_type": "code",
      "metadata": {
        "id": "PhQ1c32jCEFA"
      },
      "source": [
        "import pandas as pd\n",
        "data=pd.read_csv('/content/MCQResponses.csv')"
      ],
      "execution_count": 3,
      "outputs": []
    },
    {
      "cell_type": "code",
      "metadata": {
        "colab": {
          "base_uri": "https://localhost:8080/"
        },
        "id": "HVgf7UYYCQEk",
        "outputId": "2f451e2e-c9f2-43cd-9039-dfcb47693b0a"
      },
      "source": [
        "data.info()"
      ],
      "execution_count": 5,
      "outputs": [
        {
          "output_type": "stream",
          "text": [
            "<class 'pandas.core.frame.DataFrame'>\n",
            "RangeIndex: 4327 entries, 0 to 4326\n",
            "Data columns (total 17 columns):\n",
            " #   Column                        Non-Null Count  Dtype  \n",
            "---  ------                        --------------  -----  \n",
            " 0   GenderSelect                  4327 non-null   object \n",
            " 1   Country                       4327 non-null   object \n",
            " 2   Age                           4327 non-null   int64  \n",
            " 3   EmploymentStatus              4327 non-null   object \n",
            " 4   CodeWriter                    4327 non-null   object \n",
            " 5   CurrentJobTitleSelect         4327 non-null   object \n",
            " 6   TitleFit                      4251 non-null   object \n",
            " 7   CurrentEmployerType           4275 non-null   object \n",
            " 8   MLToolNextYearSelect          4206 non-null   object \n",
            " 9   MLMethodNextYearSelect        4170 non-null   object \n",
            " 10  LanguageRecommendationSelect  4228 non-null   object \n",
            " 11  FormalEducation               4327 non-null   object \n",
            " 12  MajorSelect                   3952 non-null   object \n",
            " 13  FirstTrainingSelect           4324 non-null   object \n",
            " 14  CompensationAmount            4327 non-null   float64\n",
            " 15  CompensationCurrency          4327 non-null   object \n",
            " 16  JobSatisfaction               4317 non-null   object \n",
            "dtypes: float64(1), int64(1), object(15)\n",
            "memory usage: 574.8+ KB\n"
          ],
          "name": "stdout"
        }
      ]
    },
    {
      "cell_type": "code",
      "metadata": {
        "colab": {
          "base_uri": "https://localhost:8080/",
          "height": 284
        },
        "id": "OsXsgq7NCT7f",
        "outputId": "e82e997a-f130-41e8-f958-6fe189074314"
      },
      "source": [
        "#statistics\n",
        "data.describe()"
      ],
      "execution_count": 6,
      "outputs": [
        {
          "output_type": "execute_result",
          "data": {
            "text/html": [
              "<div>\n",
              "<style scoped>\n",
              "    .dataframe tbody tr th:only-of-type {\n",
              "        vertical-align: middle;\n",
              "    }\n",
              "\n",
              "    .dataframe tbody tr th {\n",
              "        vertical-align: top;\n",
              "    }\n",
              "\n",
              "    .dataframe thead th {\n",
              "        text-align: right;\n",
              "    }\n",
              "</style>\n",
              "<table border=\"1\" class=\"dataframe\">\n",
              "  <thead>\n",
              "    <tr style=\"text-align: right;\">\n",
              "      <th></th>\n",
              "      <th>Age</th>\n",
              "      <th>CompensationAmount</th>\n",
              "    </tr>\n",
              "  </thead>\n",
              "  <tbody>\n",
              "    <tr>\n",
              "      <th>count</th>\n",
              "      <td>4327.000000</td>\n",
              "      <td>4.327000e+03</td>\n",
              "    </tr>\n",
              "    <tr>\n",
              "      <th>mean</th>\n",
              "      <td>34.129651</td>\n",
              "      <td>2.891714e+06</td>\n",
              "    </tr>\n",
              "    <tr>\n",
              "      <th>std</th>\n",
              "      <td>9.476011</td>\n",
              "      <td>2.946122e+07</td>\n",
              "    </tr>\n",
              "    <tr>\n",
              "      <th>min</th>\n",
              "      <td>0.000000</td>\n",
              "      <td>1.090000e+01</td>\n",
              "    </tr>\n",
              "    <tr>\n",
              "      <th>25%</th>\n",
              "      <td>27.000000</td>\n",
              "      <td>5.000000e+04</td>\n",
              "    </tr>\n",
              "    <tr>\n",
              "      <th>50%</th>\n",
              "      <td>32.000000</td>\n",
              "      <td>1.000000e+05</td>\n",
              "    </tr>\n",
              "    <tr>\n",
              "      <th>75%</th>\n",
              "      <td>39.000000</td>\n",
              "      <td>2.200000e+05</td>\n",
              "    </tr>\n",
              "    <tr>\n",
              "      <th>max</th>\n",
              "      <td>99.000000</td>\n",
              "      <td>8.000000e+08</td>\n",
              "    </tr>\n",
              "  </tbody>\n",
              "</table>\n",
              "</div>"
            ],
            "text/plain": [
              "               Age  CompensationAmount\n",
              "count  4327.000000        4.327000e+03\n",
              "mean     34.129651        2.891714e+06\n",
              "std       9.476011        2.946122e+07\n",
              "min       0.000000        1.090000e+01\n",
              "25%      27.000000        5.000000e+04\n",
              "50%      32.000000        1.000000e+05\n",
              "75%      39.000000        2.200000e+05\n",
              "max      99.000000        8.000000e+08"
            ]
          },
          "metadata": {
            "tags": []
          },
          "execution_count": 6
        }
      ]
    },
    {
      "cell_type": "code",
      "metadata": {
        "colab": {
          "base_uri": "https://localhost:8080/"
        },
        "id": "S1larl3RCgBV",
        "outputId": "886ce245-534f-4556-81fc-e86e4b9f87f4"
      },
      "source": [
        "print(data.isnull().any())\n",
        "print(' ')\n",
        "print(data.isnull().sum())\n",
        "print('')\n",
        "print(data.notnull().sum())"
      ],
      "execution_count": 11,
      "outputs": [
        {
          "output_type": "stream",
          "text": [
            "GenderSelect                    False\n",
            "Country                         False\n",
            "Age                             False\n",
            "EmploymentStatus                False\n",
            "CodeWriter                      False\n",
            "CurrentJobTitleSelect           False\n",
            "TitleFit                         True\n",
            "CurrentEmployerType              True\n",
            "MLToolNextYearSelect             True\n",
            "MLMethodNextYearSelect           True\n",
            "LanguageRecommendationSelect     True\n",
            "FormalEducation                 False\n",
            "MajorSelect                      True\n",
            "FirstTrainingSelect              True\n",
            "CompensationAmount              False\n",
            "CompensationCurrency            False\n",
            "JobSatisfaction                  True\n",
            "dtype: bool\n",
            " \n",
            "GenderSelect                      0\n",
            "Country                           0\n",
            "Age                               0\n",
            "EmploymentStatus                  0\n",
            "CodeWriter                        0\n",
            "CurrentJobTitleSelect             0\n",
            "TitleFit                         76\n",
            "CurrentEmployerType              52\n",
            "MLToolNextYearSelect            121\n",
            "MLMethodNextYearSelect          157\n",
            "LanguageRecommendationSelect     99\n",
            "FormalEducation                   0\n",
            "MajorSelect                     375\n",
            "FirstTrainingSelect               3\n",
            "CompensationAmount                0\n",
            "CompensationCurrency              0\n",
            "JobSatisfaction                  10\n",
            "dtype: int64\n",
            "\n",
            "GenderSelect                    4327\n",
            "Country                         4327\n",
            "Age                             4327\n",
            "EmploymentStatus                4327\n",
            "CodeWriter                      4327\n",
            "CurrentJobTitleSelect           4327\n",
            "TitleFit                        4251\n",
            "CurrentEmployerType             4275\n",
            "MLToolNextYearSelect            4206\n",
            "MLMethodNextYearSelect          4170\n",
            "LanguageRecommendationSelect    4228\n",
            "FormalEducation                 4327\n",
            "MajorSelect                     3952\n",
            "FirstTrainingSelect             4324\n",
            "CompensationAmount              4327\n",
            "CompensationCurrency            4327\n",
            "JobSatisfaction                 4317\n",
            "dtype: int64\n"
          ],
          "name": "stdout"
        }
      ]
    },
    {
      "cell_type": "code",
      "metadata": {
        "colab": {
          "base_uri": "https://localhost:8080/",
          "height": 383
        },
        "id": "n1eb3nyICs3d",
        "outputId": "c0aaf2f1-0085-4216-ef3f-c6720c884b34"
      },
      "source": [
        "df_demog_ds=data.loc[data['CurrentJobTitleSelect']=='Data Scientist']\n",
        "#selecting job title data scientist"
      ],
      "execution_count": 13,
      "outputs": [
        {
          "output_type": "execute_result",
          "data": {
            "text/html": [
              "<div>\n",
              "<style scoped>\n",
              "    .dataframe tbody tr th:only-of-type {\n",
              "        vertical-align: middle;\n",
              "    }\n",
              "\n",
              "    .dataframe tbody tr th {\n",
              "        vertical-align: top;\n",
              "    }\n",
              "\n",
              "    .dataframe thead th {\n",
              "        text-align: right;\n",
              "    }\n",
              "</style>\n",
              "<table border=\"1\" class=\"dataframe\">\n",
              "  <thead>\n",
              "    <tr style=\"text-align: right;\">\n",
              "      <th></th>\n",
              "      <th>GenderSelect</th>\n",
              "      <th>Country</th>\n",
              "      <th>Age</th>\n",
              "      <th>EmploymentStatus</th>\n",
              "      <th>CodeWriter</th>\n",
              "      <th>CurrentJobTitleSelect</th>\n",
              "      <th>TitleFit</th>\n",
              "      <th>CurrentEmployerType</th>\n",
              "      <th>MLToolNextYearSelect</th>\n",
              "      <th>MLMethodNextYearSelect</th>\n",
              "      <th>LanguageRecommendationSelect</th>\n",
              "      <th>FormalEducation</th>\n",
              "      <th>MajorSelect</th>\n",
              "      <th>FirstTrainingSelect</th>\n",
              "      <th>CompensationAmount</th>\n",
              "      <th>CompensationCurrency</th>\n",
              "      <th>JobSatisfaction</th>\n",
              "    </tr>\n",
              "  </thead>\n",
              "  <tbody>\n",
              "    <tr>\n",
              "      <th>0</th>\n",
              "      <td>Male</td>\n",
              "      <td>United States</td>\n",
              "      <td>56</td>\n",
              "      <td>Independent contractor, freelancer, or self-em...</td>\n",
              "      <td>Yes</td>\n",
              "      <td>Operations Research Practitioner</td>\n",
              "      <td>Poorly</td>\n",
              "      <td>Self-employed</td>\n",
              "      <td>TensorFlow</td>\n",
              "      <td>Neural Nets</td>\n",
              "      <td>Python</td>\n",
              "      <td>Master's degree</td>\n",
              "      <td>Mathematics or statistics</td>\n",
              "      <td>University courses</td>\n",
              "      <td>250000.0</td>\n",
              "      <td>USD</td>\n",
              "      <td>10 - Highly Satisfied</td>\n",
              "    </tr>\n",
              "    <tr>\n",
              "      <th>1</th>\n",
              "      <td>Female</td>\n",
              "      <td>Australia</td>\n",
              "      <td>43</td>\n",
              "      <td>Employed full-time</td>\n",
              "      <td>Yes</td>\n",
              "      <td>Business Analyst</td>\n",
              "      <td>Fine</td>\n",
              "      <td>Employed by non-profit or NGO</td>\n",
              "      <td>Microsoft Excel Data Mining</td>\n",
              "      <td>Link Analysis</td>\n",
              "      <td>Python</td>\n",
              "      <td>Bachelor's degree</td>\n",
              "      <td>NaN</td>\n",
              "      <td>Work</td>\n",
              "      <td>80000.0</td>\n",
              "      <td>AUD</td>\n",
              "      <td>7</td>\n",
              "    </tr>\n",
              "    <tr>\n",
              "      <th>2</th>\n",
              "      <td>Male</td>\n",
              "      <td>Russia</td>\n",
              "      <td>33</td>\n",
              "      <td>Employed full-time</td>\n",
              "      <td>Yes</td>\n",
              "      <td>Software Developer/Software Engineer</td>\n",
              "      <td>Fine</td>\n",
              "      <td>Employed by a company that doesn't perform adv...</td>\n",
              "      <td>C/C++</td>\n",
              "      <td>Deep learning</td>\n",
              "      <td>Python</td>\n",
              "      <td>Bachelor's degree</td>\n",
              "      <td>Other</td>\n",
              "      <td>Self-taught</td>\n",
              "      <td>1200000.0</td>\n",
              "      <td>RUB</td>\n",
              "      <td>7</td>\n",
              "    </tr>\n",
              "    <tr>\n",
              "      <th>3</th>\n",
              "      <td>Male</td>\n",
              "      <td>India</td>\n",
              "      <td>27</td>\n",
              "      <td>Employed full-time</td>\n",
              "      <td>Yes</td>\n",
              "      <td>Data Scientist</td>\n",
              "      <td>Fine</td>\n",
              "      <td>Employed by professional services/consulting f...</td>\n",
              "      <td>Other</td>\n",
              "      <td>Deep learning</td>\n",
              "      <td>Python</td>\n",
              "      <td>Bachelor's degree</td>\n",
              "      <td>Electrical Engineering</td>\n",
              "      <td>University courses</td>\n",
              "      <td>95000.0</td>\n",
              "      <td>INR</td>\n",
              "      <td>7</td>\n",
              "    </tr>\n",
              "    <tr>\n",
              "      <th>4</th>\n",
              "      <td>Male</td>\n",
              "      <td>Taiwan</td>\n",
              "      <td>26</td>\n",
              "      <td>Employed full-time</td>\n",
              "      <td>Yes</td>\n",
              "      <td>Software Developer/Software Engineer</td>\n",
              "      <td>Fine</td>\n",
              "      <td>Employed by professional services/consulting firm</td>\n",
              "      <td>TensorFlow</td>\n",
              "      <td>Deep learning</td>\n",
              "      <td>Python</td>\n",
              "      <td>Master's degree</td>\n",
              "      <td>Computer Science</td>\n",
              "      <td>Online courses (coursera, udemy, edx, etc.)</td>\n",
              "      <td>1100000.0</td>\n",
              "      <td>TWD</td>\n",
              "      <td>5</td>\n",
              "    </tr>\n",
              "  </tbody>\n",
              "</table>\n",
              "</div>"
            ],
            "text/plain": [
              "  GenderSelect        Country  ...  CompensationCurrency        JobSatisfaction\n",
              "0         Male  United States  ...                   USD  10 - Highly Satisfied\n",
              "1       Female      Australia  ...                   AUD                      7\n",
              "2         Male         Russia  ...                   RUB                      7\n",
              "3         Male          India  ...                   INR                      7\n",
              "4         Male         Taiwan  ...                   TWD                      5\n",
              "\n",
              "[5 rows x 17 columns]"
            ]
          },
          "metadata": {
            "tags": []
          },
          "execution_count": 13
        }
      ]
    },
    {
      "cell_type": "code",
      "metadata": {
        "colab": {
          "base_uri": "https://localhost:8080/"
        },
        "id": "dddKGapfDdZl",
        "outputId": "4cd16854-e96c-42f8-f57e-03cd1275a73a"
      },
      "source": [
        "print(df_demog_ds['FormalEducation'].value_counts())\n",
        "print(' ')\n",
        "print(df_demog_ds['FormalEducation'].value_counts()/len(df_demog_ds)*100)"
      ],
      "execution_count": 20,
      "outputs": [
        {
          "output_type": "stream",
          "text": [
            "Master's degree                                                      635\n",
            "Doctoral degree                                                      326\n",
            "Bachelor's degree                                                    252\n",
            "Professional degree                                                   25\n",
            "Some college/university study without earning a bachelor's degree     19\n",
            "I did not complete any formal education past high school               6\n",
            "Name: FormalEducation, dtype: int64\n",
            " \n",
            "Master's degree                                                      50.277118\n",
            "Doctoral degree                                                      25.811560\n",
            "Bachelor's degree                                                    19.952494\n",
            "Professional degree                                                   1.979414\n",
            "Some college/university study without earning a bachelor's degree     1.504355\n",
            "I did not complete any formal education past high school              0.475059\n",
            "Name: FormalEducation, dtype: float64\n"
          ],
          "name": "stdout"
        }
      ]
    },
    {
      "cell_type": "code",
      "metadata": {
        "colab": {
          "base_uri": "https://localhost:8080/",
          "height": 225
        },
        "id": "aLWR026oDrcv",
        "outputId": "bfe9feca-1f99-43b8-b724-d2afebff441f"
      },
      "source": [
        "import matplotlib.pyplot as plt\n",
        "education=pd.DataFrame(df_demog_ds['FormalEducation'].value_counts())\n",
        "education"
      ],
      "execution_count": 37,
      "outputs": [
        {
          "output_type": "execute_result",
          "data": {
            "text/html": [
              "<div>\n",
              "<style scoped>\n",
              "    .dataframe tbody tr th:only-of-type {\n",
              "        vertical-align: middle;\n",
              "    }\n",
              "\n",
              "    .dataframe tbody tr th {\n",
              "        vertical-align: top;\n",
              "    }\n",
              "\n",
              "    .dataframe thead th {\n",
              "        text-align: right;\n",
              "    }\n",
              "</style>\n",
              "<table border=\"1\" class=\"dataframe\">\n",
              "  <thead>\n",
              "    <tr style=\"text-align: right;\">\n",
              "      <th></th>\n",
              "      <th>FormalEducation</th>\n",
              "    </tr>\n",
              "  </thead>\n",
              "  <tbody>\n",
              "    <tr>\n",
              "      <th>Master's degree</th>\n",
              "      <td>635</td>\n",
              "    </tr>\n",
              "    <tr>\n",
              "      <th>Doctoral degree</th>\n",
              "      <td>326</td>\n",
              "    </tr>\n",
              "    <tr>\n",
              "      <th>Bachelor's degree</th>\n",
              "      <td>252</td>\n",
              "    </tr>\n",
              "    <tr>\n",
              "      <th>Professional degree</th>\n",
              "      <td>25</td>\n",
              "    </tr>\n",
              "    <tr>\n",
              "      <th>Some college/university study without earning a bachelor's degree</th>\n",
              "      <td>19</td>\n",
              "    </tr>\n",
              "    <tr>\n",
              "      <th>I did not complete any formal education past high school</th>\n",
              "      <td>6</td>\n",
              "    </tr>\n",
              "  </tbody>\n",
              "</table>\n",
              "</div>"
            ],
            "text/plain": [
              "                                                    FormalEducation\n",
              "Master's degree                                                 635\n",
              "Doctoral degree                                                 326\n",
              "Bachelor's degree                                               252\n",
              "Professional degree                                              25\n",
              "Some college/university study without earning a...               19\n",
              "I did not complete any formal education past hi...                6"
            ]
          },
          "metadata": {
            "tags": []
          },
          "execution_count": 37
        }
      ]
    },
    {
      "cell_type": "code",
      "metadata": {
        "colab": {
          "base_uri": "https://localhost:8080/",
          "height": 282
        },
        "id": "jns7rQPWEe2K",
        "outputId": "a79b345e-d097-4226-bf46-d3bdde3a9dec"
      },
      "source": [
        "(df_demog_ds['FormalEducation'].value_counts()).sort_values().plot(kind = 'barh')"
      ],
      "execution_count": 49,
      "outputs": [
        {
          "output_type": "execute_result",
          "data": {
            "text/plain": [
              "<matplotlib.axes._subplots.AxesSubplot at 0x7f4428cf2210>"
            ]
          },
          "metadata": {
            "tags": []
          },
          "execution_count": 49
        },
        {
          "output_type": "display_data",
          "data": {
            "image/png": "[encoded data removed]",
            "text/plain": [
              "<Figure size 432x288 with 1 Axes>"
            ]
          },
          "metadata": {
            "tags": [],
            "needs_background": "light"
          }
        }
      ]
    },
    {
      "cell_type": "code",
      "metadata": {
        "id": "9LHpmmOTE8Pu"
      },
      "source": [
        "conversion_df=pd.read_csv('/content/ConversionRates.csv')\n"
      ],
      "execution_count": 50,
      "outputs": []
    },
    {
      "cell_type": "code",
      "metadata": {
        "id": "0zixrTFzGRlj"
      },
      "source": [
        "conversion_df.drop('Unnamed: 0',axis=1,inplace=True)"
      ],
      "execution_count": 53,
      "outputs": []
    },
    {
      "cell_type": "code",
      "metadata": {
        "colab": {
          "base_uri": "https://localhost:8080/",
          "height": 402
        },
        "id": "zwfSleqmHxTO",
        "outputId": "0cfdad1c-8b5f-4fef-d308-76184e420d90"
      },
      "source": [
        "conversion_df"
      ],
      "execution_count": 54,
      "outputs": [
        {
          "output_type": "execute_result",
          "data": {
            "text/html": [
              "<div>\n",
              "<style scoped>\n",
              "    .dataframe tbody tr th:only-of-type {\n",
              "        vertical-align: middle;\n",
              "    }\n",
              "\n",
              "    .dataframe tbody tr th {\n",
              "        vertical-align: top;\n",
              "    }\n",
              "\n",
              "    .dataframe thead th {\n",
              "        text-align: right;\n",
              "    }\n",
              "</style>\n",
              "<table border=\"1\" class=\"dataframe\">\n",
              "  <thead>\n",
              "    <tr style=\"text-align: right;\">\n",
              "      <th></th>\n",
              "      <th>originCountry</th>\n",
              "      <th>exchangeRate</th>\n",
              "    </tr>\n",
              "  </thead>\n",
              "  <tbody>\n",
              "    <tr>\n",
              "      <th>0</th>\n",
              "      <td>USD</td>\n",
              "      <td>1.000000</td>\n",
              "    </tr>\n",
              "    <tr>\n",
              "      <th>1</th>\n",
              "      <td>EUR</td>\n",
              "      <td>1.195826</td>\n",
              "    </tr>\n",
              "    <tr>\n",
              "      <th>2</th>\n",
              "      <td>INR</td>\n",
              "      <td>0.015620</td>\n",
              "    </tr>\n",
              "    <tr>\n",
              "      <th>3</th>\n",
              "      <td>GBP</td>\n",
              "      <td>1.324188</td>\n",
              "    </tr>\n",
              "    <tr>\n",
              "      <th>4</th>\n",
              "      <td>BRL</td>\n",
              "      <td>0.321350</td>\n",
              "    </tr>\n",
              "    <tr>\n",
              "      <th>...</th>\n",
              "      <td>...</td>\n",
              "      <td>...</td>\n",
              "    </tr>\n",
              "    <tr>\n",
              "      <th>81</th>\n",
              "      <td>SVC</td>\n",
              "      <td>0.114124</td>\n",
              "    </tr>\n",
              "    <tr>\n",
              "      <th>82</th>\n",
              "      <td>SZL</td>\n",
              "      <td>0.077002</td>\n",
              "    </tr>\n",
              "    <tr>\n",
              "      <th>83</th>\n",
              "      <td>UYU</td>\n",
              "      <td>0.034642</td>\n",
              "    </tr>\n",
              "    <tr>\n",
              "      <th>84</th>\n",
              "      <td>XAF</td>\n",
              "      <td>0.001823</td>\n",
              "    </tr>\n",
              "    <tr>\n",
              "      <th>85</th>\n",
              "      <td>YER</td>\n",
              "      <td>0.003996</td>\n",
              "    </tr>\n",
              "  </tbody>\n",
              "</table>\n",
              "<p>86 rows × 2 columns</p>\n",
              "</div>"
            ],
            "text/plain": [
              "   originCountry  exchangeRate\n",
              "0            USD      1.000000\n",
              "1            EUR      1.195826\n",
              "2            INR      0.015620\n",
              "3            GBP      1.324188\n",
              "4            BRL      0.321350\n",
              "..           ...           ...\n",
              "81           SVC      0.114124\n",
              "82           SZL      0.077002\n",
              "83           UYU      0.034642\n",
              "84           XAF      0.001823\n",
              "85           YER      0.003996\n",
              "\n",
              "[86 rows x 2 columns]"
            ]
          },
          "metadata": {
            "tags": []
          },
          "execution_count": 54
        }
      ]
    },
    {
      "cell_type": "code",
      "metadata": {
        "colab": {
          "base_uri": "https://localhost:8080/",
          "height": 274
        },
        "id": "FHMHnuLwH7Xk",
        "outputId": "0bd7a9ce-eeb4-4e68-9905-f6569bf7409e"
      },
      "source": [
        "df_demog_ds.head(3)"
      ],
      "execution_count": 55,
      "outputs": [
        {
          "output_type": "execute_result",
          "data": {
            "text/html": [
              "<div>\n",
              "<style scoped>\n",
              "    .dataframe tbody tr th:only-of-type {\n",
              "        vertical-align: middle;\n",
              "    }\n",
              "\n",
              "    .dataframe tbody tr th {\n",
              "        vertical-align: top;\n",
              "    }\n",
              "\n",
              "    .dataframe thead th {\n",
              "        text-align: right;\n",
              "    }\n",
              "</style>\n",
              "<table border=\"1\" class=\"dataframe\">\n",
              "  <thead>\n",
              "    <tr style=\"text-align: right;\">\n",
              "      <th></th>\n",
              "      <th>GenderSelect</th>\n",
              "      <th>Country</th>\n",
              "      <th>Age</th>\n",
              "      <th>EmploymentStatus</th>\n",
              "      <th>CodeWriter</th>\n",
              "      <th>CurrentJobTitleSelect</th>\n",
              "      <th>TitleFit</th>\n",
              "      <th>CurrentEmployerType</th>\n",
              "      <th>MLToolNextYearSelect</th>\n",
              "      <th>MLMethodNextYearSelect</th>\n",
              "      <th>LanguageRecommendationSelect</th>\n",
              "      <th>FormalEducation</th>\n",
              "      <th>MajorSelect</th>\n",
              "      <th>FirstTrainingSelect</th>\n",
              "      <th>CompensationAmount</th>\n",
              "      <th>CompensationCurrency</th>\n",
              "      <th>JobSatisfaction</th>\n",
              "    </tr>\n",
              "  </thead>\n",
              "  <tbody>\n",
              "    <tr>\n",
              "      <th>3</th>\n",
              "      <td>Male</td>\n",
              "      <td>India</td>\n",
              "      <td>27</td>\n",
              "      <td>Employed full-time</td>\n",
              "      <td>Yes</td>\n",
              "      <td>Data Scientist</td>\n",
              "      <td>Fine</td>\n",
              "      <td>Employed by professional services/consulting f...</td>\n",
              "      <td>Other</td>\n",
              "      <td>Deep learning</td>\n",
              "      <td>Python</td>\n",
              "      <td>Bachelor's degree</td>\n",
              "      <td>Electrical Engineering</td>\n",
              "      <td>University courses</td>\n",
              "      <td>95000.0</td>\n",
              "      <td>INR</td>\n",
              "      <td>7</td>\n",
              "    </tr>\n",
              "    <tr>\n",
              "      <th>9</th>\n",
              "      <td>Male</td>\n",
              "      <td>Colombia</td>\n",
              "      <td>34</td>\n",
              "      <td>Employed full-time</td>\n",
              "      <td>Yes</td>\n",
              "      <td>Data Scientist</td>\n",
              "      <td>Fine</td>\n",
              "      <td>Employed by a company that doesn't perform adv...</td>\n",
              "      <td>Spark / MLlib</td>\n",
              "      <td>Ensemble Methods (e.g. boosting, bagging)</td>\n",
              "      <td>Python</td>\n",
              "      <td>Master's degree</td>\n",
              "      <td>Computer Science</td>\n",
              "      <td>Online courses (coursera, udemy, edx, etc.)</td>\n",
              "      <td>156000000.0</td>\n",
              "      <td>COP</td>\n",
              "      <td>9</td>\n",
              "    </tr>\n",
              "    <tr>\n",
              "      <th>10</th>\n",
              "      <td>Male</td>\n",
              "      <td>Germany</td>\n",
              "      <td>41</td>\n",
              "      <td>Independent contractor, freelancer, or self-em...</td>\n",
              "      <td>Yes</td>\n",
              "      <td>Data Scientist</td>\n",
              "      <td>Fine</td>\n",
              "      <td>Self-employed</td>\n",
              "      <td>I don't plan on learning a new tool/technology</td>\n",
              "      <td>Factor Analysis</td>\n",
              "      <td>Python</td>\n",
              "      <td>I did not complete any formal education past h...</td>\n",
              "      <td>NaN</td>\n",
              "      <td>Work</td>\n",
              "      <td>150000.0</td>\n",
              "      <td>EUR</td>\n",
              "      <td>8</td>\n",
              "    </tr>\n",
              "  </tbody>\n",
              "</table>\n",
              "</div>"
            ],
            "text/plain": [
              "   GenderSelect   Country  ...  CompensationCurrency JobSatisfaction\n",
              "3          Male     India  ...                   INR               7\n",
              "9          Male  Colombia  ...                   COP               9\n",
              "10         Male   Germany  ...                   EUR               8\n",
              "\n",
              "[3 rows x 17 columns]"
            ]
          },
          "metadata": {
            "tags": []
          },
          "execution_count": 55
        }
      ]
    },
    {
      "cell_type": "code",
      "metadata": {
        "id": "IhKT2kSuH_ky"
      },
      "source": [
        "salary_df=pd.merge(df_demog_ds,conversion_df,left_on='CompensationCurrency',right_on='originCountry',how='inner')"
      ],
      "execution_count": 56,
      "outputs": []
    },
    {
      "cell_type": "code",
      "metadata": {
        "colab": {
          "base_uri": "https://localhost:8080/",
          "height": 194
        },
        "id": "mIQxlNFNId3W",
        "outputId": "354dd955-63cf-4698-f9c4-2b1afb5aea5d"
      },
      "source": [
        "salary_df.head(2)"
      ],
      "execution_count": 57,
      "outputs": [
        {
          "output_type": "execute_result",
          "data": {
            "text/html": [
              "<div>\n",
              "<style scoped>\n",
              "    .dataframe tbody tr th:only-of-type {\n",
              "        vertical-align: middle;\n",
              "    }\n",
              "\n",
              "    .dataframe tbody tr th {\n",
              "        vertical-align: top;\n",
              "    }\n",
              "\n",
              "    .dataframe thead th {\n",
              "        text-align: right;\n",
              "    }\n",
              "</style>\n",
              "<table border=\"1\" class=\"dataframe\">\n",
              "  <thead>\n",
              "    <tr style=\"text-align: right;\">\n",
              "      <th></th>\n",
              "      <th>GenderSelect</th>\n",
              "      <th>Country</th>\n",
              "      <th>Age</th>\n",
              "      <th>EmploymentStatus</th>\n",
              "      <th>CodeWriter</th>\n",
              "      <th>CurrentJobTitleSelect</th>\n",
              "      <th>TitleFit</th>\n",
              "      <th>CurrentEmployerType</th>\n",
              "      <th>MLToolNextYearSelect</th>\n",
              "      <th>MLMethodNextYearSelect</th>\n",
              "      <th>LanguageRecommendationSelect</th>\n",
              "      <th>FormalEducation</th>\n",
              "      <th>MajorSelect</th>\n",
              "      <th>FirstTrainingSelect</th>\n",
              "      <th>CompensationAmount</th>\n",
              "      <th>CompensationCurrency</th>\n",
              "      <th>JobSatisfaction</th>\n",
              "      <th>originCountry</th>\n",
              "      <th>exchangeRate</th>\n",
              "    </tr>\n",
              "  </thead>\n",
              "  <tbody>\n",
              "    <tr>\n",
              "      <th>0</th>\n",
              "      <td>Male</td>\n",
              "      <td>India</td>\n",
              "      <td>27</td>\n",
              "      <td>Employed full-time</td>\n",
              "      <td>Yes</td>\n",
              "      <td>Data Scientist</td>\n",
              "      <td>Fine</td>\n",
              "      <td>Employed by professional services/consulting f...</td>\n",
              "      <td>Other</td>\n",
              "      <td>Deep learning</td>\n",
              "      <td>Python</td>\n",
              "      <td>Bachelor's degree</td>\n",
              "      <td>Electrical Engineering</td>\n",
              "      <td>University courses</td>\n",
              "      <td>95000.0</td>\n",
              "      <td>INR</td>\n",
              "      <td>7</td>\n",
              "      <td>INR</td>\n",
              "      <td>0.01562</td>\n",
              "    </tr>\n",
              "    <tr>\n",
              "      <th>1</th>\n",
              "      <td>Male</td>\n",
              "      <td>India</td>\n",
              "      <td>29</td>\n",
              "      <td>Employed full-time</td>\n",
              "      <td>Yes</td>\n",
              "      <td>Data Scientist</td>\n",
              "      <td>Perfectly</td>\n",
              "      <td>Employed by a company that performs advanced a...</td>\n",
              "      <td>Python</td>\n",
              "      <td>Bayesian Methods</td>\n",
              "      <td>R</td>\n",
              "      <td>Master's degree</td>\n",
              "      <td>Computer Science</td>\n",
              "      <td>University courses</td>\n",
              "      <td>120000.0</td>\n",
              "      <td>INR</td>\n",
              "      <td>7</td>\n",
              "      <td>INR</td>\n",
              "      <td>0.01562</td>\n",
              "    </tr>\n",
              "  </tbody>\n",
              "</table>\n",
              "</div>"
            ],
            "text/plain": [
              "  GenderSelect Country  Age  ... JobSatisfaction originCountry exchangeRate\n",
              "0         Male   India   27  ...               7           INR      0.01562\n",
              "1         Male   India   29  ...               7           INR      0.01562\n",
              "\n",
              "[2 rows x 19 columns]"
            ]
          },
          "metadata": {
            "tags": []
          },
          "execution_count": 57
        }
      ]
    },
    {
      "cell_type": "code",
      "metadata": {
        "id": "ZLsyEbvxIgRX"
      },
      "source": [
        "salary_df['australian_pay']=salary_df['CompensationAmount']*salary_df['exchangeRate']"
      ],
      "execution_count": 58,
      "outputs": []
    },
    {
      "cell_type": "code",
      "metadata": {
        "colab": {
          "base_uri": "https://localhost:8080/",
          "height": 194
        },
        "id": "GZuobpsSIvId",
        "outputId": "82317a72-78f6-433c-b2a9-a9744f7e79f4"
      },
      "source": [
        "salary_df.head(2)"
      ],
      "execution_count": 59,
      "outputs": [
        {
          "output_type": "execute_result",
          "data": {
            "text/html": [
              "<div>\n",
              "<style scoped>\n",
              "    .dataframe tbody tr th:only-of-type {\n",
              "        vertical-align: middle;\n",
              "    }\n",
              "\n",
              "    .dataframe tbody tr th {\n",
              "        vertical-align: top;\n",
              "    }\n",
              "\n",
              "    .dataframe thead th {\n",
              "        text-align: right;\n",
              "    }\n",
              "</style>\n",
              "<table border=\"1\" class=\"dataframe\">\n",
              "  <thead>\n",
              "    <tr style=\"text-align: right;\">\n",
              "      <th></th>\n",
              "      <th>GenderSelect</th>\n",
              "      <th>Country</th>\n",
              "      <th>Age</th>\n",
              "      <th>EmploymentStatus</th>\n",
              "      <th>CodeWriter</th>\n",
              "      <th>CurrentJobTitleSelect</th>\n",
              "      <th>TitleFit</th>\n",
              "      <th>CurrentEmployerType</th>\n",
              "      <th>MLToolNextYearSelect</th>\n",
              "      <th>MLMethodNextYearSelect</th>\n",
              "      <th>LanguageRecommendationSelect</th>\n",
              "      <th>FormalEducation</th>\n",
              "      <th>MajorSelect</th>\n",
              "      <th>FirstTrainingSelect</th>\n",
              "      <th>CompensationAmount</th>\n",
              "      <th>CompensationCurrency</th>\n",
              "      <th>JobSatisfaction</th>\n",
              "      <th>originCountry</th>\n",
              "      <th>exchangeRate</th>\n",
              "      <th>australian_pay</th>\n",
              "    </tr>\n",
              "  </thead>\n",
              "  <tbody>\n",
              "    <tr>\n",
              "      <th>0</th>\n",
              "      <td>Male</td>\n",
              "      <td>India</td>\n",
              "      <td>27</td>\n",
              "      <td>Employed full-time</td>\n",
              "      <td>Yes</td>\n",
              "      <td>Data Scientist</td>\n",
              "      <td>Fine</td>\n",
              "      <td>Employed by professional services/consulting f...</td>\n",
              "      <td>Other</td>\n",
              "      <td>Deep learning</td>\n",
              "      <td>Python</td>\n",
              "      <td>Bachelor's degree</td>\n",
              "      <td>Electrical Engineering</td>\n",
              "      <td>University courses</td>\n",
              "      <td>95000.0</td>\n",
              "      <td>INR</td>\n",
              "      <td>7</td>\n",
              "      <td>INR</td>\n",
              "      <td>0.01562</td>\n",
              "      <td>1483.9</td>\n",
              "    </tr>\n",
              "    <tr>\n",
              "      <th>1</th>\n",
              "      <td>Male</td>\n",
              "      <td>India</td>\n",
              "      <td>29</td>\n",
              "      <td>Employed full-time</td>\n",
              "      <td>Yes</td>\n",
              "      <td>Data Scientist</td>\n",
              "      <td>Perfectly</td>\n",
              "      <td>Employed by a company that performs advanced a...</td>\n",
              "      <td>Python</td>\n",
              "      <td>Bayesian Methods</td>\n",
              "      <td>R</td>\n",
              "      <td>Master's degree</td>\n",
              "      <td>Computer Science</td>\n",
              "      <td>University courses</td>\n",
              "      <td>120000.0</td>\n",
              "      <td>INR</td>\n",
              "      <td>7</td>\n",
              "      <td>INR</td>\n",
              "      <td>0.01562</td>\n",
              "      <td>1874.4</td>\n",
              "    </tr>\n",
              "  </tbody>\n",
              "</table>\n",
              "</div>"
            ],
            "text/plain": [
              "  GenderSelect Country  Age  ... originCountry exchangeRate australian_pay\n",
              "0         Male   India   27  ...           INR      0.01562         1483.9\n",
              "1         Male   India   29  ...           INR      0.01562         1874.4\n",
              "\n",
              "[2 rows x 20 columns]"
            ]
          },
          "metadata": {
            "tags": []
          },
          "execution_count": 59
        }
      ]
    },
    {
      "cell_type": "code",
      "metadata": {
        "colab": {
          "base_uri": "https://localhost:8080/"
        },
        "id": "OCGYqtvkIx1w",
        "outputId": "3cdadc92-a218-48a5-ed20-d157d9ff4961"
      },
      "source": [
        "salary_df['australian_pay'].describe()"
      ],
      "execution_count": 61,
      "outputs": [
        {
          "output_type": "execute_result",
          "data": {
            "text/plain": [
              "count      1262.000000\n",
              "mean      80941.171090\n",
              "std       60806.927249\n",
              "min           0.060000\n",
              "25%       34446.431400\n",
              "50%       71268.060000\n",
              "75%      116395.188500\n",
              "max      595884.600000\n",
              "Name: australian_pay, dtype: float64"
            ]
          },
          "metadata": {
            "tags": []
          },
          "execution_count": 61
        }
      ]
    },
    {
      "cell_type": "code",
      "metadata": {
        "id": "Bo1zR_RCJUoR"
      },
      "source": [
        "Australia_respondes=salary_df.loc[salary_df['Country']=='Australia']"
      ],
      "execution_count": 65,
      "outputs": []
    },
    {
      "cell_type": "code",
      "metadata": {
        "colab": {
          "base_uri": "https://localhost:8080/",
          "height": 296
        },
        "id": "muC09VXNJxXJ",
        "outputId": "2d5d9b86-e98b-4d3a-ffcb-5e00537cc27a"
      },
      "source": [
        "\n",
        "import seaborn as sns\n",
        "sns.boxplot(x=Australia_respondes['australian_pay'])\n",
        "\n",
        "plt.title(\"Boxplot of salary on Australia\")\n",
        "plt.show()"
      ],
      "execution_count": 70,
      "outputs": [
        {
          "output_type": "display_data",
          "data": {
            "image/png": "[encoded data removed]",
            "text/plain": [
              "<Figure size 432x288 with 1 Axes>"
            ]
          },
          "metadata": {
            "tags": [],
            "needs_background": "light"
          }
        }
      ]
    },
    {
      "cell_type": "code",
      "metadata": {
        "colab": {
          "base_uri": "https://localhost:8080/"
        },
        "id": "6vNVBNkiJ0gH",
        "outputId": "515c72be-a902-4539-ac50-7dbf2d03a302"
      },
      "source": [
        "Australia_respondes['australian_pay'].describe()"
      ],
      "execution_count": 71,
      "outputs": [
        {
          "output_type": "execute_result",
          "data": {
            "text/plain": [
              "count        29.00000\n",
              "mean     119817.97885\n",
              "std       67153.46513\n",
              "min          72.20790\n",
              "25%       96277.20000\n",
              "50%      112323.40000\n",
              "75%      144415.80000\n",
              "max      280808.50000\n",
              "Name: australian_pay, dtype: float64"
            ]
          },
          "metadata": {
            "tags": []
          },
          "execution_count": 71
        }
      ]
    },
    {
      "cell_type": "code",
      "metadata": {
        "id": "VnLDNbUSKghC"
      },
      "source": [
        ""
      ],
      "execution_count": 90,
      "outputs": []
    },
    {
      "cell_type": "code",
      "metadata": {
        "id": "q3TmpQ8sK7Fg"
      },
      "source": [
        ""
      ],
      "execution_count": 92,
      "outputs": []
    },
    {
      "cell_type": "code",
      "metadata": {
        "id": "rF1RglYSRMYk"
      },
      "source": [
        ""
      ],
      "execution_count": null,
      "outputs": []
    }
  ]
}