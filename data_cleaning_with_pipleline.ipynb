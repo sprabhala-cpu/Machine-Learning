{
  "nbformat": 4,
  "nbformat_minor": 0,
  "metadata": {
    "colab": {
      "name": "data cleaning without pipleline.ipynb",
      "provenance": [],
      "authorship_tag": "ABX9TyOHqlCXoEf+Fdkdwrqsnebv",
      "include_colab_link": true
    },
    "kernelspec": {
      "name": "python3",
      "display_name": "Python 3"
    },
    "language_info": {
      "name": "python"
    }
  },
  "cells": [
    {
      "cell_type": "markdown",
      "metadata": {
        "id": "view-in-github",
        "colab_type": "text"
      },
      "source": [
        "<a href=\"https://colab.research.google.com/github/sprabhala-cpu/Machine-Learning/blob/main/data_cleaning_with_pipleline.ipynb\" target=\"_parent\"><img src=\"https://colab.research.google.com/assets/colab-badge.svg\" alt=\"Open In Colab\"/></a>"
      ]
    },
    {
      "cell_type": "code",
      "metadata": {
        "colab": {
          "base_uri": "https://localhost:8080/"
        },
        "id": "cOKZyEnB1bU5",
        "outputId": "257423f3-8954-4a33-d359-005901b7b8be"
      },
      "source": [
        "!wget 'https://archive.ics.uci.edu/ml/machine-learning-databases/auto-mpg/auto-mpg.data'"
      ],
      "execution_count": 1,
      "outputs": [
        {
          "output_type": "stream",
          "text": [
            "--2021-05-12 09:10:58--  https://archive.ics.uci.edu/ml/machine-learning-databases/auto-mpg/auto-mpg.data\n",
            "Resolving archive.ics.uci.edu (archive.ics.uci.edu)... 128.195.10.252\n",
            "Connecting to archive.ics.uci.edu (archive.ics.uci.edu)|128.195.10.252|:443... connected.\n",
            "HTTP request sent, awaiting response... 200 OK\n",
            "Length: 30286 (30K) [application/x-httpd-php]\n",
            "Saving to: ‘auto-mpg.data’\n",
            "\n",
            "auto-mpg.data       100%[===================>]  29.58K  --.-KB/s    in 0.1s    \n",
            "\n",
            "2021-05-12 09:10:59 (226 KB/s) - ‘auto-mpg.data’ saved [30286/30286]\n",
            "\n"
          ],
          "name": "stdout"
        }
      ]
    },
    {
      "cell_type": "code",
      "metadata": {
        "id": "QBxfNmNP1-yg"
      },
      "source": [
        "import pandas as pd\n",
        "cols = ['MPG','Cylinders','Displacement','Horsepower','Weight',\n",
        "                'Acceleration', 'Model Year', 'Origin']\n",
        "data=pd.read_csv('/content/auto-mpg.data',sep=' ',names=cols,comment='\\t',skipinitialspace=True,na_values='?')"
      ],
      "execution_count": 12,
      "outputs": []
    },
    {
      "cell_type": "code",
      "metadata": {
        "colab": {
          "base_uri": "https://localhost:8080/",
          "height": 418
        },
        "id": "ouHCzCky2Dc0",
        "outputId": "dba32354-9647-4796-bfbc-1aac9ff91cd6"
      },
      "source": [
        "data"
      ],
      "execution_count": 13,
      "outputs": [
        {
          "output_type": "execute_result",
          "data": {
            "text/html": [
              "<div>\n",
              "<style scoped>\n",
              "    .dataframe tbody tr th:only-of-type {\n",
              "        vertical-align: middle;\n",
              "    }\n",
              "\n",
              "    .dataframe tbody tr th {\n",
              "        vertical-align: top;\n",
              "    }\n",
              "\n",
              "    .dataframe thead th {\n",
              "        text-align: right;\n",
              "    }\n",
              "</style>\n",
              "<table border=\"1\" class=\"dataframe\">\n",
              "  <thead>\n",
              "    <tr style=\"text-align: right;\">\n",
              "      <th></th>\n",
              "      <th>MPG</th>\n",
              "      <th>Cylinders</th>\n",
              "      <th>Displacement</th>\n",
              "      <th>Horsepower</th>\n",
              "      <th>Weight</th>\n",
              "      <th>Acceleration</th>\n",
              "      <th>Model Year</th>\n",
              "      <th>Origin</th>\n",
              "    </tr>\n",
              "  </thead>\n",
              "  <tbody>\n",
              "    <tr>\n",
              "      <th>0</th>\n",
              "      <td>18.0</td>\n",
              "      <td>8</td>\n",
              "      <td>307.0</td>\n",
              "      <td>130.0</td>\n",
              "      <td>3504.0</td>\n",
              "      <td>12.0</td>\n",
              "      <td>70</td>\n",
              "      <td>1</td>\n",
              "    </tr>\n",
              "    <tr>\n",
              "      <th>1</th>\n",
              "      <td>15.0</td>\n",
              "      <td>8</td>\n",
              "      <td>350.0</td>\n",
              "      <td>165.0</td>\n",
              "      <td>3693.0</td>\n",
              "      <td>11.5</td>\n",
              "      <td>70</td>\n",
              "      <td>1</td>\n",
              "    </tr>\n",
              "    <tr>\n",
              "      <th>2</th>\n",
              "      <td>18.0</td>\n",
              "      <td>8</td>\n",
              "      <td>318.0</td>\n",
              "      <td>150.0</td>\n",
              "      <td>3436.0</td>\n",
              "      <td>11.0</td>\n",
              "      <td>70</td>\n",
              "      <td>1</td>\n",
              "    </tr>\n",
              "    <tr>\n",
              "      <th>3</th>\n",
              "      <td>16.0</td>\n",
              "      <td>8</td>\n",
              "      <td>304.0</td>\n",
              "      <td>150.0</td>\n",
              "      <td>3433.0</td>\n",
              "      <td>12.0</td>\n",
              "      <td>70</td>\n",
              "      <td>1</td>\n",
              "    </tr>\n",
              "    <tr>\n",
              "      <th>4</th>\n",
              "      <td>17.0</td>\n",
              "      <td>8</td>\n",
              "      <td>302.0</td>\n",
              "      <td>140.0</td>\n",
              "      <td>3449.0</td>\n",
              "      <td>10.5</td>\n",
              "      <td>70</td>\n",
              "      <td>1</td>\n",
              "    </tr>\n",
              "    <tr>\n",
              "      <th>...</th>\n",
              "      <td>...</td>\n",
              "      <td>...</td>\n",
              "      <td>...</td>\n",
              "      <td>...</td>\n",
              "      <td>...</td>\n",
              "      <td>...</td>\n",
              "      <td>...</td>\n",
              "      <td>...</td>\n",
              "    </tr>\n",
              "    <tr>\n",
              "      <th>393</th>\n",
              "      <td>27.0</td>\n",
              "      <td>4</td>\n",
              "      <td>140.0</td>\n",
              "      <td>86.0</td>\n",
              "      <td>2790.0</td>\n",
              "      <td>15.6</td>\n",
              "      <td>82</td>\n",
              "      <td>1</td>\n",
              "    </tr>\n",
              "    <tr>\n",
              "      <th>394</th>\n",
              "      <td>44.0</td>\n",
              "      <td>4</td>\n",
              "      <td>97.0</td>\n",
              "      <td>52.0</td>\n",
              "      <td>2130.0</td>\n",
              "      <td>24.6</td>\n",
              "      <td>82</td>\n",
              "      <td>2</td>\n",
              "    </tr>\n",
              "    <tr>\n",
              "      <th>395</th>\n",
              "      <td>32.0</td>\n",
              "      <td>4</td>\n",
              "      <td>135.0</td>\n",
              "      <td>84.0</td>\n",
              "      <td>2295.0</td>\n",
              "      <td>11.6</td>\n",
              "      <td>82</td>\n",
              "      <td>1</td>\n",
              "    </tr>\n",
              "    <tr>\n",
              "      <th>396</th>\n",
              "      <td>28.0</td>\n",
              "      <td>4</td>\n",
              "      <td>120.0</td>\n",
              "      <td>79.0</td>\n",
              "      <td>2625.0</td>\n",
              "      <td>18.6</td>\n",
              "      <td>82</td>\n",
              "      <td>1</td>\n",
              "    </tr>\n",
              "    <tr>\n",
              "      <th>397</th>\n",
              "      <td>31.0</td>\n",
              "      <td>4</td>\n",
              "      <td>119.0</td>\n",
              "      <td>82.0</td>\n",
              "      <td>2720.0</td>\n",
              "      <td>19.4</td>\n",
              "      <td>82</td>\n",
              "      <td>1</td>\n",
              "    </tr>\n",
              "  </tbody>\n",
              "</table>\n",
              "<p>398 rows × 8 columns</p>\n",
              "</div>"
            ],
            "text/plain": [
              "      MPG  Cylinders  Displacement  ...  Acceleration  Model Year  Origin\n",
              "0    18.0          8         307.0  ...          12.0          70       1\n",
              "1    15.0          8         350.0  ...          11.5          70       1\n",
              "2    18.0          8         318.0  ...          11.0          70       1\n",
              "3    16.0          8         304.0  ...          12.0          70       1\n",
              "4    17.0          8         302.0  ...          10.5          70       1\n",
              "..    ...        ...           ...  ...           ...         ...     ...\n",
              "393  27.0          4         140.0  ...          15.6          82       1\n",
              "394  44.0          4          97.0  ...          24.6          82       2\n",
              "395  32.0          4         135.0  ...          11.6          82       1\n",
              "396  28.0          4         120.0  ...          18.6          82       1\n",
              "397  31.0          4         119.0  ...          19.4          82       1\n",
              "\n",
              "[398 rows x 8 columns]"
            ]
          },
          "metadata": {
            "tags": []
          },
          "execution_count": 13
        }
      ]
    },
    {
      "cell_type": "code",
      "metadata": {
        "colab": {
          "base_uri": "https://localhost:8080/"
        },
        "id": "RK_9Y6Vj2D29",
        "outputId": "785a2299-ff61-4a58-92c2-4a1ea9dd5782"
      },
      "source": [
        "#viewing data\n",
        "data.info()"
      ],
      "execution_count": 14,
      "outputs": [
        {
          "output_type": "stream",
          "text": [
            "<class 'pandas.core.frame.DataFrame'>\n",
            "RangeIndex: 398 entries, 0 to 397\n",
            "Data columns (total 8 columns):\n",
            " #   Column        Non-Null Count  Dtype  \n",
            "---  ------        --------------  -----  \n",
            " 0   MPG           398 non-null    float64\n",
            " 1   Cylinders     398 non-null    int64  \n",
            " 2   Displacement  398 non-null    float64\n",
            " 3   Horsepower    392 non-null    float64\n",
            " 4   Weight        398 non-null    float64\n",
            " 5   Acceleration  398 non-null    float64\n",
            " 6   Model Year    398 non-null    int64  \n",
            " 7   Origin        398 non-null    int64  \n",
            "dtypes: float64(5), int64(3)\n",
            "memory usage: 25.0 KB\n"
          ],
          "name": "stdout"
        }
      ]
    },
    {
      "cell_type": "code",
      "metadata": {
        "id": "TFJSTDSH2eH8"
      },
      "source": [
        "from sklearn.model_selection import StratifiedShuffleSplit\n",
        "split=StratifiedShuffleSplit(n_splits=1,test_size=0.2,random_state=42)\n",
        "for train_index,test_index in split.split(data,data['Cylinders']):\n",
        "  strat_train_set=data.loc[train_index]\n",
        "  strat_test_set=data.loc[test_index]"
      ],
      "execution_count": 16,
      "outputs": []
    },
    {
      "cell_type": "code",
      "metadata": {
        "id": "4SPEKDvP2m-0"
      },
      "source": [
        "#segreagte the features and target variable\n",
        "data=strat_train_set.drop('MPG',axis=1)\n",
        "data_label=strat_train_set['MPG'].copy()"
      ],
      "execution_count": 19,
      "outputs": []
    },
    {
      "cell_type": "code",
      "metadata": {
        "colab": {
          "base_uri": "https://localhost:8080/",
          "height": 195
        },
        "id": "GIXOx6oW3jDc",
        "outputId": "ac874cd9-4baa-4a50-a73e-be5a70887ef7"
      },
      "source": [
        "data.sample(5)"
      ],
      "execution_count": 22,
      "outputs": [
        {
          "output_type": "execute_result",
          "data": {
            "text/html": [
              "<div>\n",
              "<style scoped>\n",
              "    .dataframe tbody tr th:only-of-type {\n",
              "        vertical-align: middle;\n",
              "    }\n",
              "\n",
              "    .dataframe tbody tr th {\n",
              "        vertical-align: top;\n",
              "    }\n",
              "\n",
              "    .dataframe thead th {\n",
              "        text-align: right;\n",
              "    }\n",
              "</style>\n",
              "<table border=\"1\" class=\"dataframe\">\n",
              "  <thead>\n",
              "    <tr style=\"text-align: right;\">\n",
              "      <th></th>\n",
              "      <th>Cylinders</th>\n",
              "      <th>Displacement</th>\n",
              "      <th>Horsepower</th>\n",
              "      <th>Weight</th>\n",
              "      <th>Acceleration</th>\n",
              "      <th>Model Year</th>\n",
              "      <th>Origin</th>\n",
              "    </tr>\n",
              "  </thead>\n",
              "  <tbody>\n",
              "    <tr>\n",
              "      <th>93</th>\n",
              "      <td>8</td>\n",
              "      <td>318.0</td>\n",
              "      <td>150.0</td>\n",
              "      <td>4237.0</td>\n",
              "      <td>14.5</td>\n",
              "      <td>73</td>\n",
              "      <td>1</td>\n",
              "    </tr>\n",
              "    <tr>\n",
              "      <th>205</th>\n",
              "      <td>4</td>\n",
              "      <td>97.0</td>\n",
              "      <td>75.0</td>\n",
              "      <td>2155.0</td>\n",
              "      <td>16.4</td>\n",
              "      <td>76</td>\n",
              "      <td>3</td>\n",
              "    </tr>\n",
              "    <tr>\n",
              "      <th>61</th>\n",
              "      <td>4</td>\n",
              "      <td>122.0</td>\n",
              "      <td>86.0</td>\n",
              "      <td>2226.0</td>\n",
              "      <td>16.5</td>\n",
              "      <td>72</td>\n",
              "      <td>1</td>\n",
              "    </tr>\n",
              "    <tr>\n",
              "      <th>176</th>\n",
              "      <td>6</td>\n",
              "      <td>232.0</td>\n",
              "      <td>90.0</td>\n",
              "      <td>3211.0</td>\n",
              "      <td>17.0</td>\n",
              "      <td>75</td>\n",
              "      <td>1</td>\n",
              "    </tr>\n",
              "    <tr>\n",
              "      <th>166</th>\n",
              "      <td>8</td>\n",
              "      <td>302.0</td>\n",
              "      <td>129.0</td>\n",
              "      <td>3169.0</td>\n",
              "      <td>12.0</td>\n",
              "      <td>75</td>\n",
              "      <td>1</td>\n",
              "    </tr>\n",
              "  </tbody>\n",
              "</table>\n",
              "</div>"
            ],
            "text/plain": [
              "     Cylinders  Displacement  Horsepower  ...  Acceleration  Model Year  Origin\n",
              "93           8         318.0       150.0  ...          14.5          73       1\n",
              "205          4          97.0        75.0  ...          16.4          76       3\n",
              "61           4         122.0        86.0  ...          16.5          72       1\n",
              "176          6         232.0        90.0  ...          17.0          75       1\n",
              "166          8         302.0       129.0  ...          12.0          75       1\n",
              "\n",
              "[5 rows x 7 columns]"
            ]
          },
          "metadata": {
            "tags": []
          },
          "execution_count": 22
        }
      ]
    },
    {
      "cell_type": "code",
      "metadata": {
        "id": "5u4veshe39r1"
      },
      "source": [
        "#the origin is country code we have to add country code\n",
        "def preprocess_origin_cols(df):\n",
        "  df['Origin']=df['Origin'].map({1:'India',2:'USA',3:'Germany'})\n",
        "  return df"
      ],
      "execution_count": 23,
      "outputs": []
    },
    {
      "cell_type": "code",
      "metadata": {
        "id": "sJwdQbIJ4dYQ"
      },
      "source": [
        "from sklearn.base import BaseEstimator,TransformerMixin\n",
        "from sklearn.pipeline import Pipeline\n",
        "from sklearn.impute import SimpleImputer\n",
        "from sklearn.preprocessing import StandardScaler,OneHotEncoder\n",
        "from sklearn.compose import ColumnTransformer\n",
        "#create new columns using baseestimator and tranformermixin\n"
      ],
      "execution_count": 37,
      "outputs": []
    },
    {
      "cell_type": "code",
      "metadata": {
        "id": "IC8hFIs35Vpz"
      },
      "source": [
        "import numpy as np\n",
        "acc_ix,hpower_ix,cyl_ix=4,2,0\n",
        "class CustomAttrAdder(BaseEstimator,TransformerMixin):\n",
        "  def __init__(self,acc_on_power=True):\n",
        "    self.acc_on_power=acc_on_power\n",
        "  def fit(self,X,y=None):\n",
        "    return self\n",
        "  def transform(self,X):\n",
        "    acc_on_cyl = X[:, acc_ix] / X[:, cyl_ix]\n",
        "    if self.acc_on_power:\n",
        "      acc_on_power=X[:,acc_ix]/X[:,hpower_ix]\n",
        "      return np.c_[X,acc_on_power,acc_on_cyl]\n",
        "    return np.c_[X,acc_on_cyl] "
      ],
      "execution_count": 29,
      "outputs": []
    },
    {
      "cell_type": "code",
      "metadata": {
        "id": "GBTPW1J56vZs"
      },
      "source": [
        "from sklearn.pipeline import Pipeline\n",
        "def num_pipeline_transformer(data):\n",
        "  '''\"function to process numerical tranformations\"\n",
        "      argument:\n",
        "      data:original data\n",
        "      returens \n",
        "      num_attrs:numerical dataframe\n",
        "      num_pipeline:numerical pipelineobjec'''\n",
        "  numerics=[\"float64\",'int64']\n",
        "  num_attrs=data.select_dtypes(include=numerics)\n",
        "  num_pipeline=Pipeline([\n",
        "          ('imputer',SimpleImputer(strategy='median')),\n",
        "          ('attrs_adder',CustomAttrAdder()),\n",
        "          ('std_scaler',StandardScaler())\n",
        "  ])\n",
        "  return num_attrs,num_pipeline\n",
        "\n",
        "  "
      ],
      "execution_count": 43,
      "outputs": []
    },
    {
      "cell_type": "code",
      "metadata": {
        "id": "yRzyn1Wr7uBa"
      },
      "source": [
        "def pipeline_transformer(data):\n",
        "  '''\n",
        "  complete transforamtion for pipeline for both numnerical and categoricaldata\n",
        "  argumer:\n",
        "  data:original data\n",
        "  reutrns \n",
        "  prepared data: ready to use'''\n",
        "  cat_attrs=['Origin']\n",
        "  num_attrs,num_pipeline=num_pipeline_transformer(data)\n",
        "  full_pipeline=ColumnTransformer([\n",
        "    ('num',num_pipeline,list(num_attrs)),\n",
        "    ('cat',OneHotEncoder(),cat_attrs),                          \n",
        "  ])\n",
        "  prepared_data=full_pipeline.fit_transform(data)\n",
        "  return prepared_data"
      ],
      "execution_count": 46,
      "outputs": []
    },
    {
      "cell_type": "code",
      "metadata": {
        "id": "qj5FyJtN7ujz"
      },
      "source": [
        "preprocessed_df=preprocess_origin_cols(data)"
      ],
      "execution_count": 47,
      "outputs": []
    },
    {
      "cell_type": "code",
      "metadata": {
        "colab": {
          "base_uri": "https://localhost:8080/",
          "height": 418
        },
        "id": "OY-pS9Vs9BU3",
        "outputId": "4c07b2a0-4d6a-4003-e049-8e24b4074716"
      },
      "source": [
        "preprocessed_df"
      ],
      "execution_count": 48,
      "outputs": [
        {
          "output_type": "execute_result",
          "data": {
            "text/html": [
              "<div>\n",
              "<style scoped>\n",
              "    .dataframe tbody tr th:only-of-type {\n",
              "        vertical-align: middle;\n",
              "    }\n",
              "\n",
              "    .dataframe tbody tr th {\n",
              "        vertical-align: top;\n",
              "    }\n",
              "\n",
              "    .dataframe thead th {\n",
              "        text-align: right;\n",
              "    }\n",
              "</style>\n",
              "<table border=\"1\" class=\"dataframe\">\n",
              "  <thead>\n",
              "    <tr style=\"text-align: right;\">\n",
              "      <th></th>\n",
              "      <th>Cylinders</th>\n",
              "      <th>Displacement</th>\n",
              "      <th>Horsepower</th>\n",
              "      <th>Weight</th>\n",
              "      <th>Acceleration</th>\n",
              "      <th>Model Year</th>\n",
              "      <th>Origin</th>\n",
              "    </tr>\n",
              "  </thead>\n",
              "  <tbody>\n",
              "    <tr>\n",
              "      <th>145</th>\n",
              "      <td>4</td>\n",
              "      <td>83.0</td>\n",
              "      <td>61.0</td>\n",
              "      <td>2003.0</td>\n",
              "      <td>19.0</td>\n",
              "      <td>74</td>\n",
              "      <td>Germany</td>\n",
              "    </tr>\n",
              "    <tr>\n",
              "      <th>151</th>\n",
              "      <td>4</td>\n",
              "      <td>79.0</td>\n",
              "      <td>67.0</td>\n",
              "      <td>2000.0</td>\n",
              "      <td>16.0</td>\n",
              "      <td>74</td>\n",
              "      <td>USA</td>\n",
              "    </tr>\n",
              "    <tr>\n",
              "      <th>388</th>\n",
              "      <td>4</td>\n",
              "      <td>156.0</td>\n",
              "      <td>92.0</td>\n",
              "      <td>2585.0</td>\n",
              "      <td>14.5</td>\n",
              "      <td>82</td>\n",
              "      <td>India</td>\n",
              "    </tr>\n",
              "    <tr>\n",
              "      <th>48</th>\n",
              "      <td>6</td>\n",
              "      <td>250.0</td>\n",
              "      <td>88.0</td>\n",
              "      <td>3139.0</td>\n",
              "      <td>14.5</td>\n",
              "      <td>71</td>\n",
              "      <td>India</td>\n",
              "    </tr>\n",
              "    <tr>\n",
              "      <th>114</th>\n",
              "      <td>4</td>\n",
              "      <td>98.0</td>\n",
              "      <td>90.0</td>\n",
              "      <td>2265.0</td>\n",
              "      <td>15.5</td>\n",
              "      <td>73</td>\n",
              "      <td>USA</td>\n",
              "    </tr>\n",
              "    <tr>\n",
              "      <th>...</th>\n",
              "      <td>...</td>\n",
              "      <td>...</td>\n",
              "      <td>...</td>\n",
              "      <td>...</td>\n",
              "      <td>...</td>\n",
              "      <td>...</td>\n",
              "      <td>...</td>\n",
              "    </tr>\n",
              "    <tr>\n",
              "      <th>147</th>\n",
              "      <td>4</td>\n",
              "      <td>90.0</td>\n",
              "      <td>75.0</td>\n",
              "      <td>2108.0</td>\n",
              "      <td>15.5</td>\n",
              "      <td>74</td>\n",
              "      <td>USA</td>\n",
              "    </tr>\n",
              "    <tr>\n",
              "      <th>156</th>\n",
              "      <td>8</td>\n",
              "      <td>400.0</td>\n",
              "      <td>170.0</td>\n",
              "      <td>4668.0</td>\n",
              "      <td>11.5</td>\n",
              "      <td>75</td>\n",
              "      <td>India</td>\n",
              "    </tr>\n",
              "    <tr>\n",
              "      <th>395</th>\n",
              "      <td>4</td>\n",
              "      <td>135.0</td>\n",
              "      <td>84.0</td>\n",
              "      <td>2295.0</td>\n",
              "      <td>11.6</td>\n",
              "      <td>82</td>\n",
              "      <td>India</td>\n",
              "    </tr>\n",
              "    <tr>\n",
              "      <th>14</th>\n",
              "      <td>4</td>\n",
              "      <td>113.0</td>\n",
              "      <td>95.0</td>\n",
              "      <td>2372.0</td>\n",
              "      <td>15.0</td>\n",
              "      <td>70</td>\n",
              "      <td>Germany</td>\n",
              "    </tr>\n",
              "    <tr>\n",
              "      <th>362</th>\n",
              "      <td>6</td>\n",
              "      <td>146.0</td>\n",
              "      <td>120.0</td>\n",
              "      <td>2930.0</td>\n",
              "      <td>13.8</td>\n",
              "      <td>81</td>\n",
              "      <td>Germany</td>\n",
              "    </tr>\n",
              "  </tbody>\n",
              "</table>\n",
              "<p>318 rows × 7 columns</p>\n",
              "</div>"
            ],
            "text/plain": [
              "     Cylinders  Displacement  Horsepower  ...  Acceleration  Model Year   Origin\n",
              "145          4          83.0        61.0  ...          19.0          74  Germany\n",
              "151          4          79.0        67.0  ...          16.0          74      USA\n",
              "388          4         156.0        92.0  ...          14.5          82    India\n",
              "48           6         250.0        88.0  ...          14.5          71    India\n",
              "114          4          98.0        90.0  ...          15.5          73      USA\n",
              "..         ...           ...         ...  ...           ...         ...      ...\n",
              "147          4          90.0        75.0  ...          15.5          74      USA\n",
              "156          8         400.0       170.0  ...          11.5          75    India\n",
              "395          4         135.0        84.0  ...          11.6          82    India\n",
              "14           4         113.0        95.0  ...          15.0          70  Germany\n",
              "362          6         146.0       120.0  ...          13.8          81  Germany\n",
              "\n",
              "[318 rows x 7 columns]"
            ]
          },
          "metadata": {
            "tags": []
          },
          "execution_count": 48
        }
      ]
    },
    {
      "cell_type": "code",
      "metadata": {
        "id": "bu493sPv9mUX"
      },
      "source": [
        "prepared=pipeline_transformer(preprocessed_df)"
      ],
      "execution_count": 49,
      "outputs": []
    },
    {
      "cell_type": "code",
      "metadata": {
        "colab": {
          "base_uri": "https://localhost:8080/"
        },
        "id": "-hI_YR-B_KR8",
        "outputId": "661ac38c-9236-4b36-b3e3-4d315c1232d2"
      },
      "source": [
        "prepared[0]"
      ],
      "execution_count": 51,
      "outputs": [
        {
          "output_type": "execute_result",
          "data": {
            "text/plain": [
              "array([-0.85657842, -1.07804475, -1.15192977, -1.17220298,  1.21586943,\n",
              "       -0.54436373,  1.70952741,  1.29565517,  1.        ,  0.        ,\n",
              "        0.        ])"
            ]
          },
          "metadata": {
            "tags": []
          },
          "execution_count": 51
        }
      ]
    },
    {
      "cell_type": "code",
      "metadata": {
        "colab": {
          "base_uri": "https://localhost:8080/"
        },
        "id": "P2afKu0c_LaR",
        "outputId": "3d1a2854-5d09-4ac7-cdeb-64b88b717fdc"
      },
      "source": [
        "#applying linear regression\n",
        "from sklearn.linear_model import LinearRegression\n",
        "lin_reg=LinearRegression()\n",
        "lin_reg.fit(prepared,data_label)\n"
      ],
      "execution_count": 52,
      "outputs": [
        {
          "output_type": "execute_result",
          "data": {
            "text/plain": [
              "LinearRegression(copy_X=True, fit_intercept=True, n_jobs=None, normalize=False)"
            ]
          },
          "metadata": {
            "tags": []
          },
          "execution_count": 52
        }
      ]
    },
    {
      "cell_type": "code",
      "metadata": {
        "id": "zkBNwtdLAJ75"
      },
      "source": [
        "#testinf predictions with \n",
        "sample_data=data.iloc[:5]\n",
        "sample_label=data_label.iloc[:5]\n"
      ],
      "execution_count": 53,
      "outputs": []
    },
    {
      "cell_type": "code",
      "metadata": {
        "id": "F8L1zGOlAz_F"
      },
      "source": [
        "sample_data_prepared=pipeline_transformer(sample_data)"
      ],
      "execution_count": 55,
      "outputs": []
    },
    {
      "cell_type": "code",
      "metadata": {
        "colab": {
          "base_uri": "https://localhost:8080/"
        },
        "id": "SxPaiRVoA27P",
        "outputId": "00c8484a-bb42-429d-ef34-04ddb00f28ae"
      },
      "source": [
        "print('predicted are ',lin_reg.predict(sample_data_prepared))"
      ],
      "execution_count": 56,
      "outputs": [
        {
          "output_type": "stream",
          "text": [
            "predicted are  [29.08069379 27.78336755 26.08031176 12.70419279 22.23454159]\n"
          ],
          "name": "stdout"
        }
      ]
    },
    {
      "cell_type": "code",
      "metadata": {
        "colab": {
          "base_uri": "https://localhost:8080/"
        },
        "id": "lIRw98EzBJ9J",
        "outputId": "5ca34b6f-0f20-4be1-8369-9fd7f73201e0"
      },
      "source": [
        "print('original are ',list (sample_label))"
      ],
      "execution_count": 58,
      "outputs": [
        {
          "output_type": "stream",
          "text": [
            "original are  [32.0, 31.0, 26.0, 18.0, 26.0]\n"
          ],
          "name": "stdout"
        }
      ]
    },
    {
      "cell_type": "code",
      "metadata": {
        "colab": {
          "base_uri": "https://localhost:8080/"
        },
        "id": "49x_ktcPBSmD",
        "outputId": "d8e2eb87-431b-4344-ca61-0213a1af6de8"
      },
      "source": [
        "#evaluation of model\n",
        "from sklearn.metrics import mean_squared_error\n",
        "mpg_predictions=lin_reg.predict(prepared)\n",
        "lin_mse=mean_squared_error(data_label,mpg_predictions)\n",
        "print(lin_mse)"
      ],
      "execution_count": 61,
      "outputs": [
        {
          "output_type": "stream",
          "text": [
            "8.755919038823139\n"
          ],
          "name": "stdout"
        }
      ]
    },
    {
      "cell_type": "code",
      "metadata": {
        "colab": {
          "base_uri": "https://localhost:8080/"
        },
        "id": "lU_jacKNB0E7",
        "outputId": "57d96365-937c-4efd-da38-7c14e5cae591"
      },
      "source": [
        "mpg_prediction_sample=lin_reg.predict(sample_data_prepared)\n",
        "lin_mse1=mean_squared_error(sample_label,mpg_prediction_sample)\n",
        "print(lin_mse1)"
      ],
      "execution_count": 62,
      "outputs": [
        {
          "output_type": "stream",
          "text": [
            "12.219954815976802\n"
          ],
          "name": "stdout"
        }
      ]
    },
    {
      "cell_type": "code",
      "metadata": {
        "colab": {
          "base_uri": "https://localhost:8080/"
        },
        "id": "Sdv00pJ_CSHc",
        "outputId": "439b99fc-defd-4b25-f319-3866af30545c"
      },
      "source": [
        "#we calculate root mean squared error\n",
        "lin_rmse=np.round(np.sqrt(lin_mse),4)\n",
        "\n",
        "print(lin_rmse)\n",
        "#rmse for linear regression is 2.95"
      ],
      "execution_count": 65,
      "outputs": [
        {
          "output_type": "stream",
          "text": [
            "2.959\n"
          ],
          "name": "stdout"
        }
      ]
    },
    {
      "cell_type": "code",
      "metadata": {
        "colab": {
          "base_uri": "https://localhost:8080/"
        },
        "id": "LSFm01vGCfoQ",
        "outputId": "89427de4-3d08-4533-8195-7b5fe68556a9"
      },
      "source": [
        "from sklearn.tree import DecisionTreeRegressor\n",
        "tree_reg=DecisionTreeRegressor()\n",
        "tree_reg.fit(prepared, data_label)"
      ],
      "execution_count": 68,
      "outputs": [
        {
          "output_type": "execute_result",
          "data": {
            "text/plain": [
              "DecisionTreeRegressor(ccp_alpha=0.0, criterion='mse', max_depth=None,\n",
              "                      max_features=None, max_leaf_nodes=None,\n",
              "                      min_impurity_decrease=0.0, min_impurity_split=None,\n",
              "                      min_samples_leaf=1, min_samples_split=2,\n",
              "                      min_weight_fraction_leaf=0.0, presort='deprecated',\n",
              "                      random_state=None, splitter='best')"
            ]
          },
          "metadata": {
            "tags": []
          },
          "execution_count": 68
        }
      ]
    },
    {
      "cell_type": "code",
      "metadata": {
        "colab": {
          "base_uri": "https://localhost:8080/"
        },
        "id": "ZSknlK86EtQF",
        "outputId": "9f7de321-a519-4808-d33d-4edf01eb9ede"
      },
      "source": [
        "mpg_predictions = tree_reg.predict(prepared)\n",
        "tree_mse = mean_squared_error(data_label, mpg_predictions)\n",
        "tree_rmse = np.sqrt(tree_mse)\n",
        "tree_rmse"
      ],
      "execution_count": 69,
      "outputs": [
        {
          "output_type": "execute_result",
          "data": {
            "text/plain": [
              "0.0"
            ]
          },
          "metadata": {
            "tags": []
          },
          "execution_count": 69
        }
      ]
    },
    {
      "cell_type": "code",
      "metadata": {
        "id": "iUDho2R8E1eb"
      },
      "source": [
        "#cross validation as we are getting rmse as 0.0 which means it is overfitted\n",
        "#scikit learn k-fold cross validation splits the training set into k distinct su\n",
        "#subsets called fols then it trains and evaluate the model k times  picking differe\n",
        "'''fold for evaluation and traing on teh k-1 folds'''"
      ],
      "execution_count": null,
      "outputs": []
    },
    {
      "cell_type": "code",
      "metadata": {
        "id": "kzVPIe35Fjce"
      },
      "source": [
        "from sklearn.model_selection import cross_val_score\n",
        "scores=cross_val_score(tree_reg,prepared,data_label,scoring='neg_mean_squared_error',\n",
        "                       cv=10)\n",
        "tree_reg_rmse_scores=np.sqrt(-scores)"
      ],
      "execution_count": 71,
      "outputs": []
    },
    {
      "cell_type": "code",
      "metadata": {
        "colab": {
          "base_uri": "https://localhost:8080/"
        },
        "id": "AN51r9NRFyjn",
        "outputId": "b57e8650-1f6c-4be0-964a-205a4756ea87"
      },
      "source": [
        "tree_reg_rmse_scores.mean()"
      ],
      "execution_count": 74,
      "outputs": [
        {
          "output_type": "execute_result",
          "data": {
            "text/plain": [
              "3.2649258282472546"
            ]
          },
          "metadata": {
            "tags": []
          },
          "execution_count": 74
        }
      ]
    },
    {
      "cell_type": "code",
      "metadata": {
        "colab": {
          "base_uri": "https://localhost:8080/"
        },
        "id": "FNdjmU11GNIF",
        "outputId": "d414c9fa-5df5-4282-ae15-67093d4979fd"
      },
      "source": [
        "scores"
      ],
      "execution_count": 73,
      "outputs": [
        {
          "output_type": "execute_result",
          "data": {
            "text/plain": [
              "array([ -9.91125   ,  -8.524375  ,  -7.7375    , -11.195     ,\n",
              "        -5.2025    ,  -9.23      , -13.203125  , -20.55875   ,\n",
              "       -18.85580645,  -6.88935484])"
            ]
          },
          "metadata": {
            "tags": []
          },
          "execution_count": 73
        }
      ]
    },
    {
      "cell_type": "code",
      "metadata": {
        "id": "JcrAu03KGXGs"
      },
      "source": [
        "from sklearn.ensemble import RandomForestRegressor\n",
        "forest_reg=RandomForestRegressor()\n",
        "forest_reg_scores=cross_val_score(forest_reg,prepared,data_label,\n",
        "                                  scoring='neg_mean_squared_error',\n",
        "                                  cv=10)\n",
        "forest_reg_rmse_scores=np.sqrt(-forest_reg_scores)"
      ],
      "execution_count": 75,
      "outputs": []
    },
    {
      "cell_type": "code",
      "metadata": {
        "colab": {
          "base_uri": "https://localhost:8080/"
        },
        "id": "z4zKM6XiHH3w",
        "outputId": "7fe28b27-73af-405d-8c82-7756ca4531ca"
      },
      "source": [
        "forest_reg_rmse_scores.mean()"
      ],
      "execution_count": 76,
      "outputs": [
        {
          "output_type": "execute_result",
          "data": {
            "text/plain": [
              "2.6085637601165397"
            ]
          },
          "metadata": {
            "tags": []
          },
          "execution_count": 76
        }
      ]
    },
    {
      "cell_type": "code",
      "metadata": {
        "colab": {
          "base_uri": "https://localhost:8080/",
          "height": 35
        },
        "id": "iGNK8d6mHKM1",
        "outputId": "a870051e-ef8c-4ca2-d240-dd476141886b"
      },
      "source": [
        "#after applying linear regrssion, decison tree and random forest \n",
        "'''we can see that random forest performed better but it can be fine tuned'''\n"
      ],
      "execution_count": 77,
      "outputs": [
        {
          "output_type": "execute_result",
          "data": {
            "application/vnd.google.colaboratory.intrinsic+json": {
              "type": "string"
            },
            "text/plain": [
              "'we can see that random forest performed better but it can be fine tuned'"
            ]
          },
          "metadata": {
            "tags": []
          },
          "execution_count": 77
        }
      ]
    },
    {
      "cell_type": "code",
      "metadata": {
        "id": "hfYqsZ5UJAFq"
      },
      "source": [
        "from sklearn.model_selection import GridSearchCV"
      ],
      "execution_count": 78,
      "outputs": []
    },
    {
      "cell_type": "code",
      "metadata": {
        "id": "4oy5XFaPH5fS"
      },
      "source": [
        "#we will use grid search to find best combination of hyperparameters for \n",
        "#random forest:\n",
        "\n",
        "param_grid=[\n",
        "            {'n_estimators':[3,5,10,30,100],'max_features':[2,4,6,8]},\n",
        "            {'bootstrap':[False],'n_estimators':[3,10]}\n",
        "]\n",
        "forest_Reg=RandomForestRegressor()\n",
        "grid_search=GridSearchCV(forest_Reg,param_grid,scoring='neg_mean_squared_error',cv=10)"
      ],
      "execution_count": 79,
      "outputs": []
    },
    {
      "cell_type": "code",
      "metadata": {
        "colab": {
          "base_uri": "https://localhost:8080/"
        },
        "id": "J3Z0tqOJJSzJ",
        "outputId": "f245cc66-045e-4038-ef72-70a18033d32a"
      },
      "source": [
        "grid_search.fit(prepared,data_label)"
      ],
      "execution_count": 80,
      "outputs": [
        {
          "output_type": "execute_result",
          "data": {
            "text/plain": [
              "GridSearchCV(cv=10, error_score=nan,\n",
              "             estimator=RandomForestRegressor(bootstrap=True, ccp_alpha=0.0,\n",
              "                                             criterion='mse', max_depth=None,\n",
              "                                             max_features='auto',\n",
              "                                             max_leaf_nodes=None,\n",
              "                                             max_samples=None,\n",
              "                                             min_impurity_decrease=0.0,\n",
              "                                             min_impurity_split=None,\n",
              "                                             min_samples_leaf=1,\n",
              "                                             min_samples_split=2,\n",
              "                                             min_weight_fraction_leaf=0.0,\n",
              "                                             n_estimators=100, n_jobs=None,\n",
              "                                             oob_score=False, random_state=None,\n",
              "                                             verbose=0, warm_start=False),\n",
              "             iid='deprecated', n_jobs=None,\n",
              "             param_grid=[{'max_features': [2, 4, 6, 8],\n",
              "                          'n_estimators': [3, 5, 10, 30, 100]},\n",
              "                         {'bootstrap': [False], 'n_estimators': [3, 10]}],\n",
              "             pre_dispatch='2*n_jobs', refit=True, return_train_score=False,\n",
              "             scoring='neg_mean_squared_error', verbose=0)"
            ]
          },
          "metadata": {
            "tags": []
          },
          "execution_count": 80
        }
      ]
    },
    {
      "cell_type": "code",
      "metadata": {
        "colab": {
          "base_uri": "https://localhost:8080/"
        },
        "id": "90ZLQxVtJfPP",
        "outputId": "b67ed63a-bfc1-4c88-867c-6e40b2b3761a"
      },
      "source": [
        "grid_search.best_params_"
      ],
      "execution_count": 81,
      "outputs": [
        {
          "output_type": "execute_result",
          "data": {
            "text/plain": [
              "{'max_features': 8, 'n_estimators': 100}"
            ]
          },
          "metadata": {
            "tags": []
          },
          "execution_count": 81
        }
      ]
    },
    {
      "cell_type": "code",
      "metadata": {
        "colab": {
          "base_uri": "https://localhost:8080/"
        },
        "id": "7Pxfp7C0JooC",
        "outputId": "56863f04-20a0-4a95-f1e7-52ae6db5aaec"
      },
      "source": [
        "grid_search.best_score_"
      ],
      "execution_count": 82,
      "outputs": [
        {
          "output_type": "execute_result",
          "data": {
            "text/plain": [
              "-7.039771515927418"
            ]
          },
          "metadata": {
            "tags": []
          },
          "execution_count": 82
        }
      ]
    },
    {
      "cell_type": "code",
      "metadata": {
        "id": "t5F7x7RrJrV0"
      },
      "source": [
        "cv_scores=grid_search.cv_results_"
      ],
      "execution_count": 83,
      "outputs": []
    },
    {
      "cell_type": "code",
      "metadata": {
        "colab": {
          "base_uri": "https://localhost:8080/"
        },
        "id": "i_4KgfaZJzdg",
        "outputId": "f99a9d44-eb0a-4eae-c767-0f2adb198874"
      },
      "source": [
        "cv_scores['params']"
      ],
      "execution_count": 86,
      "outputs": [
        {
          "output_type": "execute_result",
          "data": {
            "text/plain": [
              "[{'max_features': 2, 'n_estimators': 3},\n",
              " {'max_features': 2, 'n_estimators': 5},\n",
              " {'max_features': 2, 'n_estimators': 10},\n",
              " {'max_features': 2, 'n_estimators': 30},\n",
              " {'max_features': 2, 'n_estimators': 100},\n",
              " {'max_features': 4, 'n_estimators': 3},\n",
              " {'max_features': 4, 'n_estimators': 5},\n",
              " {'max_features': 4, 'n_estimators': 10},\n",
              " {'max_features': 4, 'n_estimators': 30},\n",
              " {'max_features': 4, 'n_estimators': 100},\n",
              " {'max_features': 6, 'n_estimators': 3},\n",
              " {'max_features': 6, 'n_estimators': 5},\n",
              " {'max_features': 6, 'n_estimators': 10},\n",
              " {'max_features': 6, 'n_estimators': 30},\n",
              " {'max_features': 6, 'n_estimators': 100},\n",
              " {'max_features': 8, 'n_estimators': 3},\n",
              " {'max_features': 8, 'n_estimators': 5},\n",
              " {'max_features': 8, 'n_estimators': 10},\n",
              " {'max_features': 8, 'n_estimators': 30},\n",
              " {'max_features': 8, 'n_estimators': 100},\n",
              " {'bootstrap': False, 'n_estimators': 3},\n",
              " {'bootstrap': False, 'n_estimators': 10}]"
            ]
          },
          "metadata": {
            "tags": []
          },
          "execution_count": 86
        }
      ]
    },
    {
      "cell_type": "code",
      "metadata": {
        "colab": {
          "base_uri": "https://localhost:8080/"
        },
        "id": "EKw49urcJ0iO",
        "outputId": "8d6e810c-9518-4d31-bc2b-b3b42fd90086"
      },
      "source": [
        "\n",
        "for mean_score,params in zip(cv_scores['mean_test_score'], cv_scores[\"params\"]):\n",
        "  print((np.sqrt(-mean_score)),params)"
      ],
      "execution_count": 96,
      "outputs": [
        {
          "output_type": "stream",
          "text": [
            "3.4658743084858434 {'max_features': 2, 'n_estimators': 3}\n",
            "3.2976136594170935 {'max_features': 2, 'n_estimators': 5}\n",
            "2.92627667203399 {'max_features': 2, 'n_estimators': 10}\n",
            "2.9857970094619675 {'max_features': 2, 'n_estimators': 30}\n",
            "2.8204059087416766 {'max_features': 2, 'n_estimators': 100}\n",
            "3.6453002682493696 {'max_features': 4, 'n_estimators': 3}\n",
            "3.133743677374375 {'max_features': 4, 'n_estimators': 5}\n",
            "2.9085761329158535 {'max_features': 4, 'n_estimators': 10}\n",
            "2.791000975236734 {'max_features': 4, 'n_estimators': 30}\n",
            "2.693700082615109 {'max_features': 4, 'n_estimators': 100}\n",
            "2.9305123172845176 {'max_features': 6, 'n_estimators': 3}\n",
            "3.0583772908563467 {'max_features': 6, 'n_estimators': 5}\n",
            "2.8398658000153416 {'max_features': 6, 'n_estimators': 10}\n",
            "2.6626225792958316 {'max_features': 6, 'n_estimators': 30}\n",
            "2.6722764423190553 {'max_features': 6, 'n_estimators': 100}\n",
            "3.0596597904267266 {'max_features': 8, 'n_estimators': 3}\n",
            "2.9941186031414015 {'max_features': 8, 'n_estimators': 5}\n",
            "2.80420630194552 {'max_features': 8, 'n_estimators': 10}\n",
            "2.6872632480947845 {'max_features': 8, 'n_estimators': 30}\n",
            "2.6532567753475007 {'max_features': 8, 'n_estimators': 100}\n",
            "3.2082085752869625 {'bootstrap': False, 'n_estimators': 3}\n",
            "3.1775103391877675 {'bootstrap': False, 'n_estimators': 10}\n"
          ],
          "name": "stdout"
        }
      ]
    },
    {
      "cell_type": "code",
      "metadata": {
        "id": "YQ-aXcoVKHsC"
      },
      "source": [
        "\n"
      ],
      "execution_count": 96,
      "outputs": []
    },
    {
      "cell_type": "code",
      "metadata": {
        "id": "-cc9soh7KzCP"
      },
      "source": [
        ""
      ],
      "execution_count": null,
      "outputs": []
    }
  ]
}