{
  "nbformat": 4,
  "nbformat_minor": 0,
  "metadata": {
    "colab": {
      "name": "mcqresponses.ipynb",
      "provenance": [],
      "collapsed_sections": [],
      "authorship_tag": "ABX9TyM1Gvhr489rvuuJHJ0e4lsC",
      "include_colab_link": true
    },
    "kernelspec": {
      "name": "python3",
      "display_name": "Python 3"
    },
    "language_info": {
      "name": "python"
    }
  },
  "cells": [
    {
      "cell_type": "markdown",
      "metadata": {
        "id": "view-in-github",
        "colab_type": "text"
      },
      "source": [
        "<a href=\"https://colab.research.google.com/github/sprabhala-cpu/Machine-Learning/blob/main/mcqresponses_v1.ipynb\" target=\"_parent\"><img src=\"https://colab.research.google.com/assets/colab-badge.svg\" alt=\"Open In Colab\"/></a>"
      ]
    },
    {
      "cell_type": "code",
      "metadata": {
        "colab": {
          "base_uri": "https://localhost:8080/"
        },
        "id": "6iJb9K-8B2Hg",
        "outputId": "e1528922-ed8e-483c-bb9e-97d24c67ecab"
      },
      "source": [
        "!wget 'https://github.com/tulip-lab/sit742/raw/master/Assessment/2020/data/MCQResponses.csv'\n",
        "!wget 'https://github.com/tulip-lab/sit742/raw/master/Assessment/2020/data/ConversionRates.csv'"
      ],
      "execution_count": 2,
      "outputs": [
        {
          "output_type": "stream",
          "text": [
            "--2021-05-13 05:49:56--  https://github.com/tulip-lab/sit742/raw/master/Assessment/2020/data/MCQResponses.csv\n",
            "Resolving github.com (github.com)... 140.82.114.3\n",
            "Connecting to github.com (github.com)|140.82.114.3|:443... connected.\n",
            "HTTP request sent, awaiting response... 302 Found\n",
            "Location: https://raw.githubusercontent.com/tulip-lab/sit742/master/Assessment/2020/data/MCQResponses.csv [following]\n",
            "--2021-05-13 05:49:56--  https://raw.githubusercontent.com/tulip-lab/sit742/master/Assessment/2020/data/MCQResponses.csv\n",
            "Resolving raw.githubusercontent.com (raw.githubusercontent.com)... 185.199.111.133, 185.199.110.133, 185.199.108.133, ...\n",
            "Connecting to raw.githubusercontent.com (raw.githubusercontent.com)|185.199.111.133|:443... connected.\n",
            "HTTP request sent, awaiting response... 200 OK\n",
            "Length: 1018741 (995K) [text/plain]\n",
            "Saving to: ‘MCQResponses.csv’\n",
            "\n",
            "MCQResponses.csv    100%[===================>] 994.86K  --.-KB/s    in 0.06s   \n",
            "\n",
            "2021-05-13 05:49:56 (16.4 MB/s) - ‘MCQResponses.csv’ saved [1018741/1018741]\n",
            "\n",
            "--2021-05-13 05:49:56--  https://github.com/tulip-lab/sit742/raw/master/Assessment/2020/data/ConversionRates.csv\n",
            "Resolving github.com (github.com)... 140.82.114.4\n",
            "Connecting to github.com (github.com)|140.82.114.4|:443... connected.\n",
            "HTTP request sent, awaiting response... 302 Found\n",
            "Location: https://raw.githubusercontent.com/tulip-lab/sit742/master/Assessment/2020/data/ConversionRates.csv [following]\n",
            "--2021-05-13 05:49:56--  https://raw.githubusercontent.com/tulip-lab/sit742/master/Assessment/2020/data/ConversionRates.csv\n",
            "Resolving raw.githubusercontent.com (raw.githubusercontent.com)... 185.199.108.133, 185.199.109.133, 185.199.110.133, ...\n",
            "Connecting to raw.githubusercontent.com (raw.githubusercontent.com)|185.199.108.133|:443... connected.\n",
            "HTTP request sent, awaiting response... 200 OK\n",
            "Length: 1877 (1.8K) [text/plain]\n",
            "Saving to: ‘ConversionRates.csv’\n",
            "\n",
            "ConversionRates.csv 100%[===================>]   1.83K  --.-KB/s    in 0s      \n",
            "\n",
            "2021-05-13 05:49:56 (34.5 MB/s) - ‘ConversionRates.csv’ saved [1877/1877]\n",
            "\n"
          ],
          "name": "stdout"
        }
      ]
    },
    {
      "cell_type": "code",
      "metadata": {
        "id": "PhQ1c32jCEFA"
      },
      "source": [
        "import pandas as pd\n",
        "data=pd.read_csv('/content/MCQResponses.csv')"
      ],
      "execution_count": 3,
      "outputs": []
    },
    {
      "cell_type": "code",
      "metadata": {
        "colab": {
          "base_uri": "https://localhost:8080/"
        },
        "id": "HVgf7UYYCQEk",
        "outputId": "6cfcd27a-81c3-47bf-eee6-76a96cd2e03d"
      },
      "source": [
        "data.info()"
      ],
      "execution_count": 4,
      "outputs": [
        {
          "output_type": "stream",
          "text": [
            "<class 'pandas.core.frame.DataFrame'>\n",
            "RangeIndex: 4327 entries, 0 to 4326\n",
            "Data columns (total 17 columns):\n",
            " #   Column                        Non-Null Count  Dtype  \n",
            "---  ------                        --------------  -----  \n",
            " 0   GenderSelect                  4327 non-null   object \n",
            " 1   Country                       4327 non-null   object \n",
            " 2   Age                           4327 non-null   int64  \n",
            " 3   EmploymentStatus              4327 non-null   object \n",
            " 4   CodeWriter                    4327 non-null   object \n",
            " 5   CurrentJobTitleSelect         4327 non-null   object \n",
            " 6   TitleFit                      4251 non-null   object \n",
            " 7   CurrentEmployerType           4275 non-null   object \n",
            " 8   MLToolNextYearSelect          4206 non-null   object \n",
            " 9   MLMethodNextYearSelect        4170 non-null   object \n",
            " 10  LanguageRecommendationSelect  4228 non-null   object \n",
            " 11  FormalEducation               4327 non-null   object \n",
            " 12  MajorSelect                   3952 non-null   object \n",
            " 13  FirstTrainingSelect           4324 non-null   object \n",
            " 14  CompensationAmount            4327 non-null   float64\n",
            " 15  CompensationCurrency          4327 non-null   object \n",
            " 16  JobSatisfaction               4317 non-null   object \n",
            "dtypes: float64(1), int64(1), object(15)\n",
            "memory usage: 574.8+ KB\n"
          ],
          "name": "stdout"
        }
      ]
    },
    {
      "cell_type": "code",
      "metadata": {
        "colab": {
          "base_uri": "https://localhost:8080/",
          "height": 284
        },
        "id": "OsXsgq7NCT7f",
        "outputId": "5ab2ceed-e2a1-43f3-de6d-b08f58db26b8"
      },
      "source": [
        "#statistics\n",
        "data.describe()"
      ],
      "execution_count": 5,
      "outputs": [
        {
          "output_type": "execute_result",
          "data": {
            "text/html": [
              "<div>\n",
              "<style scoped>\n",
              "    .dataframe tbody tr th:only-of-type {\n",
              "        vertical-align: middle;\n",
              "    }\n",
              "\n",
              "    .dataframe tbody tr th {\n",
              "        vertical-align: top;\n",
              "    }\n",
              "\n",
              "    .dataframe thead th {\n",
              "        text-align: right;\n",
              "    }\n",
              "</style>\n",
              "<table border=\"1\" class=\"dataframe\">\n",
              "  <thead>\n",
              "    <tr style=\"text-align: right;\">\n",
              "      <th></th>\n",
              "      <th>Age</th>\n",
              "      <th>CompensationAmount</th>\n",
              "    </tr>\n",
              "  </thead>\n",
              "  <tbody>\n",
              "    <tr>\n",
              "      <th>count</th>\n",
              "      <td>4327.000000</td>\n",
              "      <td>4.327000e+03</td>\n",
              "    </tr>\n",
              "    <tr>\n",
              "      <th>mean</th>\n",
              "      <td>34.129651</td>\n",
              "      <td>2.891714e+06</td>\n",
              "    </tr>\n",
              "    <tr>\n",
              "      <th>std</th>\n",
              "      <td>9.476011</td>\n",
              "      <td>2.946122e+07</td>\n",
              "    </tr>\n",
              "    <tr>\n",
              "      <th>min</th>\n",
              "      <td>0.000000</td>\n",
              "      <td>1.090000e+01</td>\n",
              "    </tr>\n",
              "    <tr>\n",
              "      <th>25%</th>\n",
              "      <td>27.000000</td>\n",
              "      <td>5.000000e+04</td>\n",
              "    </tr>\n",
              "    <tr>\n",
              "      <th>50%</th>\n",
              "      <td>32.000000</td>\n",
              "      <td>1.000000e+05</td>\n",
              "    </tr>\n",
              "    <tr>\n",
              "      <th>75%</th>\n",
              "      <td>39.000000</td>\n",
              "      <td>2.200000e+05</td>\n",
              "    </tr>\n",
              "    <tr>\n",
              "      <th>max</th>\n",
              "      <td>99.000000</td>\n",
              "      <td>8.000000e+08</td>\n",
              "    </tr>\n",
              "  </tbody>\n",
              "</table>\n",
              "</div>"
            ],
            "text/plain": [
              "               Age  CompensationAmount\n",
              "count  4327.000000        4.327000e+03\n",
              "mean     34.129651        2.891714e+06\n",
              "std       9.476011        2.946122e+07\n",
              "min       0.000000        1.090000e+01\n",
              "25%      27.000000        5.000000e+04\n",
              "50%      32.000000        1.000000e+05\n",
              "75%      39.000000        2.200000e+05\n",
              "max      99.000000        8.000000e+08"
            ]
          },
          "metadata": {
            "tags": []
          },
          "execution_count": 5
        }
      ]
    },
    {
      "cell_type": "code",
      "metadata": {
        "colab": {
          "base_uri": "https://localhost:8080/"
        },
        "id": "S1larl3RCgBV",
        "outputId": "72556d1c-ecb2-481f-dbe6-92a8d8ab0fcd"
      },
      "source": [
        "print(data.isnull().any())\n",
        "print(' ')\n",
        "print(data.isnull().sum())\n",
        "print('')\n",
        "print(data.notnull().sum())"
      ],
      "execution_count": 6,
      "outputs": [
        {
          "output_type": "stream",
          "text": [
            "GenderSelect                    False\n",
            "Country                         False\n",
            "Age                             False\n",
            "EmploymentStatus                False\n",
            "CodeWriter                      False\n",
            "CurrentJobTitleSelect           False\n",
            "TitleFit                         True\n",
            "CurrentEmployerType              True\n",
            "MLToolNextYearSelect             True\n",
            "MLMethodNextYearSelect           True\n",
            "LanguageRecommendationSelect     True\n",
            "FormalEducation                 False\n",
            "MajorSelect                      True\n",
            "FirstTrainingSelect              True\n",
            "CompensationAmount              False\n",
            "CompensationCurrency            False\n",
            "JobSatisfaction                  True\n",
            "dtype: bool\n",
            " \n",
            "GenderSelect                      0\n",
            "Country                           0\n",
            "Age                               0\n",
            "EmploymentStatus                  0\n",
            "CodeWriter                        0\n",
            "CurrentJobTitleSelect             0\n",
            "TitleFit                         76\n",
            "CurrentEmployerType              52\n",
            "MLToolNextYearSelect            121\n",
            "MLMethodNextYearSelect          157\n",
            "LanguageRecommendationSelect     99\n",
            "FormalEducation                   0\n",
            "MajorSelect                     375\n",
            "FirstTrainingSelect               3\n",
            "CompensationAmount                0\n",
            "CompensationCurrency              0\n",
            "JobSatisfaction                  10\n",
            "dtype: int64\n",
            "\n",
            "GenderSelect                    4327\n",
            "Country                         4327\n",
            "Age                             4327\n",
            "EmploymentStatus                4327\n",
            "CodeWriter                      4327\n",
            "CurrentJobTitleSelect           4327\n",
            "TitleFit                        4251\n",
            "CurrentEmployerType             4275\n",
            "MLToolNextYearSelect            4206\n",
            "MLMethodNextYearSelect          4170\n",
            "LanguageRecommendationSelect    4228\n",
            "FormalEducation                 4327\n",
            "MajorSelect                     3952\n",
            "FirstTrainingSelect             4324\n",
            "CompensationAmount              4327\n",
            "CompensationCurrency            4327\n",
            "JobSatisfaction                 4317\n",
            "dtype: int64\n"
          ],
          "name": "stdout"
        }
      ]
    },
    {
      "cell_type": "code",
      "metadata": {
        "id": "n1eb3nyICs3d"
      },
      "source": [
        "df_demog_ds=data.loc[data['CurrentJobTitleSelect']=='Data Scientist']\n",
        "#selecting job title data scientist"
      ],
      "execution_count": 7,
      "outputs": []
    },
    {
      "cell_type": "code",
      "metadata": {
        "colab": {
          "base_uri": "https://localhost:8080/"
        },
        "id": "dddKGapfDdZl",
        "outputId": "f5ffcc9d-28c3-4040-e10b-3e28d24029aa"
      },
      "source": [
        "print(df_demog_ds['FormalEducation'].value_counts())\n",
        "print(' ')\n",
        "print(df_demog_ds['FormalEducation'].value_counts()/len(df_demog_ds)*100)"
      ],
      "execution_count": 8,
      "outputs": [
        {
          "output_type": "stream",
          "text": [
            "Master's degree                                                      635\n",
            "Doctoral degree                                                      326\n",
            "Bachelor's degree                                                    252\n",
            "Professional degree                                                   25\n",
            "Some college/university study without earning a bachelor's degree     19\n",
            "I did not complete any formal education past high school               6\n",
            "Name: FormalEducation, dtype: int64\n",
            " \n",
            "Master's degree                                                      50.277118\n",
            "Doctoral degree                                                      25.811560\n",
            "Bachelor's degree                                                    19.952494\n",
            "Professional degree                                                   1.979414\n",
            "Some college/university study without earning a bachelor's degree     1.504355\n",
            "I did not complete any formal education past high school              0.475059\n",
            "Name: FormalEducation, dtype: float64\n"
          ],
          "name": "stdout"
        }
      ]
    },
    {
      "cell_type": "code",
      "metadata": {
        "colab": {
          "base_uri": "https://localhost:8080/",
          "height": 225
        },
        "id": "aLWR026oDrcv",
        "outputId": "711da7d1-7a4a-416f-a8f1-ace1017c742b"
      },
      "source": [
        "import matplotlib.pyplot as plt\n",
        "education=pd.DataFrame(df_demog_ds['FormalEducation'].value_counts())\n",
        "education"
      ],
      "execution_count": 9,
      "outputs": [
        {
          "output_type": "execute_result",
          "data": {
            "text/html": [
              "<div>\n",
              "<style scoped>\n",
              "    .dataframe tbody tr th:only-of-type {\n",
              "        vertical-align: middle;\n",
              "    }\n",
              "\n",
              "    .dataframe tbody tr th {\n",
              "        vertical-align: top;\n",
              "    }\n",
              "\n",
              "    .dataframe thead th {\n",
              "        text-align: right;\n",
              "    }\n",
              "</style>\n",
              "<table border=\"1\" class=\"dataframe\">\n",
              "  <thead>\n",
              "    <tr style=\"text-align: right;\">\n",
              "      <th></th>\n",
              "      <th>FormalEducation</th>\n",
              "    </tr>\n",
              "  </thead>\n",
              "  <tbody>\n",
              "    <tr>\n",
              "      <th>Master's degree</th>\n",
              "      <td>635</td>\n",
              "    </tr>\n",
              "    <tr>\n",
              "      <th>Doctoral degree</th>\n",
              "      <td>326</td>\n",
              "    </tr>\n",
              "    <tr>\n",
              "      <th>Bachelor's degree</th>\n",
              "      <td>252</td>\n",
              "    </tr>\n",
              "    <tr>\n",
              "      <th>Professional degree</th>\n",
              "      <td>25</td>\n",
              "    </tr>\n",
              "    <tr>\n",
              "      <th>Some college/university study without earning a bachelor's degree</th>\n",
              "      <td>19</td>\n",
              "    </tr>\n",
              "    <tr>\n",
              "      <th>I did not complete any formal education past high school</th>\n",
              "      <td>6</td>\n",
              "    </tr>\n",
              "  </tbody>\n",
              "</table>\n",
              "</div>"
            ],
            "text/plain": [
              "                                                    FormalEducation\n",
              "Master's degree                                                 635\n",
              "Doctoral degree                                                 326\n",
              "Bachelor's degree                                               252\n",
              "Professional degree                                              25\n",
              "Some college/university study without earning a...               19\n",
              "I did not complete any formal education past hi...                6"
            ]
          },
          "metadata": {
            "tags": []
          },
          "execution_count": 9
        }
      ]
    },
    {
      "cell_type": "code",
      "metadata": {
        "colab": {
          "base_uri": "https://localhost:8080/",
          "height": 282
        },
        "id": "jns7rQPWEe2K",
        "outputId": "22740556-d485-483d-fd22-2f7de46640a2"
      },
      "source": [
        "(df_demog_ds['FormalEducation'].value_counts()).sort_values().plot(kind = 'barh')"
      ],
      "execution_count": 10,
      "outputs": [
        {
          "output_type": "execute_result",
          "data": {
            "text/plain": [
              "<matplotlib.axes._subplots.AxesSubplot at 0x7faf260fea90>"
            ]
          },
          "metadata": {
            "tags": []
          },
          "execution_count": 10
        },
        {
          "output_type": "display_data",
          "data": {
            "image/png": "[encoded data removed]",
            "text/plain": [
              "<Figure size 432x288 with 1 Axes>"
            ]
          },
          "metadata": {
            "tags": [],
            "needs_background": "light"
          }
        }
      ]
    },
    {
      "cell_type": "code",
      "metadata": {
        "id": "9LHpmmOTE8Pu"
      },
      "source": [
        "conversion_df=pd.read_csv('/content/ConversionRates.csv')\n"
      ],
      "execution_count": 11,
      "outputs": []
    },
    {
      "cell_type": "code",
      "metadata": {
        "id": "0zixrTFzGRlj"
      },
      "source": [
        "conversion_df.drop('Unnamed: 0',axis=1,inplace=True)"
      ],
      "execution_count": 12,
      "outputs": []
    },
    {
      "cell_type": "code",
      "metadata": {
        "colab": {
          "base_uri": "https://localhost:8080/",
          "height": 402
        },
        "id": "zwfSleqmHxTO",
        "outputId": "ed56b0a7-0a93-40f1-bf6c-97ab79796553"
      },
      "source": [
        "conversion_df"
      ],
      "execution_count": 13,
      "outputs": [
        {
          "output_type": "execute_result",
          "data": {
            "text/html": [
              "<div>\n",
              "<style scoped>\n",
              "    .dataframe tbody tr th:only-of-type {\n",
              "        vertical-align: middle;\n",
              "    }\n",
              "\n",
              "    .dataframe tbody tr th {\n",
              "        vertical-align: top;\n",
              "    }\n",
              "\n",
              "    .dataframe thead th {\n",
              "        text-align: right;\n",
              "    }\n",
              "</style>\n",
              "<table border=\"1\" class=\"dataframe\">\n",
              "  <thead>\n",
              "    <tr style=\"text-align: right;\">\n",
              "      <th></th>\n",
              "      <th>originCountry</th>\n",
              "      <th>exchangeRate</th>\n",
              "    </tr>\n",
              "  </thead>\n",
              "  <tbody>\n",
              "    <tr>\n",
              "      <th>0</th>\n",
              "      <td>USD</td>\n",
              "      <td>1.000000</td>\n",
              "    </tr>\n",
              "    <tr>\n",
              "      <th>1</th>\n",
              "      <td>EUR</td>\n",
              "      <td>1.195826</td>\n",
              "    </tr>\n",
              "    <tr>\n",
              "      <th>2</th>\n",
              "      <td>INR</td>\n",
              "      <td>0.015620</td>\n",
              "    </tr>\n",
              "    <tr>\n",
              "      <th>3</th>\n",
              "      <td>GBP</td>\n",
              "      <td>1.324188</td>\n",
              "    </tr>\n",
              "    <tr>\n",
              "      <th>4</th>\n",
              "      <td>BRL</td>\n",
              "      <td>0.321350</td>\n",
              "    </tr>\n",
              "    <tr>\n",
              "      <th>...</th>\n",
              "      <td>...</td>\n",
              "      <td>...</td>\n",
              "    </tr>\n",
              "    <tr>\n",
              "      <th>81</th>\n",
              "      <td>SVC</td>\n",
              "      <td>0.114124</td>\n",
              "    </tr>\n",
              "    <tr>\n",
              "      <th>82</th>\n",
              "      <td>SZL</td>\n",
              "      <td>0.077002</td>\n",
              "    </tr>\n",
              "    <tr>\n",
              "      <th>83</th>\n",
              "      <td>UYU</td>\n",
              "      <td>0.034642</td>\n",
              "    </tr>\n",
              "    <tr>\n",
              "      <th>84</th>\n",
              "      <td>XAF</td>\n",
              "      <td>0.001823</td>\n",
              "    </tr>\n",
              "    <tr>\n",
              "      <th>85</th>\n",
              "      <td>YER</td>\n",
              "      <td>0.003996</td>\n",
              "    </tr>\n",
              "  </tbody>\n",
              "</table>\n",
              "<p>86 rows × 2 columns</p>\n",
              "</div>"
            ],
            "text/plain": [
              "   originCountry  exchangeRate\n",
              "0            USD      1.000000\n",
              "1            EUR      1.195826\n",
              "2            INR      0.015620\n",
              "3            GBP      1.324188\n",
              "4            BRL      0.321350\n",
              "..           ...           ...\n",
              "81           SVC      0.114124\n",
              "82           SZL      0.077002\n",
              "83           UYU      0.034642\n",
              "84           XAF      0.001823\n",
              "85           YER      0.003996\n",
              "\n",
              "[86 rows x 2 columns]"
            ]
          },
          "metadata": {
            "tags": []
          },
          "execution_count": 13
        }
      ]
    },
    {
      "cell_type": "code",
      "metadata": {
        "colab": {
          "base_uri": "https://localhost:8080/",
          "height": 274
        },
        "id": "FHMHnuLwH7Xk",
        "outputId": "f37ac732-52da-433c-e391-655ef61305b7"
      },
      "source": [
        "df_demog_ds.head(3)"
      ],
      "execution_count": 14,
      "outputs": [
        {
          "output_type": "execute_result",
          "data": {
            "text/html": [
              "<div>\n",
              "<style scoped>\n",
              "    .dataframe tbody tr th:only-of-type {\n",
              "        vertical-align: middle;\n",
              "    }\n",
              "\n",
              "    .dataframe tbody tr th {\n",
              "        vertical-align: top;\n",
              "    }\n",
              "\n",
              "    .dataframe thead th {\n",
              "        text-align: right;\n",
              "    }\n",
              "</style>\n",
              "<table border=\"1\" class=\"dataframe\">\n",
              "  <thead>\n",
              "    <tr style=\"text-align: right;\">\n",
              "      <th></th>\n",
              "      <th>GenderSelect</th>\n",
              "      <th>Country</th>\n",
              "      <th>Age</th>\n",
              "      <th>EmploymentStatus</th>\n",
              "      <th>CodeWriter</th>\n",
              "      <th>CurrentJobTitleSelect</th>\n",
              "      <th>TitleFit</th>\n",
              "      <th>CurrentEmployerType</th>\n",
              "      <th>MLToolNextYearSelect</th>\n",
              "      <th>MLMethodNextYearSelect</th>\n",
              "      <th>LanguageRecommendationSelect</th>\n",
              "      <th>FormalEducation</th>\n",
              "      <th>MajorSelect</th>\n",
              "      <th>FirstTrainingSelect</th>\n",
              "      <th>CompensationAmount</th>\n",
              "      <th>CompensationCurrency</th>\n",
              "      <th>JobSatisfaction</th>\n",
              "    </tr>\n",
              "  </thead>\n",
              "  <tbody>\n",
              "    <tr>\n",
              "      <th>3</th>\n",
              "      <td>Male</td>\n",
              "      <td>India</td>\n",
              "      <td>27</td>\n",
              "      <td>Employed full-time</td>\n",
              "      <td>Yes</td>\n",
              "      <td>Data Scientist</td>\n",
              "      <td>Fine</td>\n",
              "      <td>Employed by professional services/consulting f...</td>\n",
              "      <td>Other</td>\n",
              "      <td>Deep learning</td>\n",
              "      <td>Python</td>\n",
              "      <td>Bachelor's degree</td>\n",
              "      <td>Electrical Engineering</td>\n",
              "      <td>University courses</td>\n",
              "      <td>95000.0</td>\n",
              "      <td>INR</td>\n",
              "      <td>7</td>\n",
              "    </tr>\n",
              "    <tr>\n",
              "      <th>9</th>\n",
              "      <td>Male</td>\n",
              "      <td>Colombia</td>\n",
              "      <td>34</td>\n",
              "      <td>Employed full-time</td>\n",
              "      <td>Yes</td>\n",
              "      <td>Data Scientist</td>\n",
              "      <td>Fine</td>\n",
              "      <td>Employed by a company that doesn't perform adv...</td>\n",
              "      <td>Spark / MLlib</td>\n",
              "      <td>Ensemble Methods (e.g. boosting, bagging)</td>\n",
              "      <td>Python</td>\n",
              "      <td>Master's degree</td>\n",
              "      <td>Computer Science</td>\n",
              "      <td>Online courses (coursera, udemy, edx, etc.)</td>\n",
              "      <td>156000000.0</td>\n",
              "      <td>COP</td>\n",
              "      <td>9</td>\n",
              "    </tr>\n",
              "    <tr>\n",
              "      <th>10</th>\n",
              "      <td>Male</td>\n",
              "      <td>Germany</td>\n",
              "      <td>41</td>\n",
              "      <td>Independent contractor, freelancer, or self-em...</td>\n",
              "      <td>Yes</td>\n",
              "      <td>Data Scientist</td>\n",
              "      <td>Fine</td>\n",
              "      <td>Self-employed</td>\n",
              "      <td>I don't plan on learning a new tool/technology</td>\n",
              "      <td>Factor Analysis</td>\n",
              "      <td>Python</td>\n",
              "      <td>I did not complete any formal education past h...</td>\n",
              "      <td>NaN</td>\n",
              "      <td>Work</td>\n",
              "      <td>150000.0</td>\n",
              "      <td>EUR</td>\n",
              "      <td>8</td>\n",
              "    </tr>\n",
              "  </tbody>\n",
              "</table>\n",
              "</div>"
            ],
            "text/plain": [
              "   GenderSelect   Country  ...  CompensationCurrency JobSatisfaction\n",
              "3          Male     India  ...                   INR               7\n",
              "9          Male  Colombia  ...                   COP               9\n",
              "10         Male   Germany  ...                   EUR               8\n",
              "\n",
              "[3 rows x 17 columns]"
            ]
          },
          "metadata": {
            "tags": []
          },
          "execution_count": 14
        }
      ]
    },
    {
      "cell_type": "code",
      "metadata": {
        "id": "IhKT2kSuH_ky"
      },
      "source": [
        "salary_df=pd.merge(df_demog_ds,conversion_df,left_on='CompensationCurrency',right_on='originCountry',how='inner')"
      ],
      "execution_count": 15,
      "outputs": []
    },
    {
      "cell_type": "code",
      "metadata": {
        "colab": {
          "base_uri": "https://localhost:8080/",
          "height": 194
        },
        "id": "mIQxlNFNId3W",
        "outputId": "2bb20f57-0e3b-4074-da11-aadcb61ba2ac"
      },
      "source": [
        "salary_df.head(2)"
      ],
      "execution_count": 16,
      "outputs": [
        {
          "output_type": "execute_result",
          "data": {
            "text/html": [
              "<div>\n",
              "<style scoped>\n",
              "    .dataframe tbody tr th:only-of-type {\n",
              "        vertical-align: middle;\n",
              "    }\n",
              "\n",
              "    .dataframe tbody tr th {\n",
              "        vertical-align: top;\n",
              "    }\n",
              "\n",
              "    .dataframe thead th {\n",
              "        text-align: right;\n",
              "    }\n",
              "</style>\n",
              "<table border=\"1\" class=\"dataframe\">\n",
              "  <thead>\n",
              "    <tr style=\"text-align: right;\">\n",
              "      <th></th>\n",
              "      <th>GenderSelect</th>\n",
              "      <th>Country</th>\n",
              "      <th>Age</th>\n",
              "      <th>EmploymentStatus</th>\n",
              "      <th>CodeWriter</th>\n",
              "      <th>CurrentJobTitleSelect</th>\n",
              "      <th>TitleFit</th>\n",
              "      <th>CurrentEmployerType</th>\n",
              "      <th>MLToolNextYearSelect</th>\n",
              "      <th>MLMethodNextYearSelect</th>\n",
              "      <th>LanguageRecommendationSelect</th>\n",
              "      <th>FormalEducation</th>\n",
              "      <th>MajorSelect</th>\n",
              "      <th>FirstTrainingSelect</th>\n",
              "      <th>CompensationAmount</th>\n",
              "      <th>CompensationCurrency</th>\n",
              "      <th>JobSatisfaction</th>\n",
              "      <th>originCountry</th>\n",
              "      <th>exchangeRate</th>\n",
              "    </tr>\n",
              "  </thead>\n",
              "  <tbody>\n",
              "    <tr>\n",
              "      <th>0</th>\n",
              "      <td>Male</td>\n",
              "      <td>India</td>\n",
              "      <td>27</td>\n",
              "      <td>Employed full-time</td>\n",
              "      <td>Yes</td>\n",
              "      <td>Data Scientist</td>\n",
              "      <td>Fine</td>\n",
              "      <td>Employed by professional services/consulting f...</td>\n",
              "      <td>Other</td>\n",
              "      <td>Deep learning</td>\n",
              "      <td>Python</td>\n",
              "      <td>Bachelor's degree</td>\n",
              "      <td>Electrical Engineering</td>\n",
              "      <td>University courses</td>\n",
              "      <td>95000.0</td>\n",
              "      <td>INR</td>\n",
              "      <td>7</td>\n",
              "      <td>INR</td>\n",
              "      <td>0.01562</td>\n",
              "    </tr>\n",
              "    <tr>\n",
              "      <th>1</th>\n",
              "      <td>Male</td>\n",
              "      <td>India</td>\n",
              "      <td>29</td>\n",
              "      <td>Employed full-time</td>\n",
              "      <td>Yes</td>\n",
              "      <td>Data Scientist</td>\n",
              "      <td>Perfectly</td>\n",
              "      <td>Employed by a company that performs advanced a...</td>\n",
              "      <td>Python</td>\n",
              "      <td>Bayesian Methods</td>\n",
              "      <td>R</td>\n",
              "      <td>Master's degree</td>\n",
              "      <td>Computer Science</td>\n",
              "      <td>University courses</td>\n",
              "      <td>120000.0</td>\n",
              "      <td>INR</td>\n",
              "      <td>7</td>\n",
              "      <td>INR</td>\n",
              "      <td>0.01562</td>\n",
              "    </tr>\n",
              "  </tbody>\n",
              "</table>\n",
              "</div>"
            ],
            "text/plain": [
              "  GenderSelect Country  Age  ... JobSatisfaction originCountry exchangeRate\n",
              "0         Male   India   27  ...               7           INR      0.01562\n",
              "1         Male   India   29  ...               7           INR      0.01562\n",
              "\n",
              "[2 rows x 19 columns]"
            ]
          },
          "metadata": {
            "tags": []
          },
          "execution_count": 16
        }
      ]
    },
    {
      "cell_type": "code",
      "metadata": {
        "id": "ZLsyEbvxIgRX"
      },
      "source": [
        "salary_df['australian_pay']=salary_df['CompensationAmount']*salary_df['exchangeRate']"
      ],
      "execution_count": 17,
      "outputs": []
    },
    {
      "cell_type": "code",
      "metadata": {
        "colab": {
          "base_uri": "https://localhost:8080/",
          "height": 194
        },
        "id": "GZuobpsSIvId",
        "outputId": "600b2c5f-b6c6-49a0-aecf-e49604148e4f"
      },
      "source": [
        "salary_df.head(2)"
      ],
      "execution_count": 18,
      "outputs": [
        {
          "output_type": "execute_result",
          "data": {
            "text/html": [
              "<div>\n",
              "<style scoped>\n",
              "    .dataframe tbody tr th:only-of-type {\n",
              "        vertical-align: middle;\n",
              "    }\n",
              "\n",
              "    .dataframe tbody tr th {\n",
              "        vertical-align: top;\n",
              "    }\n",
              "\n",
              "    .dataframe thead th {\n",
              "        text-align: right;\n",
              "    }\n",
              "</style>\n",
              "<table border=\"1\" class=\"dataframe\">\n",
              "  <thead>\n",
              "    <tr style=\"text-align: right;\">\n",
              "      <th></th>\n",
              "      <th>GenderSelect</th>\n",
              "      <th>Country</th>\n",
              "      <th>Age</th>\n",
              "      <th>EmploymentStatus</th>\n",
              "      <th>CodeWriter</th>\n",
              "      <th>CurrentJobTitleSelect</th>\n",
              "      <th>TitleFit</th>\n",
              "      <th>CurrentEmployerType</th>\n",
              "      <th>MLToolNextYearSelect</th>\n",
              "      <th>MLMethodNextYearSelect</th>\n",
              "      <th>LanguageRecommendationSelect</th>\n",
              "      <th>FormalEducation</th>\n",
              "      <th>MajorSelect</th>\n",
              "      <th>FirstTrainingSelect</th>\n",
              "      <th>CompensationAmount</th>\n",
              "      <th>CompensationCurrency</th>\n",
              "      <th>JobSatisfaction</th>\n",
              "      <th>originCountry</th>\n",
              "      <th>exchangeRate</th>\n",
              "      <th>australian_pay</th>\n",
              "    </tr>\n",
              "  </thead>\n",
              "  <tbody>\n",
              "    <tr>\n",
              "      <th>0</th>\n",
              "      <td>Male</td>\n",
              "      <td>India</td>\n",
              "      <td>27</td>\n",
              "      <td>Employed full-time</td>\n",
              "      <td>Yes</td>\n",
              "      <td>Data Scientist</td>\n",
              "      <td>Fine</td>\n",
              "      <td>Employed by professional services/consulting f...</td>\n",
              "      <td>Other</td>\n",
              "      <td>Deep learning</td>\n",
              "      <td>Python</td>\n",
              "      <td>Bachelor's degree</td>\n",
              "      <td>Electrical Engineering</td>\n",
              "      <td>University courses</td>\n",
              "      <td>95000.0</td>\n",
              "      <td>INR</td>\n",
              "      <td>7</td>\n",
              "      <td>INR</td>\n",
              "      <td>0.01562</td>\n",
              "      <td>1483.9</td>\n",
              "    </tr>\n",
              "    <tr>\n",
              "      <th>1</th>\n",
              "      <td>Male</td>\n",
              "      <td>India</td>\n",
              "      <td>29</td>\n",
              "      <td>Employed full-time</td>\n",
              "      <td>Yes</td>\n",
              "      <td>Data Scientist</td>\n",
              "      <td>Perfectly</td>\n",
              "      <td>Employed by a company that performs advanced a...</td>\n",
              "      <td>Python</td>\n",
              "      <td>Bayesian Methods</td>\n",
              "      <td>R</td>\n",
              "      <td>Master's degree</td>\n",
              "      <td>Computer Science</td>\n",
              "      <td>University courses</td>\n",
              "      <td>120000.0</td>\n",
              "      <td>INR</td>\n",
              "      <td>7</td>\n",
              "      <td>INR</td>\n",
              "      <td>0.01562</td>\n",
              "      <td>1874.4</td>\n",
              "    </tr>\n",
              "  </tbody>\n",
              "</table>\n",
              "</div>"
            ],
            "text/plain": [
              "  GenderSelect Country  Age  ... originCountry exchangeRate australian_pay\n",
              "0         Male   India   27  ...           INR      0.01562         1483.9\n",
              "1         Male   India   29  ...           INR      0.01562         1874.4\n",
              "\n",
              "[2 rows x 20 columns]"
            ]
          },
          "metadata": {
            "tags": []
          },
          "execution_count": 18
        }
      ]
    },
    {
      "cell_type": "code",
      "metadata": {
        "colab": {
          "base_uri": "https://localhost:8080/"
        },
        "id": "OCGYqtvkIx1w",
        "outputId": "ccce6613-124d-4323-e9f0-e71b206868ce"
      },
      "source": [
        "salary_df['australian_pay'].describe()"
      ],
      "execution_count": 19,
      "outputs": [
        {
          "output_type": "execute_result",
          "data": {
            "text/plain": [
              "count      1262.000000\n",
              "mean      80941.171090\n",
              "std       60806.927249\n",
              "min           0.060000\n",
              "25%       34446.431400\n",
              "50%       71268.060000\n",
              "75%      116395.188500\n",
              "max      595884.600000\n",
              "Name: australian_pay, dtype: float64"
            ]
          },
          "metadata": {
            "tags": []
          },
          "execution_count": 19
        }
      ]
    },
    {
      "cell_type": "code",
      "metadata": {
        "id": "Bo1zR_RCJUoR"
      },
      "source": [
        "Australia_respondes=salary_df.loc[salary_df['Country']=='Australia']"
      ],
      "execution_count": 20,
      "outputs": []
    },
    {
      "cell_type": "code",
      "metadata": {
        "colab": {
          "base_uri": "https://localhost:8080/",
          "height": 296
        },
        "id": "muC09VXNJxXJ",
        "outputId": "b12d3403-0010-431b-8990-61519925708c"
      },
      "source": [
        "\n",
        "import seaborn as sns\n",
        "sns.boxplot(x=Australia_respondes['australian_pay'])\n",
        "\n",
        "plt.title(\"Boxplot of salary on Australia\")\n",
        "plt.show()"
      ],
      "execution_count": 21,
      "outputs": [
        {
          "output_type": "display_data",
          "data": {
            "image/png": "[encoded data removed]",
            "text/plain": [
              "<Figure size 432x288 with 1 Axes>"
            ]
          },
          "metadata": {
            "tags": [],
            "needs_background": "light"
          }
        }
      ]
    },
    {
      "cell_type": "code",
      "metadata": {
        "colab": {
          "base_uri": "https://localhost:8080/"
        },
        "id": "6vNVBNkiJ0gH",
        "outputId": "ef7e347a-23d8-4bc0-8555-faf3efe6d15b"
      },
      "source": [
        "Australia_respondes['australian_pay'].describe()"
      ],
      "execution_count": 23,
      "outputs": [
        {
          "output_type": "execute_result",
          "data": {
            "text/plain": [
              "count        29.00000\n",
              "mean     119817.97885\n",
              "std       67153.46513\n",
              "min          72.20790\n",
              "25%       96277.20000\n",
              "50%      112323.40000\n",
              "75%      144415.80000\n",
              "max      280808.50000\n",
              "Name: australian_pay, dtype: float64"
            ]
          },
          "metadata": {
            "tags": []
          },
          "execution_count": 23
        }
      ]
    },
    {
      "cell_type": "code",
      "metadata": {
        "id": "VnLDNbUSKghC"
      },
      "source": [
        "Australia_respondes=Australia_respondes.loc[(Australia_respondes['australian_pay']>40000) & (Australia_respondes['australian_pay']<250000)]"
      ],
      "execution_count": 28,
      "outputs": []
    },
    {
      "cell_type": "code",
      "metadata": {
        "id": "q3TmpQ8sK7Fg",
        "colab": {
          "base_uri": "https://localhost:8080/",
          "height": 284
        },
        "outputId": "bc7f57cb-4bd4-40b5-9487-456dcdce478e"
      },
      "source": [
        "Australia_respondes.describe()"
      ],
      "execution_count": 29,
      "outputs": [
        {
          "output_type": "execute_result",
          "data": {
            "text/html": [
              "<div>\n",
              "<style scoped>\n",
              "    .dataframe tbody tr th:only-of-type {\n",
              "        vertical-align: middle;\n",
              "    }\n",
              "\n",
              "    .dataframe tbody tr th {\n",
              "        vertical-align: top;\n",
              "    }\n",
              "\n",
              "    .dataframe thead th {\n",
              "        text-align: right;\n",
              "    }\n",
              "</style>\n",
              "<table border=\"1\" class=\"dataframe\">\n",
              "  <thead>\n",
              "    <tr style=\"text-align: right;\">\n",
              "      <th></th>\n",
              "      <th>Age</th>\n",
              "      <th>CompensationAmount</th>\n",
              "      <th>exchangeRate</th>\n",
              "      <th>australian_pay</th>\n",
              "    </tr>\n",
              "  </thead>\n",
              "  <tbody>\n",
              "    <tr>\n",
              "      <th>count</th>\n",
              "      <td>25.000000</td>\n",
              "      <td>25.000000</td>\n",
              "      <td>2.500000e+01</td>\n",
              "      <td>25.000000</td>\n",
              "    </tr>\n",
              "    <tr>\n",
              "      <th>mean</th>\n",
              "      <td>35.040000</td>\n",
              "      <td>158760.000000</td>\n",
              "      <td>8.023100e-01</td>\n",
              "      <td>127374.735600</td>\n",
              "    </tr>\n",
              "    <tr>\n",
              "      <th>std</th>\n",
              "      <td>6.648809</td>\n",
              "      <td>61300.679713</td>\n",
              "      <td>2.266233e-16</td>\n",
              "      <td>49182.148341</td>\n",
              "    </tr>\n",
              "    <tr>\n",
              "      <th>min</th>\n",
              "      <td>27.000000</td>\n",
              "      <td>50000.000000</td>\n",
              "      <td>8.023100e-01</td>\n",
              "      <td>40115.500000</td>\n",
              "    </tr>\n",
              "    <tr>\n",
              "      <th>25%</th>\n",
              "      <td>30.000000</td>\n",
              "      <td>125000.000000</td>\n",
              "      <td>8.023100e-01</td>\n",
              "      <td>100288.750000</td>\n",
              "    </tr>\n",
              "    <tr>\n",
              "      <th>50%</th>\n",
              "      <td>34.000000</td>\n",
              "      <td>147000.000000</td>\n",
              "      <td>8.023100e-01</td>\n",
              "      <td>117939.570000</td>\n",
              "    </tr>\n",
              "    <tr>\n",
              "      <th>75%</th>\n",
              "      <td>37.000000</td>\n",
              "      <td>180000.000000</td>\n",
              "      <td>8.023100e-01</td>\n",
              "      <td>144415.800000</td>\n",
              "    </tr>\n",
              "    <tr>\n",
              "      <th>max</th>\n",
              "      <td>53.000000</td>\n",
              "      <td>290000.000000</td>\n",
              "      <td>8.023100e-01</td>\n",
              "      <td>232669.900000</td>\n",
              "    </tr>\n",
              "  </tbody>\n",
              "</table>\n",
              "</div>"
            ],
            "text/plain": [
              "             Age  CompensationAmount  exchangeRate  australian_pay\n",
              "count  25.000000           25.000000  2.500000e+01       25.000000\n",
              "mean   35.040000       158760.000000  8.023100e-01   127374.735600\n",
              "std     6.648809        61300.679713  2.266233e-16    49182.148341\n",
              "min    27.000000        50000.000000  8.023100e-01    40115.500000\n",
              "25%    30.000000       125000.000000  8.023100e-01   100288.750000\n",
              "50%    34.000000       147000.000000  8.023100e-01   117939.570000\n",
              "75%    37.000000       180000.000000  8.023100e-01   144415.800000\n",
              "max    53.000000       290000.000000  8.023100e-01   232669.900000"
            ]
          },
          "metadata": {
            "tags": []
          },
          "execution_count": 29
        }
      ]
    },
    {
      "cell_type": "code",
      "metadata": {
        "id": "rF1RglYSRMYk",
        "colab": {
          "base_uri": "https://localhost:8080/",
          "height": 297
        },
        "outputId": "b44d5968-97a8-4014-e860-1ebbc74aa4fb"
      },
      "source": [
        "sns.boxplot(x=Australia_respondes['australian_pay'])"
      ],
      "execution_count": 30,
      "outputs": [
        {
          "output_type": "execute_result",
          "data": {
            "text/plain": [
              "<matplotlib.axes._subplots.AxesSubplot at 0x7faf12541d90>"
            ]
          },
          "metadata": {
            "tags": []
          },
          "execution_count": 30
        },
        {
          "output_type": "display_data",
          "data": {
            "image/png": "[encoded data removed]",
            "text/plain": [
              "<Figure size 432x288 with 1 Axes>"
            ]
          },
          "metadata": {
            "tags": [],
            "needs_background": "light"
          }
        }
      ]
    },
    {
      "cell_type": "code",
      "metadata": {
        "id": "knCYMtLmSaye"
      },
      "source": [
        "#1.3 exploring the data scientist demographs\n"
      ],
      "execution_count": 31,
      "outputs": []
    },
    {
      "cell_type": "code",
      "metadata": {
        "colab": {
          "base_uri": "https://localhost:8080/",
          "height": 295
        },
        "id": "x-lbGctJSmgM",
        "outputId": "6ebf1d04-1a76-4bd8-dc30-c2a3d906707a"
      },
      "source": [
        "plt.title('box plot of age')\n",
        "sns.boxplot(x=df_demog_ds['Age'])\n",
        "plt.show()\n"
      ],
      "execution_count": 39,
      "outputs": [
        {
          "output_type": "display_data",
          "data": {
            "image/png": "[encoded data removed]",
            "text/plain": [
              "<Figure size 432x288 with 1 Axes>"
            ]
          },
          "metadata": {
            "tags": [],
            "needs_background": "light"
          }
        }
      ]
    },
    {
      "cell_type": "code",
      "metadata": {
        "colab": {
          "base_uri": "https://localhost:8080/"
        },
        "id": "1mzeaagwSqYb",
        "outputId": "8ac6e070-3754-4296-8c0a-b25fffe2d7a5"
      },
      "source": [
        "#five number summary descriptive statistics\n",
        "import numpy as np\n",
        "\n",
        "df_demog_ds['Age'].describe()\n",
        "print(df_demog_ds['Age'].min())\n",
        "print(df_demog_ds['Age'].max())\n",
        "print(df_demog_ds['Age'].std())\n",
        "print(np.round(df_demog_ds['Age'].mean()))\n",
        "print(df_demog_ds['Age'].median())"
      ],
      "execution_count": 50,
      "outputs": [
        {
          "output_type": "stream",
          "text": [
            "16\n",
            "75\n",
            "8.860529603022176\n",
            "34.0\n",
            "32.0\n"
          ],
          "name": "stdout"
        }
      ]
    },
    {
      "cell_type": "code",
      "metadata": {
        "id": "U515acc4Vfe3"
      },
      "source": [
        "#((df_demog_ds['Age']>=24)&(df_demog_ds['Age']<=60)).value_counts()\n",
        "\n",
        "''' we can also use between operator'''\n",
        "age=df_demog_ds[df_demog_ds['Age'].between(24,60)]"
      ],
      "execution_count": 69,
      "outputs": []
    },
    {
      "cell_type": "code",
      "metadata": {
        "colab": {
          "base_uri": "https://localhost:8080/",
          "height": 284
        },
        "id": "do4vrzq8Wdec",
        "outputId": "9c808a49-a48c-4788-b0ba-81095a2de891"
      },
      "source": [
        "age.describe()"
      ],
      "execution_count": 71,
      "outputs": [
        {
          "output_type": "execute_result",
          "data": {
            "text/html": [
              "<div>\n",
              "<style scoped>\n",
              "    .dataframe tbody tr th:only-of-type {\n",
              "        vertical-align: middle;\n",
              "    }\n",
              "\n",
              "    .dataframe tbody tr th {\n",
              "        vertical-align: top;\n",
              "    }\n",
              "\n",
              "    .dataframe thead th {\n",
              "        text-align: right;\n",
              "    }\n",
              "</style>\n",
              "<table border=\"1\" class=\"dataframe\">\n",
              "  <thead>\n",
              "    <tr style=\"text-align: right;\">\n",
              "      <th></th>\n",
              "      <th>Age</th>\n",
              "      <th>CompensationAmount</th>\n",
              "    </tr>\n",
              "  </thead>\n",
              "  <tbody>\n",
              "    <tr>\n",
              "      <th>count</th>\n",
              "      <td>1188.000000</td>\n",
              "      <td>1.188000e+03</td>\n",
              "    </tr>\n",
              "    <tr>\n",
              "      <th>mean</th>\n",
              "      <td>33.872054</td>\n",
              "      <td>2.089826e+06</td>\n",
              "    </tr>\n",
              "    <tr>\n",
              "      <th>std</th>\n",
              "      <td>7.957901</td>\n",
              "      <td>2.183864e+07</td>\n",
              "    </tr>\n",
              "    <tr>\n",
              "      <th>min</th>\n",
              "      <td>24.000000</td>\n",
              "      <td>1.500000e+01</td>\n",
              "    </tr>\n",
              "    <tr>\n",
              "      <th>25%</th>\n",
              "      <td>28.000000</td>\n",
              "      <td>6.000000e+04</td>\n",
              "    </tr>\n",
              "    <tr>\n",
              "      <th>50%</th>\n",
              "      <td>32.000000</td>\n",
              "      <td>1.100000e+05</td>\n",
              "    </tr>\n",
              "    <tr>\n",
              "      <th>75%</th>\n",
              "      <td>38.000000</td>\n",
              "      <td>1.800000e+05</td>\n",
              "    </tr>\n",
              "    <tr>\n",
              "      <th>max</th>\n",
              "      <td>60.000000</td>\n",
              "      <td>5.300000e+08</td>\n",
              "    </tr>\n",
              "  </tbody>\n",
              "</table>\n",
              "</div>"
            ],
            "text/plain": [
              "               Age  CompensationAmount\n",
              "count  1188.000000        1.188000e+03\n",
              "mean     33.872054        2.089826e+06\n",
              "std       7.957901        2.183864e+07\n",
              "min      24.000000        1.500000e+01\n",
              "25%      28.000000        6.000000e+04\n",
              "50%      32.000000        1.100000e+05\n",
              "75%      38.000000        1.800000e+05\n",
              "max      60.000000        5.300000e+08"
            ]
          },
          "metadata": {
            "tags": []
          },
          "execution_count": 71
        }
      ]
    },
    {
      "cell_type": "code",
      "metadata": {
        "colab": {
          "base_uri": "https://localhost:8080/"
        },
        "id": "iwBxr6EHTN_3",
        "outputId": "4bd1ea23-711e-4a99-c9a1-1fdf0023ffbe"
      },
      "source": [
        "#number of people with age group of 24 and 60\n",
        "(df_demog_ds['Age']<18).value_counts()"
      ],
      "execution_count": 61,
      "outputs": [
        {
          "output_type": "execute_result",
          "data": {
            "text/plain": [
              "False    1262\n",
              "True        1\n",
              "Name: Age, dtype: int64"
            ]
          },
          "metadata": {
            "tags": []
          },
          "execution_count": 61
        }
      ]
    },
    {
      "cell_type": "code",
      "metadata": {
        "colab": {
          "base_uri": "https://localhost:8080/",
          "height": 147
        },
        "id": "5kDCQ4dhU7pU",
        "outputId": "8521abc2-15dd-4754-d297-1e8106963c35"
      },
      "source": [
        "df_demog_ds[df_demog_ds['Age']<18]"
      ],
      "execution_count": 72,
      "outputs": [
        {
          "output_type": "execute_result",
          "data": {
            "text/html": [
              "<div>\n",
              "<style scoped>\n",
              "    .dataframe tbody tr th:only-of-type {\n",
              "        vertical-align: middle;\n",
              "    }\n",
              "\n",
              "    .dataframe tbody tr th {\n",
              "        vertical-align: top;\n",
              "    }\n",
              "\n",
              "    .dataframe thead th {\n",
              "        text-align: right;\n",
              "    }\n",
              "</style>\n",
              "<table border=\"1\" class=\"dataframe\">\n",
              "  <thead>\n",
              "    <tr style=\"text-align: right;\">\n",
              "      <th></th>\n",
              "      <th>GenderSelect</th>\n",
              "      <th>Country</th>\n",
              "      <th>Age</th>\n",
              "      <th>EmploymentStatus</th>\n",
              "      <th>CodeWriter</th>\n",
              "      <th>CurrentJobTitleSelect</th>\n",
              "      <th>TitleFit</th>\n",
              "      <th>CurrentEmployerType</th>\n",
              "      <th>MLToolNextYearSelect</th>\n",
              "      <th>MLMethodNextYearSelect</th>\n",
              "      <th>LanguageRecommendationSelect</th>\n",
              "      <th>FormalEducation</th>\n",
              "      <th>MajorSelect</th>\n",
              "      <th>FirstTrainingSelect</th>\n",
              "      <th>CompensationAmount</th>\n",
              "      <th>CompensationCurrency</th>\n",
              "      <th>JobSatisfaction</th>\n",
              "    </tr>\n",
              "  </thead>\n",
              "  <tbody>\n",
              "    <tr>\n",
              "      <th>535</th>\n",
              "      <td>Male</td>\n",
              "      <td>United States</td>\n",
              "      <td>16</td>\n",
              "      <td>Independent contractor, freelancer, or self-em...</td>\n",
              "      <td>Yes</td>\n",
              "      <td>Data Scientist</td>\n",
              "      <td>Fine</td>\n",
              "      <td>Employed by professional services/consulting f...</td>\n",
              "      <td>Python</td>\n",
              "      <td>Genetic &amp; Evolutionary Algorithms</td>\n",
              "      <td>R</td>\n",
              "      <td>Some college/university study without earning ...</td>\n",
              "      <td>Mathematics or statistics</td>\n",
              "      <td>Self-taught</td>\n",
              "      <td>50000.0</td>\n",
              "      <td>USD</td>\n",
              "      <td>5</td>\n",
              "    </tr>\n",
              "  </tbody>\n",
              "</table>\n",
              "</div>"
            ],
            "text/plain": [
              "    GenderSelect        Country  ...  CompensationCurrency JobSatisfaction\n",
              "535         Male  United States  ...                   USD               5\n",
              "\n",
              "[1 rows x 17 columns]"
            ]
          },
          "metadata": {
            "tags": []
          },
          "execution_count": 72
        }
      ]
    },
    {
      "cell_type": "code",
      "metadata": {
        "colab": {
          "base_uri": "https://localhost:8080/"
        },
        "id": "XrfGp8JsWyrv",
        "outputId": "abe35a0b-3ed1-417f-bd32-57423597af5d"
      },
      "source": [
        "#gender\n",
        "df_demog_ds['GenderSelect'].value_counts()"
      ],
      "execution_count": 73,
      "outputs": [
        {
          "output_type": "execute_result",
          "data": {
            "text/plain": [
              "Male                    1089\n",
              "Female                   168\n",
              "A different identity       6\n",
              "Name: GenderSelect, dtype: int64"
            ]
          },
          "metadata": {
            "tags": []
          },
          "execution_count": 73
        }
      ]
    },
    {
      "cell_type": "code",
      "metadata": {
        "colab": {
          "base_uri": "https://localhost:8080/",
          "height": 265
        },
        "id": "OY5e1x9bXEcP",
        "outputId": "d6b0a1d6-a8a5-4fa5-afc6-4da44851919a"
      },
      "source": [
        "#plot\n",
        "df_demog_ds['GenderSelect'].value_counts().sort_values(ascending=False).plot(kind='barh')\n",
        "plt.show()"
      ],
      "execution_count": 79,
      "outputs": [
        {
          "output_type": "display_data",
          "data": {
            "image/png": "[encoded data removed]",
            "text/plain": [
              "<Figure size 432x288 with 1 Axes>"
            ]
          },
          "metadata": {
            "tags": [],
            "needs_background": "light"
          }
        }
      ]
    },
    {
      "cell_type": "code",
      "metadata": {
        "colab": {
          "base_uri": "https://localhost:8080/",
          "height": 295
        },
        "id": "8MKU5WVKXKn9",
        "outputId": "07871f5a-215a-4a85-cbf6-01646ce04d5d"
      },
      "source": [
        "\n",
        "plt.title(\"Boxplot of Age with GenderSelect\")\n",
        "sns.boxplot(data=df_demog_ds,x='Age',y='GenderSelect')\n",
        "plt.show()"
      ],
      "execution_count": 86,
      "outputs": [
        {
          "output_type": "display_data",
          "data": {
            "image/png": "[encoded data removed]",
            "text/plain": [
              "<Figure size 432x288 with 1 Axes>"
            ]
          },
          "metadata": {
            "tags": [],
            "needs_background": "light"
          }
        }
      ]
    },
    {
      "cell_type": "code",
      "metadata": {
        "colab": {
          "base_uri": "https://localhost:8080/",
          "height": 597
        },
        "id": "bgx8zoIBYDrT",
        "outputId": "268430b8-b594-4bc0-c296-7ce97d995e45"
      },
      "source": [
        "\n",
        "plt.figure(figsize=(12,8))\n",
        "plt.title('Distribution of Gender')\n",
        "plt.xlabel('Gender Select')\n",
        "plt.ylabel('Percentage [%]')\n",
        "(df_demog_ds['GenderSelect'].value_counts()/len(df_demog_ds)*100).plot(kind='bar')\n",
        "\n",
        "plt.show()"
      ],
      "execution_count": 96,
      "outputs": [
        {
          "output_type": "display_data",
          "data": {
            "image/png": "[encoded data removed]",
            "text/plain": [
              "<Figure size 864x576 with 1 Axes>"
            ]
          },
          "metadata": {
            "tags": [],
            "needs_background": "light"
          }
        }
      ]
    },
    {
      "cell_type": "code",
      "metadata": {
        "colab": {
          "base_uri": "https://localhost:8080/",
          "height": 336
        },
        "id": "kEcwRu2QYikq",
        "outputId": "196fc15f-6acb-4187-ac40-30db87456521"
      },
      "source": [
        "#country\n",
        "df_demog_ds['Country'].value_counts().sort_values(ascending=False)[:5].plot(kind='bar')\n",
        "plt.show()"
      ],
      "execution_count": 101,
      "outputs": [
        {
          "output_type": "display_data",
          "data": {
            "image/png": "[encoded data removed]",
            "text/plain": [
              "<Figure size 432x288 with 1 Axes>"
            ]
          },
          "metadata": {
            "tags": [],
            "needs_background": "light"
          }
        }
      ]
    },
    {
      "cell_type": "code",
      "metadata": {
        "colab": {
          "base_uri": "https://localhost:8080/"
        },
        "id": "H6XKxa5PaU4s",
        "outputId": "f70fa435-c628-49a8-d29e-b90ee7123245"
      },
      "source": [
        "df_demog_ds['Country'].value_counts().sum()"
      ],
      "execution_count": 176,
      "outputs": [
        {
          "output_type": "execute_result",
          "data": {
            "text/plain": [
              "1263"
            ]
          },
          "metadata": {
            "tags": []
          },
          "execution_count": 176
        }
      ]
    },
    {
      "cell_type": "code",
      "metadata": {
        "colab": {
          "base_uri": "https://localhost:8080/"
        },
        "id": "rqegcdABa1FN",
        "outputId": "9ca84f82-2299-4cc4-a73f-2c9730a5dcdd"
      },
      "source": [
        "df_country"
      ],
      "execution_count": 156,
      "outputs": [
        {
          "output_type": "execute_result",
          "data": {
            "text/plain": [
              "United States     414\n",
              "India             111\n",
              "France             60\n",
              "United Kingdom     55\n",
              "Germany            50\n",
              "Name: Country, dtype: int64"
            ]
          },
          "metadata": {
            "tags": []
          },
          "execution_count": 156
        }
      ]
    },
    {
      "cell_type": "code",
      "metadata": {
        "id": "wzOCd1zRa2Hg"
      },
      "source": [
        "df_country=pd.DataFrame(df_country).reset_index()"
      ],
      "execution_count": 157,
      "outputs": []
    },
    {
      "cell_type": "code",
      "metadata": {
        "id": "gHmof_4Nc9wQ"
      },
      "source": [
        "df_country.columns=['country','count']"
      ],
      "execution_count": 178,
      "outputs": []
    },
    {
      "cell_type": "code",
      "metadata": {
        "colab": {
          "base_uri": "https://localhost:8080/"
        },
        "id": "VEHHc7i5bDD3",
        "outputId": "2430522d-468b-4084-add8-de68074ad957"
      },
      "source": [
        "df_country"
      ],
      "execution_count": 179,
      "outputs": [
        {
          "output_type": "execute_result",
          "data": {
            "text/plain": [
              "United States     414\n",
              "India             111\n",
              "France             60\n",
              "United Kingdom     55\n",
              "Germany            50\n",
              "Name: Country, dtype: int64"
            ]
          },
          "metadata": {
            "tags": []
          },
          "execution_count": 179
        }
      ]
    },
    {
      "cell_type": "code",
      "metadata": {
        "id": "QldYBDsNhk9I"
      },
      "source": [
        "df_country=pd.DataFrame(df_country).reset_index()\n",
        "df_country.columns=['Country','count']"
      ],
      "execution_count": 180,
      "outputs": []
    },
    {
      "cell_type": "code",
      "metadata": {
        "id": "Tc084ecfbUJN"
      },
      "source": [
        "df_country['percentage']=df_country['count']/df_demog_ds['Country'].value_counts().sum()*100"
      ],
      "execution_count": 181,
      "outputs": []
    },
    {
      "cell_type": "code",
      "metadata": {
        "colab": {
          "base_uri": "https://localhost:8080/",
          "height": 195
        },
        "id": "tRJDuadrbeYi",
        "outputId": "72d33d68-aafa-433b-c8f0-48f9fd069ced"
      },
      "source": [
        "df_country"
      ],
      "execution_count": 182,
      "outputs": [
        {
          "output_type": "execute_result",
          "data": {
            "text/html": [
              "<div>\n",
              "<style scoped>\n",
              "    .dataframe tbody tr th:only-of-type {\n",
              "        vertical-align: middle;\n",
              "    }\n",
              "\n",
              "    .dataframe tbody tr th {\n",
              "        vertical-align: top;\n",
              "    }\n",
              "\n",
              "    .dataframe thead th {\n",
              "        text-align: right;\n",
              "    }\n",
              "</style>\n",
              "<table border=\"1\" class=\"dataframe\">\n",
              "  <thead>\n",
              "    <tr style=\"text-align: right;\">\n",
              "      <th></th>\n",
              "      <th>Country</th>\n",
              "      <th>count</th>\n",
              "      <th>percentage</th>\n",
              "    </tr>\n",
              "  </thead>\n",
              "  <tbody>\n",
              "    <tr>\n",
              "      <th>0</th>\n",
              "      <td>United States</td>\n",
              "      <td>414</td>\n",
              "      <td>32.779097</td>\n",
              "    </tr>\n",
              "    <tr>\n",
              "      <th>1</th>\n",
              "      <td>India</td>\n",
              "      <td>111</td>\n",
              "      <td>8.788599</td>\n",
              "    </tr>\n",
              "    <tr>\n",
              "      <th>2</th>\n",
              "      <td>France</td>\n",
              "      <td>60</td>\n",
              "      <td>4.750594</td>\n",
              "    </tr>\n",
              "    <tr>\n",
              "      <th>3</th>\n",
              "      <td>United Kingdom</td>\n",
              "      <td>55</td>\n",
              "      <td>4.354711</td>\n",
              "    </tr>\n",
              "    <tr>\n",
              "      <th>4</th>\n",
              "      <td>Germany</td>\n",
              "      <td>50</td>\n",
              "      <td>3.958828</td>\n",
              "    </tr>\n",
              "  </tbody>\n",
              "</table>\n",
              "</div>"
            ],
            "text/plain": [
              "          Country  count  percentage\n",
              "0   United States    414   32.779097\n",
              "1           India    111    8.788599\n",
              "2          France     60    4.750594\n",
              "3  United Kingdom     55    4.354711\n",
              "4         Germany     50    3.958828"
            ]
          },
          "metadata": {
            "tags": []
          },
          "execution_count": 182
        }
      ]
    },
    {
      "cell_type": "code",
      "metadata": {
        "colab": {
          "base_uri": "https://localhost:8080/",
          "height": 513
        },
        "id": "iUeFwlIbcEZC",
        "outputId": "2c29800b-84f4-4d4c-e30d-f720dba02a48"
      },
      "source": [
        "\n",
        "plt.figure(figsize=(12,8))\n",
        "plt.title('Distribution of Top 5 country with data scientist count')\n",
        "sns.barplot(x=\"Country\", y=\"percentage\", data=df_country)\n",
        "plt.show()"
      ],
      "execution_count": 191,
      "outputs": [
        {
          "output_type": "display_data",
          "data": {
            "image/png": "[encoded data removed]",
            "text/plain": [
              "<Figure size 864x576 with 1 Axes>"
            ]
          },
          "metadata": {
            "tags": [],
            "needs_background": "light"
          }
        }
      ]
    },
    {
      "cell_type": "code",
      "metadata": {
        "id": "V9gQWr5IgYrS"
      },
      "source": [
        "df_demog_ds_per=df_demog_ds['Country'].value_counts(normalize=True)*100"
      ],
      "execution_count": 193,
      "outputs": []
    },
    {
      "cell_type": "code",
      "metadata": {
        "id": "PS72koa9jfDL"
      },
      "source": [
        "df_country_top5=df_demog_ds_per.head(5)"
      ],
      "execution_count": 195,
      "outputs": []
    },
    {
      "cell_type": "code",
      "metadata": {
        "colab": {
          "base_uri": "https://localhost:8080/"
        },
        "id": "NR-lqjpkjjgL",
        "outputId": "40109259-8144-4fda-a9cd-4650d5924e0a"
      },
      "source": [
        "df_country_top5"
      ],
      "execution_count": 196,
      "outputs": [
        {
          "output_type": "execute_result",
          "data": {
            "text/plain": [
              "United States     32.779097\n",
              "India              8.788599\n",
              "France             4.750594\n",
              "United Kingdom     4.354711\n",
              "Germany            3.958828\n",
              "Name: Country, dtype: float64"
            ]
          },
          "metadata": {
            "tags": []
          },
          "execution_count": 196
        }
      ]
    },
    {
      "cell_type": "code",
      "metadata": {
        "colab": {
          "base_uri": "https://localhost:8080/",
          "height": 336
        },
        "id": "dSwNIyf8jmgx",
        "outputId": "2f8fa545-fef2-467c-c844-5de2ff0b333e"
      },
      "source": [
        "ax=df_country_top5.plot(kind='bar')\n"
      ],
      "execution_count": 223,
      "outputs": [
        {
          "output_type": "display_data",
          "data": {
            "image/png": "[encoded data removed]",
            "text/plain": [
              "<Figure size 432x288 with 1 Axes>"
            ]
          },
          "metadata": {
            "tags": [],
            "needs_background": "light"
          }
        }
      ]
    },
    {
      "cell_type": "code",
      "metadata": {
        "id": "E8TvPf1WjthA"
      },
      "source": [
        "country_list=['United States', 'India', 'Australia', 'Pakistan']"
      ],
      "execution_count": 201,
      "outputs": []
    },
    {
      "cell_type": "code",
      "metadata": {
        "colab": {
          "base_uri": "https://localhost:8080/"
        },
        "id": "OnJNtwIQkdSp",
        "outputId": "77d886ed-6d79-4e33-96cc-970075883bd7"
      },
      "source": [
        "for i in country_list:\n",
        "  new_df=df_demog_ds[df_demog_ds['Country']==i]\n",
        "  age=new_df.groupby(by='GenderSelect').Age.mean()\n",
        "  print('in {}, the mean and median age of different genders is as follows \\n {}'.format(i,age))\n",
        "  print()\n",
        "  "
      ],
      "execution_count": 256,
      "outputs": [
        {
          "output_type": "stream",
          "text": [
            "in United States, the mean and median age of different genders is as follows \n",
            " GenderSelect\n",
            "A different identity    31.000000\n",
            "Female                  33.436620\n",
            "Male                    35.649123\n",
            "Name: Age, dtype: float64\n",
            "\n",
            "in India, the mean and median age of different genders is as follows \n",
            " GenderSelect\n",
            "Female    29.000000\n",
            "Male      30.019802\n",
            "Name: Age, dtype: float64\n",
            "\n",
            "in Australia, the mean and median age of different genders is as follows \n",
            " GenderSelect\n",
            "Female    32.6\n",
            "Male      35.0\n",
            "Name: Age, dtype: float64\n",
            "\n",
            "in Pakistan, the mean and median age of different genders is as follows \n",
            " GenderSelect\n",
            "Male    32\n",
            "Name: Age, dtype: int64\n",
            "\n"
          ],
          "name": "stdout"
        }
      ]
    },
    {
      "cell_type": "code",
      "metadata": {
        "id": "uOitwNVRkrWm"
      },
      "source": [
        ""
      ],
      "execution_count": 243,
      "outputs": []
    },
    {
      "cell_type": "code",
      "metadata": {
        "id": "LBnVXse4lu2A"
      },
      "source": [
        ""
      ],
      "execution_count": 253,
      "outputs": []
    },
    {
      "cell_type": "code",
      "metadata": {
        "id": "isEY8WJTmVX1"
      },
      "source": [
        ""
      ],
      "execution_count": null,
      "outputs": []
    },
    {
      "cell_type": "code",
      "metadata": {
        "id": "-tiNa3XGmv7T"
      },
      "source": [
        ""
      ],
      "execution_count": null,
      "outputs": []
    }
  ]
}