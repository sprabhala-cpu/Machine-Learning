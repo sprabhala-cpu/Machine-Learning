{
  "nbformat": 4,
  "nbformat_minor": 0,
  "metadata": {
    "colab": {
      "name": "combining all kam into 1 csv .ipynb",
      "provenance": [],
      "mount_file_id": "1EK6uDkDqJSOPocmju9YF4Syh0IpTAD7v",
      "authorship_tag": "ABX9TyM6Iaq2g5c8ucJNwPgml/Y4",
      "include_colab_link": true
    },
    "kernelspec": {
      "name": "python3",
      "display_name": "Python 3"
    },
    "language_info": {
      "name": "python"
    }
  },
  "cells": [
    {
      "cell_type": "markdown",
      "metadata": {
        "id": "view-in-github",
        "colab_type": "text"
      },
      "source": [
        "<a href=\"https://colab.research.google.com/github/sprabhala-cpu/Machine-Learning/blob/main/combining_all_kam_into_1_csv_.ipynb\" target=\"_parent\"><img src=\"https://colab.research.google.com/assets/colab-badge.svg\" alt=\"Open In Colab\"/></a>"
      ]
    },
    {
      "cell_type": "code",
      "metadata": {
        "id": "te3XSB4gZb_c"
      },
      "source": [
        "import glob \n",
        "import pandas as pd\n",
        "\n",
        "files_2004 = sorted(glob.glob('/content/drive/MyDrive/data/2004/T*.*'))\n",
        "df1 = []\n",
        "for file in files_2004:\n",
        "    column_name = pd.read_csv(file,index_col=False).columns[0]\n",
        "    df = pd.read_csv(file,index_col=False,names=[\"col1\",\"col2\"],skiprows=1)\n",
        "    df[\"col3\"] = column_name\n",
        "    df1.append(df)\n",
        "df = pd.concat(df1)"
      ],
      "execution_count": null,
      "outputs": []
    },
    {
      "cell_type": "code",
      "metadata": {
        "id": "sM01WHqsbMhi"
      },
      "source": [
        "df.to_csv('/content/drive/MyDrive/data/2004.csv')"
      ],
      "execution_count": null,
      "outputs": []
    },
    {
      "cell_type": "code",
      "metadata": {
        "id": "pPnR_8yKdkyq"
      },
      "source": [
        "demo=pd.read_csv(\"/content/drive/MyDrive/data/2004.csv\")"
      ],
      "execution_count": null,
      "outputs": []
    },
    {
      "cell_type": "code",
      "metadata": {
        "id": "kkmEhcV5ds14"
      },
      "source": [
        "demo.shape"
      ],
      "execution_count": null,
      "outputs": []
    },
    {
      "cell_type": "code",
      "metadata": {
        "id": "6YLWqd1YaUjf"
      },
      "source": [
        "\n",
        "files_2005 = sorted(glob.glob('/content/drive/MyDrive/data/2005/T*.*'))\n",
        "df2 = []\n",
        "for file in files_2005:\n",
        "    column_name = pd.read_csv(file,index_col=False).columns[0]\n",
        "    df_2005 = pd.read_csv(file,index_col=False,names=[\"col1\",\"col2\"],skiprows=1)\n",
        "    df_2005[\"col3\"] = column_name\n",
        "    df2.append(df_2005)\n",
        "df_2005 = pd.concat(df2)"
      ],
      "execution_count": null,
      "outputs": []
    },
    {
      "cell_type": "code",
      "metadata": {
        "id": "QDb--D5ddsGq"
      },
      "source": [
        "df_2005.to_csv('/content/drive/MyDrive/data/2005.csv')"
      ],
      "execution_count": 16,
      "outputs": []
    },
    {
      "cell_type": "code",
      "metadata": {
        "id": "cuLMDI8ebvuF"
      },
      "source": [
        ""
      ],
      "execution_count": 5,
      "outputs": []
    },
    {
      "cell_type": "code",
      "metadata": {
        "id": "sJuY5qCMc4M0"
      },
      "source": [
        "demo=pd.read_csv(\"/content/drive/MyDrive/data/2005.csv\")"
      ],
      "execution_count": 17,
      "outputs": []
    },
    {
      "cell_type": "code",
      "metadata": {
        "colab": {
          "base_uri": "https://localhost:8080/"
        },
        "id": "lfDIkikWdE_R",
        "outputId": "c636c8ed-1c0b-4ac2-bdaa-f6045d91cfba"
      },
      "source": [
        "demo.shape\n"
      ],
      "execution_count": 18,
      "outputs": [
        {
          "output_type": "execute_result",
          "data": {
            "text/plain": [
              "(1576740, 4)"
            ]
          },
          "metadata": {
            "tags": []
          },
          "execution_count": 18
        }
      ]
    },
    {
      "cell_type": "code",
      "metadata": {
        "colab": {
          "base_uri": "https://localhost:8080/",
          "height": 195
        },
        "id": "KnWrh-ZFdGi3",
        "outputId": "79feff02-5a48-4b0e-ff0d-e054fa0da38f"
      },
      "source": [
        "demo.head(5)"
      ],
      "execution_count": 19,
      "outputs": [
        {
          "output_type": "execute_result",
          "data": {
            "text/html": [
              "<div>\n",
              "<style scoped>\n",
              "    .dataframe tbody tr th:only-of-type {\n",
              "        vertical-align: middle;\n",
              "    }\n",
              "\n",
              "    .dataframe tbody tr th {\n",
              "        vertical-align: top;\n",
              "    }\n",
              "\n",
              "    .dataframe thead th {\n",
              "        text-align: right;\n",
              "    }\n",
              "</style>\n",
              "<table border=\"1\" class=\"dataframe\">\n",
              "  <thead>\n",
              "    <tr style=\"text-align: right;\">\n",
              "      <th></th>\n",
              "      <th>Unnamed: 0</th>\n",
              "      <th>col1</th>\n",
              "      <th>col2</th>\n",
              "      <th>col3</th>\n",
              "    </tr>\n",
              "  </thead>\n",
              "  <tbody>\n",
              "    <tr>\n",
              "      <th>0</th>\n",
              "      <td>0</td>\n",
              "      <td>66.92\\t-96.54\\t69.25\\t159.94\\t70.79\\t14.88\\t58...</td>\n",
              "      <td>NaN</td>\n",
              "      <td>23:59:00.00\\t3/31/05\\t\\t\\t\\t\\t\\t</td>\n",
              "    </tr>\n",
              "    <tr>\n",
              "      <th>1</th>\n",
              "      <td>1</td>\n",
              "      <td>67.04\\t-93.87\\t69.24\\t159.94\\t70.06\\t-135.69\\t...</td>\n",
              "      <td>NaN</td>\n",
              "      <td>23:59:00.00\\t3/31/05\\t\\t\\t\\t\\t\\t</td>\n",
              "    </tr>\n",
              "    <tr>\n",
              "      <th>2</th>\n",
              "      <td>2</td>\n",
              "      <td>67.19\\t-93.43\\t69.29\\t159.84\\t70.14\\t88.77\\t59...</td>\n",
              "      <td>NaN</td>\n",
              "      <td>23:59:00.00\\t3/31/05\\t\\t\\t\\t\\t\\t</td>\n",
              "    </tr>\n",
              "    <tr>\n",
              "      <th>3</th>\n",
              "      <td>3</td>\n",
              "      <td>67.27\\t-92.6\\t69.27\\t159.64\\t71.23\\t-67.03\\t59...</td>\n",
              "      <td>NaN</td>\n",
              "      <td>23:59:00.00\\t3/31/05\\t\\t\\t\\t\\t\\t</td>\n",
              "    </tr>\n",
              "    <tr>\n",
              "      <th>4</th>\n",
              "      <td>4</td>\n",
              "      <td>67.24\\t-90.93\\t69.29\\t159.74\\t69.85\\t146.88\\t5...</td>\n",
              "      <td>NaN</td>\n",
              "      <td>23:59:00.00\\t3/31/05\\t\\t\\t\\t\\t\\t</td>\n",
              "    </tr>\n",
              "  </tbody>\n",
              "</table>\n",
              "</div>"
            ],
            "text/plain": [
              "   Unnamed: 0  ...                              col3\n",
              "0           0  ...  23:59:00.00\\t3/31/05\\t\\t\\t\\t\\t\\t\n",
              "1           1  ...  23:59:00.00\\t3/31/05\\t\\t\\t\\t\\t\\t\n",
              "2           2  ...  23:59:00.00\\t3/31/05\\t\\t\\t\\t\\t\\t\n",
              "3           3  ...  23:59:00.00\\t3/31/05\\t\\t\\t\\t\\t\\t\n",
              "4           4  ...  23:59:00.00\\t3/31/05\\t\\t\\t\\t\\t\\t\n",
              "\n",
              "[5 rows x 4 columns]"
            ]
          },
          "metadata": {
            "tags": []
          },
          "execution_count": 19
        }
      ]
    },
    {
      "cell_type": "code",
      "metadata": {
        "id": "Lf0boJYqdMIU"
      },
      "source": [
        "files_2006 = sorted(glob.glob('/content/drive/MyDrive/data/2006/T*.*'))\n",
        "df3 = []\n",
        "for file in files_2006:\n",
        "    column_name = pd.read_csv(file,index_col=False).columns[0]\n",
        "    df_2006 = pd.read_csv(file,index_col=False,names=[\"col1\",\"col2\"],skiprows=1)\n",
        "    df_2006[\"col3\"] = column_name\n",
        "    df3.append(df_2006)\n",
        "df_2006 = pd.concat(df3)"
      ],
      "execution_count": 20,
      "outputs": []
    },
    {
      "cell_type": "code",
      "metadata": {
        "id": "dH7xMN6Reeww"
      },
      "source": [
        "df_2006.to_csv('/content/drive/MyDrive/data/2006.csv')"
      ],
      "execution_count": 22,
      "outputs": []
    },
    {
      "cell_type": "code",
      "metadata": {
        "id": "cPCn1xJSgUB-"
      },
      "source": [
        "demo=pd.read_csv('/content/drive/MyDrive/data/2006.csv')"
      ],
      "execution_count": 23,
      "outputs": []
    },
    {
      "cell_type": "code",
      "metadata": {
        "colab": {
          "base_uri": "https://localhost:8080/"
        },
        "id": "TmdmDagaggC2",
        "outputId": "3b361753-1894-4aaf-b9fa-52e3b7388661"
      },
      "source": [
        "demo.shape"
      ],
      "execution_count": 24,
      "outputs": [
        {
          "output_type": "execute_result",
          "data": {
            "text/plain": [
              "(1576800, 4)"
            ]
          },
          "metadata": {
            "tags": []
          },
          "execution_count": 24
        }
      ]
    },
    {
      "cell_type": "code",
      "metadata": {
        "id": "6HidfeUKekXE"
      },
      "source": [
        "files_2007 = sorted(glob.glob('/content/drive/MyDrive/data/2007/T*.*'))\n",
        "df4 = []\n",
        "for file in files_2007:\n",
        "    column_name = pd.read_csv(file,index_col=False).columns[0]\n",
        "    df_2007 = pd.read_csv(file,index_col=False,names=[\"col1\",\"col2\"],skiprows=1)\n",
        "    df_2007[\"col3\"] = column_name\n",
        "    df4.append(df_2007)\n",
        "df_2007 = pd.concat(df4)"
      ],
      "execution_count": 25,
      "outputs": []
    },
    {
      "cell_type": "code",
      "metadata": {
        "id": "-OXgdhF-gfAi"
      },
      "source": [
        "df_2007.to_csv('/content/drive/MyDrive/data/2007.csv')"
      ],
      "execution_count": 26,
      "outputs": []
    },
    {
      "cell_type": "code",
      "metadata": {
        "id": "XX6WB9GxqWPE"
      },
      "source": [
        "columns=['Ampl, Re  (NWC)','phase, Re (NWC)','Ampl, Re  (NPM)','phase, Re (NPM)','Ampl, Re  (JJI)','phase, Re (JJI)','Ampl, Re  (JJY)',' phase, Re (JJY)','Date']"
      ],
      "execution_count": 1,
      "outputs": []
    },
    {
      "cell_type": "code",
      "metadata": {
        "colab": {
          "base_uri": "https://localhost:8080/"
        },
        "id": "7MJHSvrthvFm",
        "outputId": "3abfd205-25f5-477a-84b8-29dac405d73b"
      },
      "source": [
        "import pandas as pd\n",
        "data_2004=pd.read_csv('/content/drive/MyDrive/cleaned_data/drive-download-20210425T054143Z-001/2004.csv',header=None,names=columns)\n",
        "data_2005=pd.read_csv('/content/drive/MyDrive/cleaned_data/drive-download-20210425T054143Z-001/2005.csv',header=None,names=columns)"
      ],
      "execution_count": 3,
      "outputs": [
        {
          "output_type": "stream",
          "text": [
            "/usr/local/lib/python3.7/dist-packages/IPython/core/interactiveshell.py:2718: DtypeWarning: Columns (1) have mixed types.Specify dtype option on import or set low_memory=False.\n",
            "  interactivity=interactivity, compiler=compiler, result=result)\n"
          ],
          "name": "stderr"
        }
      ]
    },
    {
      "cell_type": "code",
      "metadata": {
        "id": "lVqSnCjSp1hD"
      },
      "source": [
        "data_2006=pd.read_csv('/content/drive/MyDrive/cleaned_data/drive-download-20210425T054143Z-001/2006.csv',header=None,names=columns)\n",
        "data_2007=pd.read_csv('/content/drive/MyDrive/cleaned_data/drive-download-20210425T054143Z-001/2007.csv',header=None,names=columns)"
      ],
      "execution_count": 4,
      "outputs": []
    },
    {
      "cell_type": "code",
      "metadata": {
        "id": "1MTCtS6ap_OY"
      },
      "source": [
        "data=pd.concat([data_2004,data_2005,data_2006,data_2007])"
      ],
      "execution_count": 5,
      "outputs": []
    },
    {
      "cell_type": "code",
      "metadata": {
        "colab": {
          "base_uri": "https://localhost:8080/"
        },
        "id": "f7ijMypgp_vi",
        "outputId": "6f07be2e-da3b-477f-a66b-15153ce4e68a"
      },
      "source": [
        "data.shape"
      ],
      "execution_count": 6,
      "outputs": [
        {
          "output_type": "execute_result",
          "data": {
            "text/plain": [
              "(4194300, 9)"
            ]
          },
          "metadata": {
            "tags": []
          },
          "execution_count": 6
        }
      ]
    },
    {
      "cell_type": "code",
      "metadata": {
        "colab": {
          "base_uri": "https://localhost:8080/",
          "height": 296
        },
        "id": "QN_TARkEqMlf",
        "outputId": "77804dcf-5388-4153-cb17-ff312f42c92a"
      },
      "source": [
        "data.head(5)"
      ],
      "execution_count": 7,
      "outputs": [
        {
          "output_type": "execute_result",
          "data": {
            "text/html": [
              "<div>\n",
              "<style scoped>\n",
              "    .dataframe tbody tr th:only-of-type {\n",
              "        vertical-align: middle;\n",
              "    }\n",
              "\n",
              "    .dataframe tbody tr th {\n",
              "        vertical-align: top;\n",
              "    }\n",
              "\n",
              "    .dataframe thead th {\n",
              "        text-align: right;\n",
              "    }\n",
              "</style>\n",
              "<table border=\"1\" class=\"dataframe\">\n",
              "  <thead>\n",
              "    <tr style=\"text-align: right;\">\n",
              "      <th></th>\n",
              "      <th>Ampl, Re  (NWC)</th>\n",
              "      <th>phase, Re (NWC)</th>\n",
              "      <th>Ampl, Re  (NPM)</th>\n",
              "      <th>phase, Re (NPM)</th>\n",
              "      <th>Ampl, Re  (JJI)</th>\n",
              "      <th>phase, Re (JJI)</th>\n",
              "      <th>Ampl, Re  (JJY)</th>\n",
              "      <th>phase, Re (JJY)</th>\n",
              "      <th>Date</th>\n",
              "    </tr>\n",
              "  </thead>\n",
              "  <tbody>\n",
              "    <tr>\n",
              "      <th>0</th>\n",
              "      <td>38.91</td>\n",
              "      <td>162.14</td>\n",
              "      <td>71.52</td>\n",
              "      <td>-118.31</td>\n",
              "      <td>72.29</td>\n",
              "      <td>-75.76</td>\n",
              "      <td>63.74</td>\n",
              "      <td>124.08</td>\n",
              "      <td>23:59:00.00  31/07/04</td>\n",
              "    </tr>\n",
              "    <tr>\n",
              "      <th>1</th>\n",
              "      <td>38.91</td>\n",
              "      <td>150.82</td>\n",
              "      <td>71.5</td>\n",
              "      <td>-118.14</td>\n",
              "      <td>71.62</td>\n",
              "      <td>135.7</td>\n",
              "      <td>64.03</td>\n",
              "      <td>124.08</td>\n",
              "      <td>23:59:00.00  31/07/04</td>\n",
              "    </tr>\n",
              "    <tr>\n",
              "      <th>2</th>\n",
              "      <td>38.4</td>\n",
              "      <td>152.02</td>\n",
              "      <td>71.51</td>\n",
              "      <td>-116.37</td>\n",
              "      <td>71.88</td>\n",
              "      <td>-0.11</td>\n",
              "      <td>64.29</td>\n",
              "      <td>124.23</td>\n",
              "      <td>23:59:00.00  31/07/04</td>\n",
              "    </tr>\n",
              "    <tr>\n",
              "      <th>3</th>\n",
              "      <td>38.71</td>\n",
              "      <td>172.66</td>\n",
              "      <td>71.52</td>\n",
              "      <td>-113.99</td>\n",
              "      <td>70.7</td>\n",
              "      <td>-138.96</td>\n",
              "      <td>64.23</td>\n",
              "      <td>124.08</td>\n",
              "      <td>23:59:00.00  31/07/04</td>\n",
              "    </tr>\n",
              "    <tr>\n",
              "      <th>4</th>\n",
              "      <td>39.19</td>\n",
              "      <td>177.88</td>\n",
              "      <td>71.5</td>\n",
              "      <td>-109.26</td>\n",
              "      <td>71.83</td>\n",
              "      <td>74.3</td>\n",
              "      <td>64.16</td>\n",
              "      <td>124.08</td>\n",
              "      <td>23:59:00.00  31/07/04</td>\n",
              "    </tr>\n",
              "  </tbody>\n",
              "</table>\n",
              "</div>"
            ],
            "text/plain": [
              "  Ampl, Re  (NWC) phase, Re (NWC)  ...  phase, Re (JJY)                     Date\n",
              "0           38.91          162.14  ...           124.08    23:59:00.00  31/07/04\n",
              "1           38.91          150.82  ...           124.08    23:59:00.00  31/07/04\n",
              "2            38.4          152.02  ...           124.23    23:59:00.00  31/07/04\n",
              "3           38.71          172.66  ...           124.08    23:59:00.00  31/07/04\n",
              "4           39.19          177.88  ...           124.08    23:59:00.00  31/07/04\n",
              "\n",
              "[5 rows x 9 columns]"
            ]
          },
          "metadata": {
            "tags": []
          },
          "execution_count": 7
        }
      ]
    },
    {
      "cell_type": "code",
      "metadata": {
        "id": "VI3Wglngs5uv"
      },
      "source": [
        "data.to_csv('/content/drive/MyDrive/cleaned_data/combined.csv')"
      ],
      "execution_count": 8,
      "outputs": []
    },
    {
      "cell_type": "code",
      "metadata": {
        "colab": {
          "base_uri": "https://localhost:8080/"
        },
        "id": "oEIdnvozydPh",
        "outputId": "2f4de989-1ea6-440a-dcc4-741a617b4716"
      },
      "source": [
        "demo=pd.read_csv('/content/drive/MyDrive/cleaned_data/combined.csv')"
      ],
      "execution_count": 9,
      "outputs": [
        {
          "output_type": "stream",
          "text": [
            "/usr/local/lib/python3.7/dist-packages/IPython/core/interactiveshell.py:2718: DtypeWarning: Columns (1,2,3,4,5,6,7,8) have mixed types.Specify dtype option on import or set low_memory=False.\n",
            "  interactivity=interactivity, compiler=compiler, result=result)\n"
          ],
          "name": "stderr"
        }
      ]
    },
    {
      "cell_type": "code",
      "metadata": {
        "colab": {
          "base_uri": "https://localhost:8080/",
          "height": 502
        },
        "id": "Emm8vc9cypUs",
        "outputId": "c287823f-2d9b-42ac-9a05-05fe0c894eef"
      },
      "source": [
        "demo[:3600000]"
      ],
      "execution_count": 26,
      "outputs": [
        {
          "output_type": "execute_result",
          "data": {
            "text/html": [
              "<div>\n",
              "<style scoped>\n",
              "    .dataframe tbody tr th:only-of-type {\n",
              "        vertical-align: middle;\n",
              "    }\n",
              "\n",
              "    .dataframe tbody tr th {\n",
              "        vertical-align: top;\n",
              "    }\n",
              "\n",
              "    .dataframe thead th {\n",
              "        text-align: right;\n",
              "    }\n",
              "</style>\n",
              "<table border=\"1\" class=\"dataframe\">\n",
              "  <thead>\n",
              "    <tr style=\"text-align: right;\">\n",
              "      <th></th>\n",
              "      <th>Unnamed: 0</th>\n",
              "      <th>Ampl, Re  (NWC)</th>\n",
              "      <th>phase, Re (NWC)</th>\n",
              "      <th>Ampl, Re  (NPM)</th>\n",
              "      <th>phase, Re (NPM)</th>\n",
              "      <th>Ampl, Re  (JJI)</th>\n",
              "      <th>phase, Re (JJI)</th>\n",
              "      <th>Ampl, Re  (JJY)</th>\n",
              "      <th>phase, Re (JJY)</th>\n",
              "      <th>Date</th>\n",
              "    </tr>\n",
              "  </thead>\n",
              "  <tbody>\n",
              "    <tr>\n",
              "      <th>0</th>\n",
              "      <td>0</td>\n",
              "      <td>38.91</td>\n",
              "      <td>162.14</td>\n",
              "      <td>71.52</td>\n",
              "      <td>-118.31</td>\n",
              "      <td>72.29</td>\n",
              "      <td>-75.76</td>\n",
              "      <td>63.74</td>\n",
              "      <td>124.08</td>\n",
              "      <td>23:59:00.00  31/07/04</td>\n",
              "    </tr>\n",
              "    <tr>\n",
              "      <th>1</th>\n",
              "      <td>1</td>\n",
              "      <td>38.91</td>\n",
              "      <td>150.82</td>\n",
              "      <td>71.5</td>\n",
              "      <td>-118.14</td>\n",
              "      <td>71.62</td>\n",
              "      <td>135.7</td>\n",
              "      <td>64.03</td>\n",
              "      <td>124.08</td>\n",
              "      <td>23:59:00.00  31/07/04</td>\n",
              "    </tr>\n",
              "    <tr>\n",
              "      <th>2</th>\n",
              "      <td>2</td>\n",
              "      <td>38.4</td>\n",
              "      <td>152.02</td>\n",
              "      <td>71.51</td>\n",
              "      <td>-116.37</td>\n",
              "      <td>71.88</td>\n",
              "      <td>-0.11</td>\n",
              "      <td>64.29</td>\n",
              "      <td>124.23</td>\n",
              "      <td>23:59:00.00  31/07/04</td>\n",
              "    </tr>\n",
              "    <tr>\n",
              "      <th>3</th>\n",
              "      <td>3</td>\n",
              "      <td>38.71</td>\n",
              "      <td>172.66</td>\n",
              "      <td>71.52</td>\n",
              "      <td>-113.99</td>\n",
              "      <td>70.7</td>\n",
              "      <td>-138.96</td>\n",
              "      <td>64.23</td>\n",
              "      <td>124.08</td>\n",
              "      <td>23:59:00.00  31/07/04</td>\n",
              "    </tr>\n",
              "    <tr>\n",
              "      <th>4</th>\n",
              "      <td>4</td>\n",
              "      <td>39.19</td>\n",
              "      <td>177.88</td>\n",
              "      <td>71.5</td>\n",
              "      <td>-109.26</td>\n",
              "      <td>71.83</td>\n",
              "      <td>74.3</td>\n",
              "      <td>64.16</td>\n",
              "      <td>124.08</td>\n",
              "      <td>23:59:00.00  31/07/04</td>\n",
              "    </tr>\n",
              "    <tr>\n",
              "      <th>...</th>\n",
              "      <td>...</td>\n",
              "      <td>...</td>\n",
              "      <td>...</td>\n",
              "      <td>...</td>\n",
              "      <td>...</td>\n",
              "      <td>...</td>\n",
              "      <td>...</td>\n",
              "      <td>...</td>\n",
              "      <td>...</td>\n",
              "      <td>...</td>\n",
              "    </tr>\n",
              "    <tr>\n",
              "      <th>3599995</th>\n",
              "      <td>670</td>\n",
              "      <td>44.02\\t-175</td>\n",
              "      <td>.34\\t58.1\\t-3</td>\n",
              "      <td>6.09\\t67.6</td>\n",
              "      <td>4\\t-176.31\\t5</td>\n",
              "      <td>7.68\\t95.</td>\n",
              "      <td>39</td>\n",
              "      <td>NaN</td>\n",
              "      <td>NaN</td>\n",
              "      <td>23:59:00.00\\t8/11/07</td>\n",
              "    </tr>\n",
              "    <tr>\n",
              "      <th>3599996</th>\n",
              "      <td>671</td>\n",
              "      <td>43.81\\t127.</td>\n",
              "      <td>75\\t58.05\\t-3</td>\n",
              "      <td>6.72\\t67.9</td>\n",
              "      <td>9\\t-143.85\\t5</td>\n",
              "      <td>8.02\\t95.</td>\n",
              "      <td>75</td>\n",
              "      <td>NaN</td>\n",
              "      <td>NaN</td>\n",
              "      <td>23:59:00.00\\t8/11/07</td>\n",
              "    </tr>\n",
              "    <tr>\n",
              "      <th>3599997</th>\n",
              "      <td>672</td>\n",
              "      <td>43.68\\t94.6</td>\n",
              "      <td>9\\t58.03\\t-36</td>\n",
              "      <td>.39\\t65.9\\t</td>\n",
              "      <td>-92.33\\t57.1</td>\n",
              "      <td>7\\t95.39</td>\n",
              "      <td>NaN</td>\n",
              "      <td>NaN</td>\n",
              "      <td>NaN</td>\n",
              "      <td>23:59:00.00\\t8/11/07</td>\n",
              "    </tr>\n",
              "    <tr>\n",
              "      <th>3599998</th>\n",
              "      <td>673</td>\n",
              "      <td>43.29\\t36.5</td>\n",
              "      <td>7\\t57.96\\t-37</td>\n",
              "      <td>.06\\t67.39</td>\n",
              "      <td>\\t9.56\\t58.03</td>\n",
              "      <td>\\t95.75</td>\n",
              "      <td>NaN</td>\n",
              "      <td>NaN</td>\n",
              "      <td>NaN</td>\n",
              "      <td>23:59:00.00\\t8/11/07</td>\n",
              "    </tr>\n",
              "    <tr>\n",
              "      <th>3599999</th>\n",
              "      <td>674</td>\n",
              "      <td>44.27\\t45.1</td>\n",
              "      <td>2\\t57.83\\t-37</td>\n",
              "      <td>.45\\t67.47</td>\n",
              "      <td>\\t16.52\\t58.2</td>\n",
              "      <td>\\t95.57</td>\n",
              "      <td>NaN</td>\n",
              "      <td>NaN</td>\n",
              "      <td>NaN</td>\n",
              "      <td>23:59:00.00\\t8/11/07</td>\n",
              "    </tr>\n",
              "  </tbody>\n",
              "</table>\n",
              "<p>3600000 rows × 10 columns</p>\n",
              "</div>"
            ],
            "text/plain": [
              "         Unnamed: 0 Ampl, Re  (NWC)  ...  phase, Re (JJY)                     Date\n",
              "0                 0           38.91  ...           124.08    23:59:00.00  31/07/04\n",
              "1                 1           38.91  ...           124.08    23:59:00.00  31/07/04\n",
              "2                 2            38.4  ...           124.23    23:59:00.00  31/07/04\n",
              "3                 3           38.71  ...           124.08    23:59:00.00  31/07/04\n",
              "4                 4           39.19  ...           124.08    23:59:00.00  31/07/04\n",
              "...             ...             ...  ...              ...                      ...\n",
              "3599995         670     44.02\\t-175  ...              NaN     23:59:00.00\\t8/11/07\n",
              "3599996         671     43.81\\t127.  ...              NaN     23:59:00.00\\t8/11/07\n",
              "3599997         672     43.68\\t94.6  ...              NaN     23:59:00.00\\t8/11/07\n",
              "3599998         673     43.29\\t36.5  ...              NaN     23:59:00.00\\t8/11/07\n",
              "3599999         674     44.27\\t45.1  ...              NaN     23:59:00.00\\t8/11/07\n",
              "\n",
              "[3600000 rows x 10 columns]"
            ]
          },
          "metadata": {
            "tags": []
          },
          "execution_count": 26
        }
      ]
    },
    {
      "cell_type": "code",
      "metadata": {
        "id": "xjuNzHZRzVrw"
      },
      "source": [
        ""
      ],
      "execution_count": null,
      "outputs": []
    }
  ]
}