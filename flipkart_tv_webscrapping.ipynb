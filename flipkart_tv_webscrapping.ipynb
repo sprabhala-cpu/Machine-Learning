{
  "nbformat": 4,
  "nbformat_minor": 0,
  "metadata": {
    "colab": {
      "name": "flipkart tv webscrapping.ipynb",
      "provenance": [],
      "authorship_tag": "ABX9TyNKcmTgzzJ1S4yW4nFGV86n",
      "include_colab_link": true
    },
    "kernelspec": {
      "name": "python3",
      "display_name": "Python 3"
    },
    "language_info": {
      "name": "python"
    }
  },
  "cells": [
    {
      "cell_type": "markdown",
      "metadata": {
        "id": "view-in-github",
        "colab_type": "text"
      },
      "source": [
        "<a href=\"https://colab.research.google.com/github/sprabhala-cpu/Machine-Learning/blob/main/flipkart_tv_webscrapping.ipynb\" target=\"_parent\"><img src=\"https://colab.research.google.com/assets/colab-badge.svg\" alt=\"Open In Colab\"/></a>"
      ]
    },
    {
      "cell_type": "code",
      "metadata": {
        "id": "MZ1zwGV6_Yr6"
      },
      "source": [
        "import pandas as pd\n",
        "from bs4 import BeautifulSoup as BS\n",
        "import requests"
      ],
      "execution_count": 1,
      "outputs": []
    },
    {
      "cell_type": "code",
      "metadata": {
        "id": "VBgXilYy_iO5"
      },
      "source": [
        "url='https://www.flipkart.com/search?q=tv&otracker=search&otracker1=search&marketplace=FLIPKART&as-show=on&as=off'\n",
        "r=requests.get(url)"
      ],
      "execution_count": 18,
      "outputs": []
    },
    {
      "cell_type": "code",
      "metadata": {
        "colab": {
          "base_uri": "https://localhost:8080/"
        },
        "id": "McN5Rmqd_xW5",
        "outputId": "b530e855-8450-45fa-b3f7-69dfd0c28ab7"
      },
      "source": [
        "r.status_code"
      ],
      "execution_count": 19,
      "outputs": [
        {
          "output_type": "execute_result",
          "data": {
            "text/plain": [
              "200"
            ]
          },
          "metadata": {
            "tags": []
          },
          "execution_count": 19
        }
      ]
    },
    {
      "cell_type": "code",
      "metadata": {
        "id": "03Ul4VtG_yqp"
      },
      "source": [
        "soup=BS(r.content,'html.parser')"
      ],
      "execution_count": 22,
      "outputs": []
    },
    {
      "cell_type": "code",
      "metadata": {
        "id": "djS8cB4wALQk"
      },
      "source": [
        "tv_names=[]\n",
        "prices=[]\n",
        "outer_block=soup.find_all('div',{'class':'_3pLy-c row'})\n",
        "for block in outer_block:\n",
        "  tv_name=block.find('div',{'class':'_4rR01T'}).text.strip()\n",
        "  tv_names.append(tv_name)\n",
        "  price=block.find('div',{'class':'_30jeq3 _1_WHN1'}).text.strip()\n",
        "  prices.append(price)"
      ],
      "execution_count": 27,
      "outputs": []
    },
    {
      "cell_type": "code",
      "metadata": {
        "id": "wA8xezdzAPMK"
      },
      "source": [
        "prices"
      ],
      "execution_count": null,
      "outputs": []
    },
    {
      "cell_type": "code",
      "metadata": {
        "id": "OBCm7oBWBhN6"
      },
      "source": [
        "df = pd.DataFrame(list(zip(tv_names,prices )),\n",
        "               columns =['Name', 'val'])"
      ],
      "execution_count": 29,
      "outputs": []
    },
    {
      "cell_type": "code",
      "metadata": {
        "colab": {
          "base_uri": "https://localhost:8080/",
          "height": 758
        },
        "id": "6oUyQY3tFT9s",
        "outputId": "e1beeb97-cb73-4295-892c-54d22dd6e187"
      },
      "source": [
        "df"
      ],
      "execution_count": 30,
      "outputs": [
        {
          "output_type": "execute_result",
          "data": {
            "text/html": [
              "<div>\n",
              "<style scoped>\n",
              "    .dataframe tbody tr th:only-of-type {\n",
              "        vertical-align: middle;\n",
              "    }\n",
              "\n",
              "    .dataframe tbody tr th {\n",
              "        vertical-align: top;\n",
              "    }\n",
              "\n",
              "    .dataframe thead th {\n",
              "        text-align: right;\n",
              "    }\n",
              "</style>\n",
              "<table border=\"1\" class=\"dataframe\">\n",
              "  <thead>\n",
              "    <tr style=\"text-align: right;\">\n",
              "      <th></th>\n",
              "      <th>Name</th>\n",
              "      <th>val</th>\n",
              "    </tr>\n",
              "  </thead>\n",
              "  <tbody>\n",
              "    <tr>\n",
              "      <th>0</th>\n",
              "      <td>infinix X1 80 cm (32 inch) HD Ready LED Smart ...</td>\n",
              "      <td>₹12,999</td>\n",
              "    </tr>\n",
              "    <tr>\n",
              "      <th>1</th>\n",
              "      <td>infinix X1 108 cm (43 inch) Full HD LED Smart ...</td>\n",
              "      <td>₹19,999</td>\n",
              "    </tr>\n",
              "    <tr>\n",
              "      <th>2</th>\n",
              "      <td>SAMSUNG 80 cm (32 inch) HD Ready LED Smart TV ...</td>\n",
              "      <td>₹17,490</td>\n",
              "    </tr>\n",
              "    <tr>\n",
              "      <th>3</th>\n",
              "      <td>Mi 4A PRO 80 cm (32 inch) HD Ready LED Smart A...</td>\n",
              "      <td>₹14,499</td>\n",
              "    </tr>\n",
              "    <tr>\n",
              "      <th>4</th>\n",
              "      <td>realme 80 cm (32 inch) HD Ready LED Smart Andr...</td>\n",
              "      <td>₹13,999</td>\n",
              "    </tr>\n",
              "    <tr>\n",
              "      <th>5</th>\n",
              "      <td>SAMSUNG 80 cm (32 inch) HD Ready LED Smart TV ...</td>\n",
              "      <td>₹17,490</td>\n",
              "    </tr>\n",
              "    <tr>\n",
              "      <th>6</th>\n",
              "      <td>Mi 4X 108 cm (43 inch) Ultra HD (4K) LED Smart...</td>\n",
              "      <td>₹27,999</td>\n",
              "    </tr>\n",
              "    <tr>\n",
              "      <th>7</th>\n",
              "      <td>LG 80 cm (32 inch) HD Ready LED Smart TV 2020 ...</td>\n",
              "      <td>₹16,499</td>\n",
              "    </tr>\n",
              "    <tr>\n",
              "      <th>8</th>\n",
              "      <td>SAMSUNG 80 cm (32 inch) HD Ready LED Smart TV ...</td>\n",
              "      <td>₹16,999</td>\n",
              "    </tr>\n",
              "    <tr>\n",
              "      <th>9</th>\n",
              "      <td>Mi 4X 125.7 cm (50 inch) Ultra HD (4K) LED Sma...</td>\n",
              "      <td>₹33,999</td>\n",
              "    </tr>\n",
              "    <tr>\n",
              "      <th>10</th>\n",
              "      <td>Mi 4A PRO 80 cm (32 inch) HD Ready LED Smart A...</td>\n",
              "      <td>₹14,499</td>\n",
              "    </tr>\n",
              "    <tr>\n",
              "      <th>11</th>\n",
              "      <td>realme 108 cm (43 inch) Full HD LED Smart Andr...</td>\n",
              "      <td>₹22,999</td>\n",
              "    </tr>\n",
              "    <tr>\n",
              "      <th>12</th>\n",
              "      <td>SAMSUNG 80 cm (32 inch) HD Ready LED Smart TV ...</td>\n",
              "      <td>₹17,490</td>\n",
              "    </tr>\n",
              "    <tr>\n",
              "      <th>13</th>\n",
              "      <td>SAMSUNG Crystal 4K 138 cm (55 inch) Ultra HD (...</td>\n",
              "      <td>₹50,999</td>\n",
              "    </tr>\n",
              "    <tr>\n",
              "      <th>14</th>\n",
              "      <td>LG 108 cm (43 inch) Ultra HD (4K) LED Smart TV</td>\n",
              "      <td>₹34,999</td>\n",
              "    </tr>\n",
              "    <tr>\n",
              "      <th>15</th>\n",
              "      <td>Mi 4A Pro 108 cm (43 inch) Full HD LED Smart A...</td>\n",
              "      <td>₹24,999</td>\n",
              "    </tr>\n",
              "    <tr>\n",
              "      <th>16</th>\n",
              "      <td>Mi 4A 100 cm (40 inch) Full HD LED Smart Andro...</td>\n",
              "      <td>₹21,999</td>\n",
              "    </tr>\n",
              "    <tr>\n",
              "      <th>17</th>\n",
              "      <td>KODAK 7XPRO Series 80 cm (32 inch) HD Ready LE...</td>\n",
              "      <td>₹13,499</td>\n",
              "    </tr>\n",
              "    <tr>\n",
              "      <th>18</th>\n",
              "      <td>OnePlus Y Series 108 cm (43 inch) Full HD LED ...</td>\n",
              "      <td>₹25,499</td>\n",
              "    </tr>\n",
              "    <tr>\n",
              "      <th>19</th>\n",
              "      <td>SAMSUNG 163 cm (65 inch) Ultra HD (4K) LED Sma...</td>\n",
              "      <td>₹99,999</td>\n",
              "    </tr>\n",
              "    <tr>\n",
              "      <th>20</th>\n",
              "      <td>OnePlus Y Series 80 cm (32 inch) HD Ready LED ...</td>\n",
              "      <td>₹14,999</td>\n",
              "    </tr>\n",
              "    <tr>\n",
              "      <th>21</th>\n",
              "      <td>Mi 4A Horizon Edition 80 cm (32 inch) HD Ready...</td>\n",
              "      <td>₹15,499</td>\n",
              "    </tr>\n",
              "    <tr>\n",
              "      <th>22</th>\n",
              "      <td>SAMSUNG 108 cm (43 inch) Full HD LED Smart TV</td>\n",
              "      <td>₹31,999</td>\n",
              "    </tr>\n",
              "    <tr>\n",
              "      <th>23</th>\n",
              "      <td>SONY Bravia 108 cm (43 inch) Full HD LED Smart TV</td>\n",
              "      <td>₹36,999</td>\n",
              "    </tr>\n",
              "  </tbody>\n",
              "</table>\n",
              "</div>"
            ],
            "text/plain": [
              "                                                 Name      val\n",
              "0   infinix X1 80 cm (32 inch) HD Ready LED Smart ...  ₹12,999\n",
              "1   infinix X1 108 cm (43 inch) Full HD LED Smart ...  ₹19,999\n",
              "2   SAMSUNG 80 cm (32 inch) HD Ready LED Smart TV ...  ₹17,490\n",
              "3   Mi 4A PRO 80 cm (32 inch) HD Ready LED Smart A...  ₹14,499\n",
              "4   realme 80 cm (32 inch) HD Ready LED Smart Andr...  ₹13,999\n",
              "5   SAMSUNG 80 cm (32 inch) HD Ready LED Smart TV ...  ₹17,490\n",
              "6   Mi 4X 108 cm (43 inch) Ultra HD (4K) LED Smart...  ₹27,999\n",
              "7   LG 80 cm (32 inch) HD Ready LED Smart TV 2020 ...  ₹16,499\n",
              "8   SAMSUNG 80 cm (32 inch) HD Ready LED Smart TV ...  ₹16,999\n",
              "9   Mi 4X 125.7 cm (50 inch) Ultra HD (4K) LED Sma...  ₹33,999\n",
              "10  Mi 4A PRO 80 cm (32 inch) HD Ready LED Smart A...  ₹14,499\n",
              "11  realme 108 cm (43 inch) Full HD LED Smart Andr...  ₹22,999\n",
              "12  SAMSUNG 80 cm (32 inch) HD Ready LED Smart TV ...  ₹17,490\n",
              "13  SAMSUNG Crystal 4K 138 cm (55 inch) Ultra HD (...  ₹50,999\n",
              "14     LG 108 cm (43 inch) Ultra HD (4K) LED Smart TV  ₹34,999\n",
              "15  Mi 4A Pro 108 cm (43 inch) Full HD LED Smart A...  ₹24,999\n",
              "16  Mi 4A 100 cm (40 inch) Full HD LED Smart Andro...  ₹21,999\n",
              "17  KODAK 7XPRO Series 80 cm (32 inch) HD Ready LE...  ₹13,499\n",
              "18  OnePlus Y Series 108 cm (43 inch) Full HD LED ...  ₹25,499\n",
              "19  SAMSUNG 163 cm (65 inch) Ultra HD (4K) LED Sma...  ₹99,999\n",
              "20  OnePlus Y Series 80 cm (32 inch) HD Ready LED ...  ₹14,999\n",
              "21  Mi 4A Horizon Edition 80 cm (32 inch) HD Ready...  ₹15,499\n",
              "22      SAMSUNG 108 cm (43 inch) Full HD LED Smart TV  ₹31,999\n",
              "23  SONY Bravia 108 cm (43 inch) Full HD LED Smart TV  ₹36,999"
            ]
          },
          "metadata": {
            "tags": []
          },
          "execution_count": 30
        }
      ]
    },
    {
      "cell_type": "code",
      "metadata": {
        "id": "2icIcjAgFUhL"
      },
      "source": [
        ""
      ],
      "execution_count": null,
      "outputs": []
    }
  ]
}