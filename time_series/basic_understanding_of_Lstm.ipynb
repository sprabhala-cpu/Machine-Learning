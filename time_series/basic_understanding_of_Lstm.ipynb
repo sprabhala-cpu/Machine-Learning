{
  "nbformat": 4,
  "nbformat_minor": 0,
  "metadata": {
    "colab": {
      "name": "basic understanding of Lstm.ipynb",
      "provenance": []
    },
    "kernelspec": {
      "name": "python3",
      "display_name": "Python 3"
    },
    "language_info": {
      "name": "python"
    }
  },
  "cells": [
    {
      "cell_type": "code",
      "metadata": {
        "id": "gkInj1tNxXND"
      },
      "source": [
        "url='https://raw.githubusercontent.com/kmsravindra/ML-AI-experiments/master/AI/LSTM-time_series/sine-wave.csv'\n",
        "column_name=['values']\n",
        "data=pd.read_csv(url,header=None,names=column_name)"
      ],
      "execution_count": null,
      "outputs": []
    },
    {
      "cell_type": "code",
      "metadata": {
        "colab": {
          "base_uri": "https://localhost:8080/",
          "height": 402
        },
        "id": "Y6NqRt6rxqLU",
        "outputId": "35042caa-981f-40b0-e485-72e7c5d6889c"
      },
      "source": [
        "data"
      ],
      "execution_count": null,
      "outputs": [
        {
          "output_type": "execute_result",
          "data": {
            "text/html": [
              "<div>\n",
              "<style scoped>\n",
              "    .dataframe tbody tr th:only-of-type {\n",
              "        vertical-align: middle;\n",
              "    }\n",
              "\n",
              "    .dataframe tbody tr th {\n",
              "        vertical-align: top;\n",
              "    }\n",
              "\n",
              "    .dataframe thead th {\n",
              "        text-align: right;\n",
              "    }\n",
              "</style>\n",
              "<table border=\"1\" class=\"dataframe\">\n",
              "  <thead>\n",
              "    <tr style=\"text-align: right;\">\n",
              "      <th></th>\n",
              "      <th>values</th>\n",
              "    </tr>\n",
              "  </thead>\n",
              "  <tbody>\n",
              "    <tr>\n",
              "      <th>0</th>\n",
              "      <td>0.841471</td>\n",
              "    </tr>\n",
              "    <tr>\n",
              "      <th>1</th>\n",
              "      <td>0.873736</td>\n",
              "    </tr>\n",
              "    <tr>\n",
              "      <th>2</th>\n",
              "      <td>0.902554</td>\n",
              "    </tr>\n",
              "    <tr>\n",
              "      <th>3</th>\n",
              "      <td>0.927809</td>\n",
              "    </tr>\n",
              "    <tr>\n",
              "      <th>4</th>\n",
              "      <td>0.949402</td>\n",
              "    </tr>\n",
              "    <tr>\n",
              "      <th>...</th>\n",
              "      <td>...</td>\n",
              "    </tr>\n",
              "    <tr>\n",
              "      <th>4996</th>\n",
              "      <td>0.680667</td>\n",
              "    </tr>\n",
              "    <tr>\n",
              "      <th>4997</th>\n",
              "      <td>0.725324</td>\n",
              "    </tr>\n",
              "    <tr>\n",
              "      <th>4998</th>\n",
              "      <td>0.767118</td>\n",
              "    </tr>\n",
              "    <tr>\n",
              "      <th>4999</th>\n",
              "      <td>0.805885</td>\n",
              "    </tr>\n",
              "    <tr>\n",
              "      <th>5000</th>\n",
              "      <td>0.841471</td>\n",
              "    </tr>\n",
              "  </tbody>\n",
              "</table>\n",
              "<p>5001 rows × 1 columns</p>\n",
              "</div>"
            ],
            "text/plain": [
              "        values\n",
              "0     0.841471\n",
              "1     0.873736\n",
              "2     0.902554\n",
              "3     0.927809\n",
              "4     0.949402\n",
              "...        ...\n",
              "4996  0.680667\n",
              "4997  0.725324\n",
              "4998  0.767118\n",
              "4999  0.805885\n",
              "5000  0.841471\n",
              "\n",
              "[5001 rows x 1 columns]"
            ]
          },
          "metadata": {
            "tags": []
          },
          "execution_count": 34
        }
      ]
    },
    {
      "cell_type": "code",
      "metadata": {
        "colab": {
          "base_uri": "https://localhost:8080/",
          "height": 231
        },
        "id": "RiNLSy6jxsH8",
        "outputId": "de32af87-28f2-4f4e-f587-b6046f55eec6"
      },
      "source": [
        "import matplotlib.pyplot as plt\n",
        "plt.figure(figsize=(20,6))\n",
        "plt.plot(data['values'])"
      ],
      "execution_count": null,
      "outputs": [
        {
          "output_type": "execute_result",
          "data": {
            "text/plain": [
              "[<matplotlib.lines.Line2D at 0x7f6fc9b3c150>]"
            ]
          },
          "metadata": {
            "tags": []
          },
          "execution_count": 36
        },
        {
          "output_type": "display_data",
          "data": {
            "image/png": "[encoded data removed]",
            "text/plain": [
              "<Figure size 1440x432 with 1 Axes>"
            ]
          },
          "metadata": {
            "tags": [],
            "needs_background": "light"
          }
        }
      ]
    },
    {
      "cell_type": "code",
      "metadata": {
        "colab": {
          "base_uri": "https://localhost:8080/",
          "height": 265
        },
        "id": "TiOyqyoWx63u",
        "outputId": "64cb5484-6597-4f2f-b9fa-4d69400bc6fd"
      },
      "source": [
        "#visualizign first 50 \n",
        "plt.plot(data['values'][:50])\n",
        "plt.show()"
      ],
      "execution_count": null,
      "outputs": [
        {
          "output_type": "display_data",
          "data": {
            "image/png": "[encoded data removed]",
            "text/plain": [
              "<Figure size 432x288 with 1 Axes>"
            ]
          },
          "metadata": {
            "tags": [],
            "needs_background": "light"
          }
        }
      ]
    },
    {
      "cell_type": "code",
      "metadata": {
        "colab": {
          "base_uri": "https://localhost:8080/"
        },
        "id": "Ow4JjTOqyG_m",
        "outputId": "665147e0-32cb-41c3-bbf2-f9eba235b418"
      },
      "source": [
        "data['values'].head()"
      ],
      "execution_count": null,
      "outputs": [
        {
          "output_type": "execute_result",
          "data": {
            "text/plain": [
              "0    0.841471\n",
              "1    0.873736\n",
              "2    0.902554\n",
              "3    0.927809\n",
              "4    0.949402\n",
              "Name: values, dtype: float64"
            ]
          },
          "metadata": {
            "tags": []
          },
          "execution_count": 40
        }
      ]
    },
    {
      "cell_type": "code",
      "metadata": {
        "id": "DR43c5KIySAk"
      },
      "source": [
        "0.84 0.87 0.90 0.92\n",
        "0.87 0.9 0.92 0.94"
      ],
      "execution_count": null,
      "outputs": []
    },
    {
      "cell_type": "code",
      "metadata": {
        "id": "97b8J2Jzyg2A"
      },
      "source": [
        "#data normalization\n",
        "from sklearn.preprocessing import MinMaxScaler\n",
        "scaler=MinMaxScaler(feature_range=(-1,1))\n",
        "scaled=scaler.fit_transform(data.values)\n",
        "series=pd.DataFrame(scaled)"
      ],
      "execution_count": null,
      "outputs": []
    },
    {
      "cell_type": "code",
      "metadata": {
        "colab": {
          "base_uri": "https://localhost:8080/"
        },
        "id": "vFVVYJBpyg48",
        "outputId": "4e2b01e5-73e2-478e-c5df-23eff5439826"
      },
      "source": [
        "series.head"
      ],
      "execution_count": null,
      "outputs": [
        {
          "output_type": "execute_result",
          "data": {
            "text/plain": [
              "<bound method NDFrame.head of              0\n",
              "0     0.841483\n",
              "1     0.873749\n",
              "2     0.902566\n",
              "3     0.927822\n",
              "4     0.949416\n",
              "...        ...\n",
              "4996  0.680677\n",
              "4997  0.725334\n",
              "4998  0.767129\n",
              "4999  0.805896\n",
              "5000  0.841483\n",
              "\n",
              "[5001 rows x 1 columns]>"
            ]
          },
          "metadata": {
            "tags": []
          },
          "execution_count": 58
        }
      ]
    },
    {
      "cell_type": "code",
      "metadata": {
        "id": "simBJO-Wyg7z"
      },
      "source": [
        "Window_size=4 \n",
        "#shift function that shifts entiere column b number we specify\n",
        "series_s=series.copy()\n",
        "for i in range(Window_size):\n",
        "  series=pd.concat([series,series_s.shift(-(i+1))],axis=1)\n",
        "\n",
        "series.dropna(axis=0,inplace=True)\n"
      ],
      "execution_count": null,
      "outputs": []
    },
    {
      "cell_type": "code",
      "metadata": {
        "colab": {
          "base_uri": "https://localhost:8080/",
          "height": 402
        },
        "id": "n52C2eKtyg-z",
        "outputId": "1928dd62-651d-4af6-f726-80496e68e94f"
      },
      "source": [
        "series"
      ],
      "execution_count": null,
      "outputs": [
        {
          "output_type": "execute_result",
          "data": {
            "text/html": [
              "<div>\n",
              "<style scoped>\n",
              "    .dataframe tbody tr th:only-of-type {\n",
              "        vertical-align: middle;\n",
              "    }\n",
              "\n",
              "    .dataframe tbody tr th {\n",
              "        vertical-align: top;\n",
              "    }\n",
              "\n",
              "    .dataframe thead th {\n",
              "        text-align: right;\n",
              "    }\n",
              "</style>\n",
              "<table border=\"1\" class=\"dataframe\">\n",
              "  <thead>\n",
              "    <tr style=\"text-align: right;\">\n",
              "      <th></th>\n",
              "      <th>0</th>\n",
              "      <th>0</th>\n",
              "      <th>0</th>\n",
              "      <th>0</th>\n",
              "      <th>0</th>\n",
              "    </tr>\n",
              "  </thead>\n",
              "  <tbody>\n",
              "    <tr>\n",
              "      <th>0</th>\n",
              "      <td>0.841483</td>\n",
              "      <td>0.873749</td>\n",
              "      <td>0.902566</td>\n",
              "      <td>0.927822</td>\n",
              "      <td>0.949416</td>\n",
              "    </tr>\n",
              "    <tr>\n",
              "      <th>1</th>\n",
              "      <td>0.873749</td>\n",
              "      <td>0.902566</td>\n",
              "      <td>0.927822</td>\n",
              "      <td>0.949416</td>\n",
              "      <td>0.967263</td>\n",
              "    </tr>\n",
              "    <tr>\n",
              "      <th>2</th>\n",
              "      <td>0.902566</td>\n",
              "      <td>0.927822</td>\n",
              "      <td>0.949416</td>\n",
              "      <td>0.967263</td>\n",
              "      <td>0.981292</td>\n",
              "    </tr>\n",
              "    <tr>\n",
              "      <th>3</th>\n",
              "      <td>0.927822</td>\n",
              "      <td>0.949416</td>\n",
              "      <td>0.967263</td>\n",
              "      <td>0.981292</td>\n",
              "      <td>0.991449</td>\n",
              "    </tr>\n",
              "    <tr>\n",
              "      <th>4</th>\n",
              "      <td>0.949416</td>\n",
              "      <td>0.967263</td>\n",
              "      <td>0.981292</td>\n",
              "      <td>0.991449</td>\n",
              "      <td>0.997693</td>\n",
              "    </tr>\n",
              "    <tr>\n",
              "      <th>...</th>\n",
              "      <td>...</td>\n",
              "      <td>...</td>\n",
              "      <td>...</td>\n",
              "      <td>...</td>\n",
              "      <td>...</td>\n",
              "    </tr>\n",
              "    <tr>\n",
              "      <th>4992</th>\n",
              "      <td>0.477101</td>\n",
              "      <td>0.531344</td>\n",
              "      <td>0.583490</td>\n",
              "      <td>0.633333</td>\n",
              "      <td>0.680677</td>\n",
              "    </tr>\n",
              "    <tr>\n",
              "      <th>4993</th>\n",
              "      <td>0.531344</td>\n",
              "      <td>0.583490</td>\n",
              "      <td>0.633333</td>\n",
              "      <td>0.680677</td>\n",
              "      <td>0.725334</td>\n",
              "    </tr>\n",
              "    <tr>\n",
              "      <th>4994</th>\n",
              "      <td>0.583490</td>\n",
              "      <td>0.633333</td>\n",
              "      <td>0.680677</td>\n",
              "      <td>0.725334</td>\n",
              "      <td>0.767129</td>\n",
              "    </tr>\n",
              "    <tr>\n",
              "      <th>4995</th>\n",
              "      <td>0.633333</td>\n",
              "      <td>0.680677</td>\n",
              "      <td>0.725334</td>\n",
              "      <td>0.767129</td>\n",
              "      <td>0.805896</td>\n",
              "    </tr>\n",
              "    <tr>\n",
              "      <th>4996</th>\n",
              "      <td>0.680677</td>\n",
              "      <td>0.725334</td>\n",
              "      <td>0.767129</td>\n",
              "      <td>0.805896</td>\n",
              "      <td>0.841483</td>\n",
              "    </tr>\n",
              "  </tbody>\n",
              "</table>\n",
              "<p>4997 rows × 5 columns</p>\n",
              "</div>"
            ],
            "text/plain": [
              "             0         0         0         0         0\n",
              "0     0.841483  0.873749  0.902566  0.927822  0.949416\n",
              "1     0.873749  0.902566  0.927822  0.949416  0.967263\n",
              "2     0.902566  0.927822  0.949416  0.967263  0.981292\n",
              "3     0.927822  0.949416  0.967263  0.981292  0.991449\n",
              "4     0.949416  0.967263  0.981292  0.991449  0.997693\n",
              "...        ...       ...       ...       ...       ...\n",
              "4992  0.477101  0.531344  0.583490  0.633333  0.680677\n",
              "4993  0.531344  0.583490  0.633333  0.680677  0.725334\n",
              "4994  0.583490  0.633333  0.680677  0.725334  0.767129\n",
              "4995  0.633333  0.680677  0.725334  0.767129  0.805896\n",
              "4996  0.680677  0.725334  0.767129  0.805896  0.841483\n",
              "\n",
              "[4997 rows x 5 columns]"
            ]
          },
          "metadata": {
            "tags": []
          },
          "execution_count": 60
        }
      ]
    },
    {
      "cell_type": "code",
      "metadata": {
        "id": "7xmct1lkyhBt"
      },
      "source": [
        "#the input for lstm is 3d array(num_samples,num_time_steps,num_feat)\n"
      ],
      "execution_count": null,
      "outputs": []
    },
    {
      "cell_type": "code",
      "metadata": {
        "colab": {
          "base_uri": "https://localhost:8080/"
        },
        "id": "ZuYZ_dvfyhFT",
        "outputId": "5cd3d63a-2a4a-41af-dfb4-8a642a7603fa"
      },
      "source": [
        "series.shape"
      ],
      "execution_count": null,
      "outputs": [
        {
          "output_type": "execute_result",
          "data": {
            "text/plain": [
              "(4997, 5)"
            ]
          },
          "metadata": {
            "tags": []
          },
          "execution_count": 62
        }
      ]
    },
    {
      "cell_type": "code",
      "metadata": {
        "id": "Ot1Dogd21A-K"
      },
      "source": [
        "nrow=round(0.8*series.shape[0])"
      ],
      "execution_count": null,
      "outputs": []
    },
    {
      "cell_type": "code",
      "metadata": {
        "id": "2gVTxan91Lsf"
      },
      "source": [
        "train=series.iloc[:nrow,:]\n",
        "test=series.iloc[nrow:,:]"
      ],
      "execution_count": null,
      "outputs": []
    },
    {
      "cell_type": "code",
      "metadata": {
        "id": "aMVn5atE1NIO"
      },
      "source": [
        "from sklearn.utils import shuffle\n",
        "train=shuffle(train)"
      ],
      "execution_count": null,
      "outputs": []
    },
    {
      "cell_type": "code",
      "metadata": {
        "colab": {
          "base_uri": "https://localhost:8080/",
          "height": 402
        },
        "id": "KHQwJc5K1uMy",
        "outputId": "7e62e11f-fb0e-4ea4-f46d-95f699383704"
      },
      "source": [
        "train"
      ],
      "execution_count": null,
      "outputs": [
        {
          "output_type": "execute_result",
          "data": {
            "text/html": [
              "<div>\n",
              "<style scoped>\n",
              "    .dataframe tbody tr th:only-of-type {\n",
              "        vertical-align: middle;\n",
              "    }\n",
              "\n",
              "    .dataframe tbody tr th {\n",
              "        vertical-align: top;\n",
              "    }\n",
              "\n",
              "    .dataframe thead th {\n",
              "        text-align: right;\n",
              "    }\n",
              "</style>\n",
              "<table border=\"1\" class=\"dataframe\">\n",
              "  <thead>\n",
              "    <tr style=\"text-align: right;\">\n",
              "      <th></th>\n",
              "      <th>0</th>\n",
              "      <th>0</th>\n",
              "      <th>0</th>\n",
              "      <th>0</th>\n",
              "      <th>0</th>\n",
              "    </tr>\n",
              "  </thead>\n",
              "  <tbody>\n",
              "    <tr>\n",
              "      <th>2336</th>\n",
              "      <td>-0.120065</td>\n",
              "      <td>-0.182166</td>\n",
              "      <td>-0.243547</td>\n",
              "      <td>-0.303967</td>\n",
              "      <td>-0.363188</td>\n",
              "    </tr>\n",
              "    <tr>\n",
              "      <th>387</th>\n",
              "      <td>0.182166</td>\n",
              "      <td>0.243547</td>\n",
              "      <td>0.303967</td>\n",
              "      <td>0.363188</td>\n",
              "      <td>0.420975</td>\n",
              "    </tr>\n",
              "    <tr>\n",
              "      <th>2253</th>\n",
              "      <td>-0.927822</td>\n",
              "      <td>-0.949416</td>\n",
              "      <td>-0.967263</td>\n",
              "      <td>-0.981292</td>\n",
              "      <td>-0.991449</td>\n",
              "    </tr>\n",
              "    <tr>\n",
              "      <th>1510</th>\n",
              "      <td>0.998360</td>\n",
              "      <td>0.992780</td>\n",
              "      <td>0.983282</td>\n",
              "      <td>0.969904</td>\n",
              "      <td>0.952697</td>\n",
              "    </tr>\n",
              "    <tr>\n",
              "      <th>1951</th>\n",
              "      <td>-0.873749</td>\n",
              "      <td>-0.902566</td>\n",
              "      <td>-0.927822</td>\n",
              "      <td>-0.949416</td>\n",
              "      <td>-0.967263</td>\n",
              "    </tr>\n",
              "    <tr>\n",
              "      <th>...</th>\n",
              "      <td>...</td>\n",
              "      <td>...</td>\n",
              "      <td>...</td>\n",
              "      <td>...</td>\n",
              "      <td>...</td>\n",
              "    </tr>\n",
              "    <tr>\n",
              "      <th>883</th>\n",
              "      <td>-0.068090</td>\n",
              "      <td>-0.005310</td>\n",
              "      <td>0.057491</td>\n",
              "      <td>0.120065</td>\n",
              "      <td>0.182166</td>\n",
              "    </tr>\n",
              "    <tr>\n",
              "      <th>549</th>\n",
              "      <td>-0.805896</td>\n",
              "      <td>-0.841483</td>\n",
              "      <td>-0.873749</td>\n",
              "      <td>-0.902566</td>\n",
              "      <td>-0.927822</td>\n",
              "    </tr>\n",
              "    <tr>\n",
              "      <th>641</th>\n",
              "      <td>-0.420975</td>\n",
              "      <td>-0.477101</td>\n",
              "      <td>-0.531344</td>\n",
              "      <td>-0.583490</td>\n",
              "      <td>-0.633333</td>\n",
              "    </tr>\n",
              "    <tr>\n",
              "      <th>752</th>\n",
              "      <td>-0.902566</td>\n",
              "      <td>-0.927822</td>\n",
              "      <td>-0.949416</td>\n",
              "      <td>-0.967263</td>\n",
              "      <td>-0.981292</td>\n",
              "    </tr>\n",
              "    <tr>\n",
              "      <th>1625</th>\n",
              "      <td>0.540310</td>\n",
              "      <td>0.486407</td>\n",
              "      <td>0.430584</td>\n",
              "      <td>0.373061</td>\n",
              "      <td>0.314067</td>\n",
              "    </tr>\n",
              "  </tbody>\n",
              "</table>\n",
              "<p>3998 rows × 5 columns</p>\n",
              "</div>"
            ],
            "text/plain": [
              "             0         0         0         0         0\n",
              "2336 -0.120065 -0.182166 -0.243547 -0.303967 -0.363188\n",
              "387   0.182166  0.243547  0.303967  0.363188  0.420975\n",
              "2253 -0.927822 -0.949416 -0.967263 -0.981292 -0.991449\n",
              "1510  0.998360  0.992780  0.983282  0.969904  0.952697\n",
              "1951 -0.873749 -0.902566 -0.927822 -0.949416 -0.967263\n",
              "...        ...       ...       ...       ...       ...\n",
              "883  -0.068090 -0.005310  0.057491  0.120065  0.182166\n",
              "549  -0.805896 -0.841483 -0.873749 -0.902566 -0.927822\n",
              "641  -0.420975 -0.477101 -0.531344 -0.583490 -0.633333\n",
              "752  -0.902566 -0.927822 -0.949416 -0.967263 -0.981292\n",
              "1625  0.540310  0.486407  0.430584  0.373061  0.314067\n",
              "\n",
              "[3998 rows x 5 columns]"
            ]
          },
          "metadata": {
            "tags": []
          },
          "execution_count": 80
        }
      ]
    },
    {
      "cell_type": "code",
      "metadata": {
        "id": "VMarBCOt1w5w"
      },
      "source": [
        "train_x=train.iloc[:,:-1]\n",
        "train_y=train.iloc[:,-1]"
      ],
      "execution_count": null,
      "outputs": []
    },
    {
      "cell_type": "code",
      "metadata": {
        "colab": {
          "base_uri": "https://localhost:8080/"
        },
        "id": "C0GLfo-113EQ",
        "outputId": "1171b4f7-9a66-428c-c46e-83ab7246591b"
      },
      "source": [
        "train_y"
      ],
      "execution_count": null,
      "outputs": [
        {
          "output_type": "execute_result",
          "data": {
            "text/plain": [
              "2336   -0.363188\n",
              "387     0.420975\n",
              "2253   -0.991449\n",
              "1510    0.952697\n",
              "1951   -0.967263\n",
              "          ...   \n",
              "883     0.182166\n",
              "549    -0.927822\n",
              "641    -0.633333\n",
              "752    -0.981292\n",
              "1625    0.314067\n",
              "Name: 0, Length: 3998, dtype: float64"
            ]
          },
          "metadata": {
            "tags": []
          },
          "execution_count": 83
        }
      ]
    },
    {
      "cell_type": "code",
      "metadata": {
        "id": "-fVj1W2M2CIV"
      },
      "source": [
        "test_x=test.iloc[:,:-1]\n",
        "test_y=test.iloc[:,-1]"
      ],
      "execution_count": null,
      "outputs": []
    },
    {
      "cell_type": "code",
      "metadata": {
        "id": "62JWBXcG2oJ8"
      },
      "source": [
        "train_x=train_x.values\n",
        "train_y=train_y.values\n",
        "test_x=test_x.values\n",
        "test_y=test_y.values\n"
      ],
      "execution_count": null,
      "outputs": []
    },
    {
      "cell_type": "code",
      "metadata": {
        "colab": {
          "base_uri": "https://localhost:8080/"
        },
        "id": "IFDUWdk22-O-",
        "outputId": "1c8126c4-e8ef-43f1-d477-0e7fe5e0fcbf"
      },
      "source": [
        "train_x.shape\n",
        "test_x.shape"
      ],
      "execution_count": null,
      "outputs": [
        {
          "output_type": "execute_result",
          "data": {
            "text/plain": [
              "(999, 4)"
            ]
          },
          "metadata": {
            "tags": []
          },
          "execution_count": 91
        }
      ]
    },
    {
      "cell_type": "code",
      "metadata": {
        "id": "3tFB68WH2qrc"
      },
      "source": [
        "#lstm takes input in 3d\n"
      ],
      "execution_count": null,
      "outputs": []
    },
    {
      "cell_type": "code",
      "metadata": {
        "id": "34LMBxJ93McY"
      },
      "source": [
        "train_x=train_x.reshape(train_x.shape[0],train_x.shape[1],1)\n",
        "test_x=test_x.reshape(test_x.shape[0],test_x.shape[1],1)"
      ],
      "execution_count": null,
      "outputs": []
    },
    {
      "cell_type": "code",
      "metadata": {
        "colab": {
          "base_uri": "https://localhost:8080/"
        },
        "id": "iG5Y596P3mni",
        "outputId": "277f4a6e-02c5-4443-8d7c-9d8c8fd59766"
      },
      "source": [
        "train_x.shape"
      ],
      "execution_count": null,
      "outputs": [
        {
          "output_type": "execute_result",
          "data": {
            "text/plain": [
              "(3998, 4, 1)"
            ]
          },
          "metadata": {
            "tags": []
          },
          "execution_count": 93
        }
      ]
    },
    {
      "cell_type": "code",
      "metadata": {
        "id": "F-LGoVN94FUy"
      },
      "source": [
        "import pandas as pd\n",
        "import numpy as np\n",
        "from keras.layers.core import Dense, Activation, Dropout\n",
        "from keras.layers.recurrent import LSTM\n",
        "from keras.models import Sequential\n",
        "import time\n",
        "from sklearn.metrics import mean_squared_error\n",
        "from matplotlib import pyplot\n",
        "from sklearn.preprocessing import MinMaxScaler\n",
        "from sklearn.preprocessing import StandardScaler"
      ],
      "execution_count": null,
      "outputs": []
    },
    {
      "cell_type": "code",
      "metadata": {
        "colab": {
          "base_uri": "https://localhost:8080/"
        },
        "id": "Ow1OgJT73on2",
        "outputId": "77dfc190-e43e-4325-ee73-93bc27f456b1"
      },
      "source": [
        "#definign lstm model\n",
        "model=Sequential()\n",
        "model.add(LSTM(128,input_shape=(4,1),return_sequences=True))\n",
        "model.add(Dropout(0.5))\n",
        "model.add(LSTM(256))\n",
        "model.add(Dropout(0.5))\n",
        "model.add(Dense(1))\n",
        "model.add(Activation(\"linear\"))\n",
        "model.compile(loss=\"mse\", optimizer=\"adam\")\n",
        "model.summary()\n"
      ],
      "execution_count": null,
      "outputs": [
        {
          "output_type": "stream",
          "text": [
            "Model: \"sequential_5\"\n",
            "_________________________________________________________________\n",
            "Layer (type)                 Output Shape              Param #   \n",
            "=================================================================\n",
            "lstm_6 (LSTM)                (None, 4, 128)            66560     \n",
            "_________________________________________________________________\n",
            "dropout_4 (Dropout)          (None, 4, 128)            0         \n",
            "_________________________________________________________________\n",
            "lstm_7 (LSTM)                (None, 256)               394240    \n",
            "_________________________________________________________________\n",
            "dropout_5 (Dropout)          (None, 256)               0         \n",
            "_________________________________________________________________\n",
            "dense_1 (Dense)              (None, 1)                 257       \n",
            "_________________________________________________________________\n",
            "activation_1 (Activation)    (None, 1)                 0         \n",
            "=================================================================\n",
            "Total params: 461,057\n",
            "Trainable params: 461,057\n",
            "Non-trainable params: 0\n",
            "_________________________________________________________________\n"
          ],
          "name": "stdout"
        }
      ]
    },
    {
      "cell_type": "code",
      "metadata": {
        "colab": {
          "base_uri": "https://localhost:8080/"
        },
        "id": "N8vODUr_3uNx",
        "outputId": "952004cf-46d0-4243-df2e-17244ca101bc"
      },
      "source": [
        "start=time.time()\n",
        "model.fit(train_x,train_y,batch_size=512,epochs=3,validation_split=0.1)"
      ],
      "execution_count": null,
      "outputs": [
        {
          "output_type": "stream",
          "text": [
            "Epoch 1/3\n",
            "8/8 [==============================] - 6s 281ms/step - loss: 0.3940 - val_loss: 0.0404\n",
            "Epoch 2/3\n",
            "8/8 [==============================] - 1s 153ms/step - loss: 0.0474 - val_loss: 0.0313\n",
            "Epoch 3/3\n",
            "8/8 [==============================] - 1s 152ms/step - loss: 0.0291 - val_loss: 0.0369\n"
          ],
          "name": "stdout"
        },
        {
          "output_type": "execute_result",
          "data": {
            "text/plain": [
              "<tensorflow.python.keras.callbacks.History at 0x7f6f91714c10>"
            ]
          },
          "metadata": {
            "tags": []
          },
          "execution_count": 107
        }
      ]
    },
    {
      "cell_type": "code",
      "metadata": {
        "id": "8UApJWJX58C5"
      },
      "source": [
        "preds=model.predict(test_x)"
      ],
      "execution_count": null,
      "outputs": []
    },
    {
      "cell_type": "code",
      "metadata": {
        "id": "ONnt_4jB6Sfi"
      },
      "source": [
        "preds = scaler.inverse_transform(preds)"
      ],
      "execution_count": null,
      "outputs": []
    },
    {
      "cell_type": "code",
      "metadata": {
        "id": "3TrClk1E6Vcu"
      },
      "source": [
        "actuals = (test_y)"
      ],
      "execution_count": null,
      "outputs": []
    },
    {
      "cell_type": "code",
      "metadata": {
        "colab": {
          "base_uri": "https://localhost:8080/"
        },
        "id": "jsavtn046YSL",
        "outputId": "9e0f0846-fdf2-47f1-e935-36126667c811"
      },
      "source": [
        "mean_squared_error(actuals,preds)"
      ],
      "execution_count": null,
      "outputs": [
        {
          "output_type": "execute_result",
          "data": {
            "text/plain": [
              "0.03713570064727652"
            ]
          },
          "metadata": {
            "tags": []
          },
          "execution_count": 114
        }
      ]
    },
    {
      "cell_type": "code",
      "metadata": {
        "id": "wgYEoWfF6j9n"
      },
      "source": [
        "acuals=(test_y)"
      ],
      "execution_count": null,
      "outputs": []
    },
    {
      "cell_type": "code",
      "metadata": {
        "colab": {
          "base_uri": "https://localhost:8080/",
          "height": 265
        },
        "id": "APR-a8E_63-j",
        "outputId": "52e8494a-802f-4a5d-f335-10491e69870f"
      },
      "source": [
        "pyplot.plot(actuals[:50])\n",
        "pyplot.plot(preds[:50])\n",
        "pyplot.show()\n"
      ],
      "execution_count": null,
      "outputs": [
        {
          "output_type": "display_data",
          "data": {
            "image/png": "[encoded data removed]",
            "text/plain": [
              "<Figure size 432x288 with 1 Axes>"
            ]
          },
          "metadata": {
            "tags": [],
            "needs_background": "light"
          }
        }
      ]
    },
    {
      "cell_type": "code",
      "metadata": {
        "id": "H06N_uOt8GRv"
      },
      "source": [
        ""
      ],
      "execution_count": null,
      "outputs": []
    }
  ]
}